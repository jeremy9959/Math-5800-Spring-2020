{
 "cells": [
  {
   "cell_type": "code",
   "execution_count": 13,
   "metadata": {},
   "outputs": [
    {
     "name": "stdout",
     "output_type": "stream",
     "text": [
      "/home/jet08013/GitHub/Math-5800-Spring-2020\n"
     ]
    }
   ],
   "source": [
    "import torch\n",
    "from tqdm.notebook import tqdm\n",
    "%cd /home/jet08013/GitHub/Math-5800-Spring-2020/"
   ]
  },
  {
   "cell_type": "code",
   "execution_count": 14,
   "metadata": {},
   "outputs": [
    {
     "data": {
      "text/plain": [
       "True"
      ]
     },
     "execution_count": 14,
     "metadata": {},
     "output_type": "execute_result"
    }
   ],
   "source": [
    "torch.cuda.is_available()"
   ]
  },
  {
   "cell_type": "code",
   "execution_count": 15,
   "metadata": {},
   "outputs": [],
   "source": [
    "import matplotlib.pyplot as plt\n",
    "import numpy as np\n",
    "\n",
    "import torch\n",
    "import torchvision\n",
    "import torchvision.transforms as transforms\n",
    "\n",
    "import torch.nn as nn\n",
    "import torch.nn.functional as F\n",
    "import torch.optim as optim"
   ]
  },
  {
   "cell_type": "code",
   "execution_count": 16,
   "metadata": {},
   "outputs": [],
   "source": [
    "transform = transforms.Compose([transforms.ToTensor(),transforms.Normalize((.5,),(.5,))])"
   ]
  },
  {
   "cell_type": "code",
   "execution_count": 17,
   "metadata": {},
   "outputs": [],
   "source": [
    "trainset = torchvision.datasets.MNIST('./data',download=True, train=True,transform=transform)\n",
    "testset = torchvision.datasets.MNIST('./data',download=True,train=False,transform=transform)"
   ]
  },
  {
   "cell_type": "code",
   "execution_count": 18,
   "metadata": {},
   "outputs": [],
   "source": [
    "trainloader = torch.utils.data.DataLoader(trainset, batch_size=4, shuffle=True, num_workers=2)\n",
    "testloader = torch.utils.data.DataLoader(testset, batch_size=4, shuffle=False, num_workers=2)"
   ]
  },
  {
   "cell_type": "code",
   "execution_count": 19,
   "metadata": {},
   "outputs": [],
   "source": [
    "device = torch.device(\"cuda:0\")"
   ]
  },
  {
   "cell_type": "code",
   "execution_count": 35,
   "metadata": {},
   "outputs": [
    {
     "data": {
      "text/plain": [
       "Net(\n",
       "  (flatten): Flatten()\n",
       "  (linear): Linear(in_features=784, out_features=10, bias=False)\n",
       "  (soft): Softmax(dim=1)\n",
       ")"
      ]
     },
     "execution_count": 35,
     "metadata": {},
     "output_type": "execute_result"
    }
   ],
   "source": [
    "class Net(nn.Module):\n",
    "    def __init__(self):\n",
    "        super(Net, self).__init__()\n",
    "        self.flatten = nn.Flatten()\n",
    "        self.linear = nn.Linear(784,10,bias=False)\n",
    "        self.soft = nn.Softmax(dim=1)\n",
    "        \n",
    "    def forward(self, x):\n",
    "        return self.soft(self.linear(self.flatten(x)))\n",
    "\n",
    "LR = Net()\n",
    "LR.to(device)"
   ]
  },
  {
   "cell_type": "code",
   "execution_count": 36,
   "metadata": {},
   "outputs": [],
   "source": [
    "criterion = nn.CrossEntropyLoss()\n",
    "optimizer = optim.Adam(LR.parameters(), lr=.001)"
   ]
  },
  {
   "cell_type": "code",
   "execution_count": 37,
   "metadata": {},
   "outputs": [
    {
     "name": "stdout",
     "output_type": "stream",
     "text": [
      "[1,  2000] loss: 1.765\n",
      "[1,  4000] loss: 1.600\n",
      "[1,  6000] loss: 1.595\n",
      "[1,  8000] loss: 1.588\n",
      "[1, 10000] loss: 1.584\n",
      "[1, 12000] loss: 1.575\n",
      "[1, 14000] loss: 1.572\n",
      "[2,  2000] loss: 1.569\n",
      "[2,  4000] loss: 1.571\n",
      "[2,  6000] loss: 1.563\n",
      "[2,  8000] loss: 1.561\n",
      "[2, 10000] loss: 1.560\n",
      "[2, 12000] loss: 1.567\n",
      "[2, 14000] loss: 1.560\n",
      "[3,  2000] loss: 1.557\n",
      "[3,  4000] loss: 1.557\n",
      "[3,  6000] loss: 1.553\n",
      "[3,  8000] loss: 1.554\n",
      "[3, 10000] loss: 1.558\n",
      "[3, 12000] loss: 1.565\n",
      "[3, 14000] loss: 1.557\n",
      "[4,  2000] loss: 1.559\n",
      "[4,  4000] loss: 1.557\n",
      "[4,  6000] loss: 1.554\n",
      "[4,  8000] loss: 1.549\n",
      "[4, 10000] loss: 1.553\n",
      "[4, 12000] loss: 1.555\n",
      "[4, 14000] loss: 1.556\n",
      "[5,  2000] loss: 1.553\n",
      "[5,  4000] loss: 1.558\n",
      "[5,  6000] loss: 1.552\n",
      "[5,  8000] loss: 1.549\n",
      "[5, 10000] loss: 1.550\n",
      "[5, 12000] loss: 1.547\n",
      "[5, 14000] loss: 1.551\n",
      "Done\n"
     ]
    }
   ],
   "source": [
    "for epoch in range(5):\n",
    "    running_loss = 0.0\n",
    "    for i, data in enumerate(trainloader, 0):\n",
    "        inputs, labels = data[0].to(device), data[1].to(device)\n",
    "        \n",
    "        optimizer.zero_grad() # initialize gradient calculation - we will do a batch of 4\n",
    "        outputs = LR(inputs)\n",
    "        loss = criterion(outputs, labels)\n",
    "        \n",
    "        loss.backward()\n",
    "        optimizer.step()\n",
    "        \n",
    "        running_loss += loss.item()\n",
    "        if i % 2000 == 1999:    # print every 2000 mini-batches\n",
    "            print('[{:d}, {:5d}] loss: {:.3f}'.format(epoch + 1, i + 1, running_loss / 2000))\n",
    "            running_loss = 0.0\n",
    "\n",
    "print('Done')"
   ]
  },
  {
   "cell_type": "code",
   "execution_count": 38,
   "metadata": {},
   "outputs": [
    {
     "name": "stdout",
     "output_type": "stream",
     "text": [
      "0.9045\n"
     ]
    }
   ],
   "source": [
    "correct = 0\n",
    "total = 0\n",
    "with torch.no_grad():\n",
    "    for data in testloader:\n",
    "        images, labels = data[0].to(device), data[1].to(device)\n",
    "        outputs = LR(images)\n",
    "        _, pred = torch.max(outputs.data,1)\n",
    "        total+=labels.size(0)\n",
    "        correct += (pred==labels).sum().item()\n",
    "print(correct/total)"
   ]
  },
  {
   "cell_type": "code",
   "execution_count": 39,
   "metadata": {},
   "outputs": [
    {
     "data": {
      "text/plain": [
       "Linear(in_features=784, out_features=10, bias=False)"
      ]
     },
     "execution_count": 39,
     "metadata": {},
     "output_type": "execute_result"
    }
   ],
   "source": [
    "LR.linear"
   ]
  },
  {
   "cell_type": "code",
   "execution_count": 40,
   "metadata": {},
   "outputs": [
    {
     "data": {
      "text/plain": [
       "{'training': True,\n",
       " '_parameters': OrderedDict([('weight', Parameter containing:\n",
       "               tensor([[-0.0247, -0.0433, -0.0248,  ..., -0.0034,  0.0008, -0.0476],\n",
       "                       [ 0.1176,  0.0948,  0.1090,  ...,  0.0775,  0.1325,  0.0856],\n",
       "                       [-0.0578, -0.0721, -0.0433,  ..., -0.0575, -0.0565, -0.0295],\n",
       "                       ...,\n",
       "                       [ 0.0535,  0.0316,  0.0174,  ...,  0.0042,  0.0065,  0.0024],\n",
       "                       [-0.0859, -0.0835, -0.0891,  ..., -0.0913, -0.0544, -0.0726],\n",
       "                       [-0.0125,  0.0039,  0.0108,  ..., -0.0028, -0.0196, -0.0118]],\n",
       "                      device='cuda:0', requires_grad=True)),\n",
       "              ('bias', None)]),\n",
       " '_buffers': OrderedDict(),\n",
       " '_backward_hooks': OrderedDict(),\n",
       " '_forward_hooks': OrderedDict(),\n",
       " '_forward_pre_hooks': OrderedDict(),\n",
       " '_state_dict_hooks': OrderedDict(),\n",
       " '_load_state_dict_pre_hooks': OrderedDict(),\n",
       " '_modules': OrderedDict(),\n",
       " 'in_features': 784,\n",
       " 'out_features': 10}"
      ]
     },
     "execution_count": 40,
     "metadata": {},
     "output_type": "execute_result"
    }
   ],
   "source": [
    "vars(LR.linear)"
   ]
  },
  {
   "cell_type": "code",
   "execution_count": 41,
   "metadata": {},
   "outputs": [],
   "source": [
    "filters = LR.linear._parameters['weight'].cpu().detach()"
   ]
  },
  {
   "cell_type": "code",
   "execution_count": 42,
   "metadata": {},
   "outputs": [],
   "source": [
    "images = [filters[i,:].reshape(28,28) for i in range(10)]\n"
   ]
  },
  {
   "cell_type": "code",
   "execution_count": 57,
   "metadata": {},
   "outputs": [
    {
     "ename": "TypeError",
     "evalue": "can't convert CUDA tensor to numpy. Use Tensor.cpu() to copy the tensor to host memory first.",
     "output_type": "error",
     "traceback": [
      "\u001b[0;31m---------------------------------------------------------------------------\u001b[0m",
      "\u001b[0;31mTypeError\u001b[0m                                 Traceback (most recent call last)",
      "\u001b[0;32m<ipython-input-57-30d24a0ef781>\u001b[0m in \u001b[0;36m<module>\u001b[0;34m\u001b[0m\n\u001b[1;32m      2\u001b[0m \u001b[0mplt\u001b[0m\u001b[0;34m.\u001b[0m\u001b[0mfigure\u001b[0m\u001b[0;34m(\u001b[0m\u001b[0mfigsize\u001b[0m\u001b[0;34m=\u001b[0m\u001b[0;34m(\u001b[0m\u001b[0;36m10\u001b[0m\u001b[0;34m,\u001b[0m\u001b[0;36m10\u001b[0m\u001b[0;34m)\u001b[0m\u001b[0;34m)\u001b[0m\u001b[0;34m\u001b[0m\u001b[0;34m\u001b[0m\u001b[0m\n\u001b[1;32m      3\u001b[0m \u001b[0;32mfor\u001b[0m \u001b[0mi\u001b[0m \u001b[0;32min\u001b[0m \u001b[0mrange\u001b[0m\u001b[0;34m(\u001b[0m\u001b[0;36m10\u001b[0m\u001b[0;34m)\u001b[0m\u001b[0;34m:\u001b[0m\u001b[0;34m\u001b[0m\u001b[0;34m\u001b[0m\u001b[0m\n\u001b[0;32m----> 4\u001b[0;31m     \u001b[0maxes\u001b[0m\u001b[0;34m[\u001b[0m\u001b[0mi\u001b[0m\u001b[0;34m//\u001b[0m\u001b[0;36m5\u001b[0m\u001b[0;34m,\u001b[0m\u001b[0mi\u001b[0m\u001b[0;34m%\u001b[0m\u001b[0;36m5\u001b[0m\u001b[0;34m]\u001b[0m\u001b[0;34m.\u001b[0m\u001b[0mimshow\u001b[0m\u001b[0;34m(\u001b[0m\u001b[0mimages\u001b[0m\u001b[0;34m[\u001b[0m\u001b[0mi\u001b[0m\u001b[0;34m]\u001b[0m\u001b[0;34m.\u001b[0m\u001b[0mnumpy\u001b[0m\u001b[0;34m(\u001b[0m\u001b[0;34m)\u001b[0m\u001b[0;34m)\u001b[0m\u001b[0;34m\u001b[0m\u001b[0;34m\u001b[0m\u001b[0m\n\u001b[0m",
      "\u001b[0;31mTypeError\u001b[0m: can't convert CUDA tensor to numpy. Use Tensor.cpu() to copy the tensor to host memory first."
     ]
    },
    {
     "data": {
      "image/png": "[encoded data removed]",
      "text/plain": [
       "<Figure size 432x288 with 10 Axes>"
      ]
     },
     "metadata": {
      "needs_background": "light"
     },
     "output_type": "display_data"
    },
    {
     "data": {
      "text/plain": [
       "<Figure size 720x720 with 0 Axes>"
      ]
     },
     "metadata": {},
     "output_type": "display_data"
    }
   ],
   "source": [
    "fig, axes = plt.subplots(2,5)\n",
    "plt.figure(figsize=(10,10))\n",
    "for i in range(10):\n",
    "    axes[i//5,i%5].imshow(images[i].numpy())"
   ]
  },
  {
   "cell_type": "code",
   "execution_count": 48,
   "metadata": {},
   "outputs": [
    {
     "name": "stdout",
     "output_type": "stream",
     "text": [
      "Net(\n",
      "  (flatten): Flatten()\n",
      "  (linear): Linear(in_features=784, out_features=200, bias=False)\n",
      "  (hidden): Linear(in_features=200, out_features=10, bias=False)\n",
      ")\n"
     ]
    }
   ],
   "source": [
    "#No Softmax layer \n",
    "class Net(nn.Module):\n",
    "    def __init__(self):\n",
    "        super(Net, self).__init__()\n",
    "        self.flatten = nn.Flatten()\n",
    "        self.linear = nn.Linear(784,200,bias=False)\n",
    "        self.hidden = nn.Linear(200,10,bias=False)\n",
    "        \n",
    "        \n",
    "    def forward(self, x):\n",
    "        flat = self.flatten(x)\n",
    "        lin = self.linear(flat)\n",
    "        hid = self.hidden(F.relu(lin))\n",
    "        return hid\n",
    "\n",
    "MLP = Net()\n",
    "MLP.to(device)\n",
    "print(MLP)        "
   ]
  },
  {
   "cell_type": "code",
   "execution_count": 46,
   "metadata": {},
   "outputs": [],
   "source": [
    "criterion = nn.CrossEntropyLoss()\n",
    "optimizer = optim.Adam(MLP.parameters(), lr=.001)\n",
    "\n",
    "for epoch in range(3):\n",
    "    running_loss = 0.0\n",
    "    for i, data in enumerate(trainloader, 0):\n",
    "        inputs, labels = data[0].to(device), data[1].to(device)\n",
    "        \n",
    "        optimizer.zero_grad() # initialize gradient calculation - we will do a batch of 4\n",
    "        outputs = MLP(inputs)\n",
    "        loss = criterion(outputs, labels)\n",
    "        \n",
    "        loss.backward()\n",
    "        optimizer.step()\n",
    "        \n",
    "        running_loss += loss.item()\n",
    "        if i % 2000 == 1999:    # print every 2000 mini-batches\n",
    "            print('[{:d}, {:5d}] loss: {:.3f}'.format(epoch + 1, i + 1, running_loss / 2000))\n",
    "            running_loss = 0.0\n",
    "\n",
    "print('Done')"
   ]
  },
  {
   "cell_type": "code",
   "execution_count": 47,
   "metadata": {},
   "outputs": [
    {
     "name": "stdout",
     "output_type": "stream",
     "text": [
      "0.9569\n"
     ]
    }
   ],
   "source": [
    "correct = 0\n",
    "total = 0\n",
    "with torch.no_grad():\n",
    "    for data in testloader:\n",
    "        images, labels = data[0].to(device), data[1].to(device)\n",
    "        outputs = MLP(images)\n",
    "        _, pred = torch.max(outputs.data,1)\n",
    "        total+=labels.size(0)\n",
    "        correct += (pred==labels).sum().item()\n",
    "print(correct/total)"
   ]
  },
  {
   "cell_type": "code",
   "execution_count": 66,
   "metadata": {},
   "outputs": [
    {
     "name": "stdout",
     "output_type": "stream",
     "text": [
      "Net(\n",
      "  (flatten): Flatten()\n",
      "  (linear): Linear(in_features=784, out_features=200, bias=False)\n",
      "  (extra): Linear(in_features=200, out_features=100, bias=False)\n",
      "  (hidden): Linear(in_features=100, out_features=10, bias=False)\n",
      ")\n"
     ]
    }
   ],
   "source": [
    "#No Softmax layer \n",
    "class Net(nn.Module):\n",
    "    def __init__(self):\n",
    "        super(Net, self).__init__()\n",
    "        self.flatten = nn.Flatten()\n",
    "        self.linear = nn.Linear(784,200,bias=False)\n",
    "        self.extra = nn.Linear(200,100,bias=False)\n",
    "        self.hidden = nn.Linear(100,10,bias=False)\n",
    "        \n",
    "        \n",
    "    def forward(self, x):\n",
    "        flat = self.flatten(x)\n",
    "        lin = self.linear(flat)\n",
    "        extra = self.extra(F.relu(lin))\n",
    "        hid = self.hidden(F.relu(extra))\n",
    "        return hid\n",
    "\n",
    "MMLP = Net()\n",
    "MMLP.to(device)\n",
    "print(MMLP)        "
   ]
  },
  {
   "cell_type": "code",
   "execution_count": 69,
   "metadata": {},
   "outputs": [
    {
     "name": "stdout",
     "output_type": "stream",
     "text": [
      "[1,  2000] loss: 0.170\n",
      "[1,  4000] loss: 0.163\n",
      "[1,  6000] loss: 0.179\n",
      "[1,  8000] loss: 0.145\n",
      "[1, 10000] loss: 0.152\n",
      "[1, 12000] loss: 0.148\n",
      "[1, 14000] loss: 0.150\n",
      "[2,  2000] loss: 0.143\n",
      "[2,  4000] loss: 0.125\n",
      "[2,  6000] loss: 0.144\n",
      "[2,  8000] loss: 0.132\n",
      "[2, 10000] loss: 0.146\n",
      "[2, 12000] loss: 0.155\n",
      "[2, 14000] loss: 0.143\n",
      "[3,  2000] loss: 0.126\n",
      "[3,  4000] loss: 0.126\n",
      "[3,  6000] loss: 0.136\n",
      "[3,  8000] loss: 0.120\n",
      "[3, 10000] loss: 0.143\n",
      "[3, 12000] loss: 0.138\n",
      "[3, 14000] loss: 0.147\n",
      "[4,  2000] loss: 0.119\n",
      "[4,  4000] loss: 0.123\n",
      "[4,  6000] loss: 0.147\n",
      "[4,  8000] loss: 0.129\n",
      "[4, 10000] loss: 0.137\n",
      "[4, 12000] loss: 0.132\n",
      "[4, 14000] loss: 0.142\n",
      "[5,  2000] loss: 0.112\n",
      "[5,  4000] loss: 0.106\n",
      "[5,  6000] loss: 0.114\n",
      "[5,  8000] loss: 0.121\n",
      "[5, 10000] loss: 0.124\n",
      "[5, 12000] loss: 0.132\n",
      "[5, 14000] loss: 0.134\n",
      "Done\n"
     ]
    }
   ],
   "source": [
    "criterion = nn.CrossEntropyLoss()\n",
    "optimizer = optim.Adam(MMLP.parameters(), lr=.001)\n",
    "\n",
    "for epoch in range(5):\n",
    "    running_loss = 0.0\n",
    "    for i, data in enumerate(trainloader, 0):\n",
    "        inputs, labels = data[0].to(device), data[1].to(device)\n",
    "        \n",
    "        optimizer.zero_grad() # initialize gradient calculation - we will do a batch of 4\n",
    "        outputs = MMLP(inputs)\n",
    "        loss = criterion(outputs, labels)\n",
    "        \n",
    "        loss.backward()\n",
    "        optimizer.step()\n",
    "        \n",
    "        running_loss += loss.item()\n",
    "        if i % 2000 == 1999:    # print every 2000 mini-batches\n",
    "            print('[{:d}, {:5d}] loss: {:.3f}'.format(epoch + 1, i + 1, running_loss / 2000))\n",
    "            running_loss = 0.0\n",
    "\n",
    "print('Done')"
   ]
  },
  {
   "cell_type": "code",
   "execution_count": 70,
   "metadata": {},
   "outputs": [
    {
     "name": "stdout",
     "output_type": "stream",
     "text": [
      "0.9567\n"
     ]
    }
   ],
   "source": [
    "correct = 0\n",
    "total = 0\n",
    "with torch.no_grad():\n",
    "    for data in testloader:\n",
    "        images, labels = data[0].to(device), data[1].to(device)\n",
    "        outputs = MMLP(images)\n",
    "        _, pred = torch.max(outputs.data,1)\n",
    "        total+=labels.size(0)\n",
    "        correct += (pred==labels).sum().item()\n",
    "print(correct/total)"
   ]
  },
  {
   "cell_type": "code",
   "execution_count": null,
   "metadata": {},
   "outputs": [],
   "source": []
  }
 ],
 "metadata": {
  "kernelspec": {
   "display_name": "Python 3",
   "language": "python",
   "name": "python3"
  },
  "language_info": {
   "codemirror_mode": {
    "name": "ipython",
    "version": 3
   },
   "file_extension": ".py",
   "mimetype": "text/x-python",
   "name": "python",
   "nbconvert_exporter": "python",
   "pygments_lexer": "ipython3",
   "version": "3.7.6"
  }
 },
 "nbformat": 4,
 "nbformat_minor": 4
}
