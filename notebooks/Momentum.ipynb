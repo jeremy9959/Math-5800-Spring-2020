{
 "cells": [
  {
   "cell_type": "code",
   "execution_count": null,
   "metadata": {},
   "outputs": [],
   "source": [
    "%setup\n"
   ]
  },
  {
   "cell_type": "code",
   "execution_count": null,
   "metadata": {},
   "outputs": [],
   "source": [
    "from bokeh.palettes import Category10"
   ]
  },
  {
   "cell_type": "markdown",
   "metadata": {},
   "source": [
    "## Momentum and Gradient Descent\n",
    "\n",
    "We continue our discussion of the paper\n",
    "\n",
    "> [Why Momentum Really Works](https://distill.pub/2017/momentum)\n",
    "\n",
    "See also the prior notes on the first part of this paper:\n",
    "\n",
    "> [Gradient Descent](./GradientDescent.html)\n"
   ]
  },
  {
   "cell_type": "markdown",
   "metadata": {},
   "source": [
    "We continue with the analysis of the quadratic function $f(w) = -b^{\\intercal}w + \\frac{1}{2}w^{\\intercal}Aw$, with \n",
    "$A = Q\\Lambda Q^{\\intercal}$ and $\\Lambda$ diagonal with eigenvalues $\\lambda_1\\le \\lambda_2\\le\\cdots\\le\\lambda_{n}$.\n",
    "\n"
   ]
  },
  {
   "cell_type": "markdown",
   "metadata": {},
   "source": [
    "The diagonalized coordinates $x$ are given by $x = Q(w-w_{*})$ where $w_{*}=A^{-1}b$ is the minimum point of the function. \n",
    "For each of the diagonal coordinates $x_{i}$ the quadratic function is\n",
    "$$\n",
    "f(x_{i})=\\frac{1}{2}\\lambda_{i}x_{i}^2\n",
    "$$\n",
    "and the gradient $f'(x_{i})=\\lambda x_{i}$."
   ]
  },
  {
   "cell_type": "markdown",
   "metadata": {},
   "source": [
    "The iterative scheme for momentum (in the original $w$ coordinates) involves\n",
    "introducing a sequence of variables $z_{i}^{(k)}$ and using the recursion:\n"
   ]
  },
  {
   "cell_type": "markdown",
   "metadata": {},
   "source": [
    "$$\\begin{aligned}\n",
    "z^{(k+1)} &= \\beta z^{(k)} + \\nabla f(w^{(k)}) \\\\\n",
    "w^{(k+1)} &= w^{(k)} -\\alpha z^{(k+1)} \\\\\n",
    "\\end{aligned}\n",
    "$$"
   ]
  },
  {
   "cell_type": "markdown",
   "metadata": {},
   "source": [
    "To interpret this, let $z^{(k+1)}$ represent the velocity at step $k$, so the second equation updates $w$ by a step of duration $\\alpha$ at speed $z^{(k+1)}$.\n",
    "\n",
    "The first equation then updates the speed by adding a multiple of the prior speed to the gradient.  \n",
    "\n"
   ]
  },
  {
   "cell_type": "markdown",
   "metadata": {},
   "source": [
    "In the diagonal coordinates, these equations become \n",
    "\n",
    "$$\\begin{aligned}\n",
    "y^{(k+1)} &= \\beta y^{(k)} + \\lambda x^{(k)}\\\\\n",
    "x^{(k+1)} &= x^{(k)} - \\alpha y^{(k+1)}\n",
    "\\end{aligned}\n",
    "$$\n",
    "\n",
    "or in matrix form\n",
    "\n",
    "$$\n",
    "\\left[\\begin{matrix}y^{(k+1)} \\\\ x^{(k+1)}\\end{matrix}\\right]\n",
    "=\n",
    "\\left(\\begin{matrix} \\beta & \\lambda \\\\ -\\alpha\\beta & 1-\\alpha\\lambda\\end{matrix}\\right)\\left[\\begin{matrix}y^{(k)} \\\\ x^{(k)}\\end{matrix}\\right]\n",
    "$$"
   ]
  },
  {
   "cell_type": "markdown",
   "metadata": {},
   "source": [
    "This is a discrete dynamical system, or a Markov chain.  $\\lambda$ is fixed, and we can adjust $\\beta$ and $\\alpha$ to optimize the rate at which $x$ goes to zero.  As we expect, the dynamics of this are controlled by the eigenvalues of the matrix.  In a diagonal basis, with eigenvalues $r_1$ and $r_2$,\n",
    "the iteration amounts to exponential growth $r_i^n$ for each $i$.  So we will have convergence provided\n",
    "both eigenvalues have absolute value $<1$.\n",
    "\n",
    "Working out when this happens is a little bit tricky as an algebra problem.  Notice that the characteristic polynomial of this matrix is\n",
    "$$\n",
    "T^2-(\\beta+1-\\alpha\\lambda)T+\\beta.\n",
    "$$\n",
    "\n",
    "Let's let $u=\\alpha\\lambda$.  Then the discriminant of the polynomial is\n",
    "$$\\begin{aligned}\n",
    "\\Delta &= (\\beta+1-u)^2-4\\beta = \\beta^2+1+u^2-2u\\beta-2u+2\\beta  - 4\\beta \\\\\n",
    "&= (\\beta-u)^2-2(\\beta+u)+1\n",
    "\\end{aligned}\n",
    "$$\n"
   ]
  },
  {
   "cell_type": "markdown",
   "metadata": {},
   "source": [
    "For further simplicity, let $a=\\beta-u$ and $b=\\beta+u$ so $\\Delta=a^2-2b+1$ and the characteristic polynomial is $T^2-(a+1)T+(a+b)/2$."
   ]
  },
  {
   "cell_type": "markdown",
   "metadata": {},
   "source": [
    "Now if $\\Delta<0$, the two eigenvalues have the same absolute value and their product is $\\beta=(a+b)/2$.\n",
    "So one condition is\n",
    "$$\\begin{aligned}\n",
    "b &>\\frac{1}{2}(a^2+1)\\\\\n",
    "b &< 2-a \\\\\n",
    "\\end{aligned}\n",
    "$$\n"
   ]
  },
  {
   "cell_type": "code",
   "execution_count": null,
   "metadata": {},
   "outputs": [],
   "source": [
    "a=np.linspace(-5,5,100)\n",
    "b=(1/2)*(a**2+1)\n",
    "f=figure()\n",
    "f.line(x=a,y=b)\n",
    "f.line(x=a,y=2-a)\n",
    "f.title.text=\"Above Parabola and below Line, Two complex roots of abs<1\"\n",
    "f.xaxis.axis_label='a'\n",
    "f.yaxis.axis_label='b'\n",
    "show(f)"
   ]
  },
  {
   "cell_type": "markdown",
   "metadata": {},
   "source": [
    "\n",
    "If $\\Delta>0$ there are two real roots and they are:\n",
    "$$\n",
    "((a+1)\\pm \\sqrt{a^2-2b+1})/2\n",
    "$$"
   ]
  },
  {
   "cell_type": "markdown",
   "metadata": {},
   "source": [
    "The condition we want is then\n",
    "$$\n",
    "(a+1)\\pm \\sqrt{a^2-2b+1}<2,\n",
    "$$\n",
    "which yields $a<b$, and\n",
    "$$\n",
    "(a+1)\\pm\\sqrt{a^2-2b+1}>-2,\n",
    "$$\n",
    "which yields\n",
    "$$\n",
    "b>-4-3a\n",
    "$$"
   ]
  },
  {
   "cell_type": "code",
   "execution_count": null,
   "metadata": {},
   "outputs": [],
   "source": [
    "f=figure()\n",
    "f.line(x=a,y=b)\n",
    "f.line(x=a,y=2-a)\n",
    "f.line(x=a,y=a)\n",
    "f.line(x=a,y=-4-3*a)\n",
    "f.xaxis.axis_label ='a'\n",
    "f.yaxis.axis_label = 'b'\n",
    "f.title.text =\"in the triangle, below the parabola, two real roots of abs<1\"\n",
    "show(f)"
   ]
  },
  {
   "cell_type": "markdown",
   "metadata": {},
   "source": [
    "In the picture above, the triangular region is the region of convergence for the algorithm.\n",
    "Translating back into the original coordinates yields the conditions:\n",
    "$$\n",
    "0\\le\\beta<1\n",
    "$$\n",
    "and $$0<\\alpha\\lambda<2\\beta+2.$$\n",
    "\n",
    "Notice that we can know let $\\alpha\\lambda$ get nearly to $2$ without losing convergence,\n",
    "by choosing $\\beta$ close to $1$."
   ]
  },
  {
   "cell_type": "markdown",
   "metadata": {},
   "source": [
    "The optimal situation is when the two roots are real and equal.  This happens when the discriminant $\\Delta=0$, or when $\\beta=(1-\\sqrt{\\alpha\\lambda})^2$.  The two eigenvalues,\n",
    "which control the rate of convergence, are $1-\\sqrt{\\alpha\\lambda}$.  Comparing this to gradient descent (where the rate was $1-\\alpha\\lambda$), we get an improvement!"
   ]
  },
  {
   "cell_type": "markdown",
   "metadata": {},
   "source": [
    "Let's look at a particular example, with $\\lambda=0.2$, $\\alpha=1$, and varying $\\beta$ to see how the dynamics change."
   ]
  },
  {
   "cell_type": "code",
   "execution_count": null,
   "metadata": {},
   "outputs": [],
   "source": [
    "def momentum(x0,alpha, beta, lam, N):\n",
    "    '''return arrays xs, ys of length N containing x, y iterates'''\n",
    "    ys=np.zeros(N)\n",
    "    xs=np.zeros(N)\n",
    "    xs[0]=x0\n",
    "    for i in range(1,N):\n",
    "        ys[i] = beta*ys[i-1]+lam*xs[i-1]\n",
    "        xs[i] = xs[i-1] -alpha*ys[i]\n",
    "    return xs, ys    "
   ]
  },
  {
   "cell_type": "code",
   "execution_count": null,
   "metadata": {},
   "outputs": [],
   "source": [
    "f=figure()\n",
    "f.xaxis.axis_label='Iterations'\n",
    "f.yaxis.axis_label = 'Position'\n",
    "f.title.text='Comparison of momentum'\n",
    "N=25\n",
    "alpha = 1\n",
    "lam=.2\n",
    "xcrit,ycrit = momentum(1,alpha,(1-np.sqrt(alpha*lam))**2,lam,N)\n",
    "\n",
    "f.line(x=range(N),y=xcrit,line_dash='dashed',line_color='black',legend_label='critical value')\n",
    "xdescent,ydescent=momentum(1,alpha,0,lam,N)\n",
    "f.line(x=range(N),y=xdescent,line_color='black',legend_label='gradient descent',line_dash='dotted')\n",
    "for i,beta in enumerate(np.arange(.2,1,.2)):\n",
    "    delta = (beta+1-alpha*lam)**2-4*beta\n",
    "    xs,ys=momentum(1,alpha,beta,lam,N)\n",
    "    f.line(x=range(N),y=xs,color=Category10[10][i+1],legend_label='beta={:.2f},delta={:.2f}'.format(beta,delta))\n",
    "show(f)"
   ]
  },
  {
   "cell_type": "markdown",
   "metadata": {},
   "source": [
    "Now we have the problem of optimizing parameters for a collection of different eigenvectors $\\lambda_1,\\ldots, \\lambda_n$.  Following the same logic as before, the optimum $\\alpha$ occurs when the two extremes give opposite rates:\n",
    "$$\n",
    "(1-\\sqrt{\\alpha\\lambda_1})=-(1-\\sqrt{\\alpha\\lambda_n})\n",
    "$$\n",
    "or\n",
    "$$\n",
    "\\alpha = \\left(\\frac{2}{\\sqrt{\\lambda_1}+\\sqrt{\\lambda_n}}\\right)^2.\n",
    "$$\n"
   ]
  },
  {
   "cell_type": "markdown",
   "metadata": {},
   "source": [
    "For $\\beta$, we need to maximize  $(1-\\sqrt{\\alpha\\lambda})^2$ for this $\\alpha$, and that\n",
    "occurs when $\\lambda=\\lambda_1$ and\n",
    "$$\n",
    "\\beta = \\left(\\frac{\\sqrt{\\lambda_n}-\\sqrt{\\lambda_1}}{\\sqrt{\\lambda_n}+\\sqrt{\\lambda_1}}\\right)^2\n",
    "$$"
   ]
  },
  {
   "cell_type": "markdown",
   "metadata": {},
   "source": [
    "In our example from gradient descent, we have $f=.2x_1^2+2x_2^2+5x_3^2$, so the optimal\n",
    "values are as follows:"
   ]
  },
  {
   "cell_type": "code",
   "execution_count": null,
   "metadata": {},
   "outputs": [],
   "source": [
    "alpha = (2/(np.sqrt(.2)+np.sqrt(5)))**2"
   ]
  },
  {
   "cell_type": "code",
   "execution_count": null,
   "metadata": {},
   "outputs": [],
   "source": [
    "beta = ((np.sqrt(5)-np.sqrt(.2))/(np.sqrt(5)+np.sqrt(.2)))**2"
   ]
  },
  {
   "cell_type": "code",
   "execution_count": null,
   "metadata": {},
   "outputs": [],
   "source": [
    "alpha, beta"
   ]
  },
  {
   "cell_type": "code",
   "execution_count": null,
   "metadata": {},
   "outputs": [],
   "source": [
    "f=figure()\n",
    "f.xaxis.axis_label='Iterations'\n",
    "f.yaxis.axis_label = 'Position'\n",
    "f.title.text='Behavior of three eigenspaces and the function'\n",
    "alpha=.55555\n",
    "beta=.444444\n",
    "values = np.zeros(N)\n",
    "for i,lam in enumerate([.2,2,5]):\n",
    "    delta = (beta+1-alpha*lam)**2-4*beta\n",
    "    xs,ys=momentum(1,alpha,beta,lam,N)\n",
    "    values+= np.square(xs)*lam\n",
    "    f.line(x=range(N),y=xs,color=Category10[3][i],legend_label='lam={:.2f},delta={:.2f}'.format(lam,delta))\n",
    "f.line(x=range(N),y=values,color='black',legend_label='function')\n",
    "show(f)"
   ]
  },
  {
   "cell_type": "markdown",
   "metadata": {},
   "source": [
    "Note the oscillations.   This is an artifact of the initial conditions, which aren't aligned with the eigenspaces.  Since the matrix has repeated eigenvalues, need not act on the space like multiplication by $\\lambda$ it except in the limit.  \n",
    "\n",
    "*Remark:* Think about the Jordan normal form."
   ]
  },
  {
   "cell_type": "code",
   "execution_count": null,
   "metadata": {},
   "outputs": [],
   "source": [
    "f=figure()\n",
    "f.xaxis.axis_label='Iterations'\n",
    "f.yaxis.axis_label = 'Position'\n",
    "f.title.text='Behavior of three eigenspaces and the function'\n",
    "alpha=.55555\n",
    "beta=.75\n",
    "values = np.zeros(N)\n",
    "for i,lam in enumerate([.2,2,5]):\n",
    "    delta = (beta+1-alpha*lam)**2-4*beta\n",
    "    xs,ys=momentum(1,alpha,beta,lam,N)\n",
    "    values+= np.square(xs)*lam\n",
    "    f.line(x=range(N),y=xs,color=Category10[3][i],legend_label='lam={:.2f},delta={:.2f}'.format(lam,delta))\n",
    "f.line(x=range(N),y=values,color='black',legend_label='function')\n",
    "show(f)"
   ]
  },
  {
   "cell_type": "code",
   "execution_count": null,
   "metadata": {},
   "outputs": [],
   "source": []
  }
 ],
 "metadata": {
  "kernelspec": {
   "display_name": "Python 3",
   "language": "python",
   "name": "python3"
  },
  "language_info": {
   "codemirror_mode": {
    "name": "ipython",
    "version": 3
   },
   "file_extension": ".py",
   "mimetype": "text/x-python",
   "name": "python",
   "nbconvert_exporter": "python",
   "pygments_lexer": "ipython3",
   "version": "3.7.7"
  }
 },
 "nbformat": 4,
 "nbformat_minor": 4
}
