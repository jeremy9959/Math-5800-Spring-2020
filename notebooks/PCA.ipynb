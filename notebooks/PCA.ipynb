{
 "cells": [
  {
   "cell_type": "markdown",
   "metadata": {},
   "source": [
    "## Variance and Principal Component Analysis"
   ]
  },
  {
   "cell_type": "code",
   "execution_count": 11,
   "metadata": {},
   "outputs": [
    {
     "data": {
      "text/html": [
       "\n",
       "    <div class=\"bk-root\">\n",
       "        <a href=\"https://bokeh.pydata.org\" target=\"_blank\" class=\"bk-logo bk-logo-small bk-logo-notebook\"></a>\n",
       "        <span id=\"1291\">Loading BokehJS ...</span>\n",
       "    </div>"
      ]
     },
     "metadata": {},
     "output_type": "display_data"
    },
    {
     "data": {
      "application/javascript": [
       "\n",
       "(function(root) {\n",
       "  function now() {\n",
       "    return new Date();\n",
       "  }\n",
       "\n",
       "  var force = true;\n",
       "\n",
       "  if (typeof root._bokeh_onload_callbacks === \"undefined\" || force === true) {\n",
       "    root._bokeh_onload_callbacks = [];\n",
       "    root._bokeh_is_loading = undefined;\n",
       "  }\n",
       "\n",
       "  var JS_MIME_TYPE = 'application/javascript';\n",
       "  var HTML_MIME_TYPE = 'text/html';\n",
       "  var EXEC_MIME_TYPE = 'application/vnd.bokehjs_exec.v0+json';\n",
       "  var CLASS_NAME = 'output_bokeh rendered_html';\n",
       "\n",
       "  /**\n",
       "   * Render data to the DOM node\n",
       "   */\n",
       "  function render(props, node) {\n",
       "    var script = document.createElement(\"script\");\n",
       "    node.appendChild(script);\n",
       "  }\n",
       "\n",
       "  /**\n",
       "   * Handle when an output is cleared or removed\n",
       "   */\n",
       "  function handleClearOutput(event, handle) {\n",
       "    var cell = handle.cell;\n",
       "\n",
       "    var id = cell.output_area._bokeh_element_id;\n",
       "    var server_id = cell.output_area._bokeh_server_id;\n",
       "    // Clean up Bokeh references\n",
       "    if (id != null && id in Bokeh.index) {\n",
       "      Bokeh.index[id].model.document.clear();\n",
       "      delete Bokeh.index[id];\n",
       "    }\n",
       "\n",
       "    if (server_id !== undefined) {\n",
       "      // Clean up Bokeh references\n",
       "      var cmd = \"from bokeh.io.state import curstate; print(curstate().uuid_to_server['\" + server_id + \"'].get_sessions()[0].document.roots[0]._id)\";\n",
       "      cell.notebook.kernel.execute(cmd, {\n",
       "        iopub: {\n",
       "          output: function(msg) {\n",
       "            var id = msg.content.text.trim();\n",
       "            if (id in Bokeh.index) {\n",
       "              Bokeh.index[id].model.document.clear();\n",
       "              delete Bokeh.index[id];\n",
       "            }\n",
       "          }\n",
       "        }\n",
       "      });\n",
       "      // Destroy server and session\n",
       "      var cmd = \"import bokeh.io.notebook as ion; ion.destroy_server('\" + server_id + \"')\";\n",
       "      cell.notebook.kernel.execute(cmd);\n",
       "    }\n",
       "  }\n",
       "\n",
       "  /**\n",
       "   * Handle when a new output is added\n",
       "   */\n",
       "  function handleAddOutput(event, handle) {\n",
       "    var output_area = handle.output_area;\n",
       "    var output = handle.output;\n",
       "\n",
       "    // limit handleAddOutput to display_data with EXEC_MIME_TYPE content only\n",
       "    if ((output.output_type != \"display_data\") || (!output.data.hasOwnProperty(EXEC_MIME_TYPE))) {\n",
       "      return\n",
       "    }\n",
       "\n",
       "    var toinsert = output_area.element.find(\".\" + CLASS_NAME.split(' ')[0]);\n",
       "\n",
       "    if (output.metadata[EXEC_MIME_TYPE][\"id\"] !== undefined) {\n",
       "      toinsert[toinsert.length - 1].firstChild.textContent = output.data[JS_MIME_TYPE];\n",
       "      // store reference to embed id on output_area\n",
       "      output_area._bokeh_element_id = output.metadata[EXEC_MIME_TYPE][\"id\"];\n",
       "    }\n",
       "    if (output.metadata[EXEC_MIME_TYPE][\"server_id\"] !== undefined) {\n",
       "      var bk_div = document.createElement(\"div\");\n",
       "      bk_div.innerHTML = output.data[HTML_MIME_TYPE];\n",
       "      var script_attrs = bk_div.children[0].attributes;\n",
       "      for (var i = 0; i < script_attrs.length; i++) {\n",
       "        toinsert[toinsert.length - 1].firstChild.setAttribute(script_attrs[i].name, script_attrs[i].value);\n",
       "      }\n",
       "      // store reference to server id on output_area\n",
       "      output_area._bokeh_server_id = output.metadata[EXEC_MIME_TYPE][\"server_id\"];\n",
       "    }\n",
       "  }\n",
       "\n",
       "  function register_renderer(events, OutputArea) {\n",
       "\n",
       "    function append_mime(data, metadata, element) {\n",
       "      // create a DOM node to render to\n",
       "      var toinsert = this.create_output_subarea(\n",
       "        metadata,\n",
       "        CLASS_NAME,\n",
       "        EXEC_MIME_TYPE\n",
       "      );\n",
       "      this.keyboard_manager.register_events(toinsert);\n",
       "      // Render to node\n",
       "      var props = {data: data, metadata: metadata[EXEC_MIME_TYPE]};\n",
       "      render(props, toinsert[toinsert.length - 1]);\n",
       "      element.append(toinsert);\n",
       "      return toinsert\n",
       "    }\n",
       "\n",
       "    /* Handle when an output is cleared or removed */\n",
       "    events.on('clear_output.CodeCell', handleClearOutput);\n",
       "    events.on('delete.Cell', handleClearOutput);\n",
       "\n",
       "    /* Handle when a new output is added */\n",
       "    events.on('output_added.OutputArea', handleAddOutput);\n",
       "\n",
       "    /**\n",
       "     * Register the mime type and append_mime function with output_area\n",
       "     */\n",
       "    OutputArea.prototype.register_mime_type(EXEC_MIME_TYPE, append_mime, {\n",
       "      /* Is output safe? */\n",
       "      safe: true,\n",
       "      /* Index of renderer in `output_area.display_order` */\n",
       "      index: 0\n",
       "    });\n",
       "  }\n",
       "\n",
       "  // register the mime type if in Jupyter Notebook environment and previously unregistered\n",
       "  if (root.Jupyter !== undefined) {\n",
       "    var events = require('base/js/events');\n",
       "    var OutputArea = require('notebook/js/outputarea').OutputArea;\n",
       "\n",
       "    if (OutputArea.prototype.mime_types().indexOf(EXEC_MIME_TYPE) == -1) {\n",
       "      register_renderer(events, OutputArea);\n",
       "    }\n",
       "  }\n",
       "\n",
       "  \n",
       "  if (typeof (root._bokeh_timeout) === \"undefined\" || force === true) {\n",
       "    root._bokeh_timeout = Date.now() + 5000;\n",
       "    root._bokeh_failed_load = false;\n",
       "  }\n",
       "\n",
       "  var NB_LOAD_WARNING = {'data': {'text/html':\n",
       "     \"<div style='background-color: #fdd'>\\n\"+\n",
       "     \"<p>\\n\"+\n",
       "     \"BokehJS does not appear to have successfully loaded. If loading BokehJS from CDN, this \\n\"+\n",
       "     \"may be due to a slow or bad network connection. Possible fixes:\\n\"+\n",
       "     \"</p>\\n\"+\n",
       "     \"<ul>\\n\"+\n",
       "     \"<li>re-rerun `output_notebook()` to attempt to load from CDN again, or</li>\\n\"+\n",
       "     \"<li>use INLINE resources instead, as so:</li>\\n\"+\n",
       "     \"</ul>\\n\"+\n",
       "     \"<code>\\n\"+\n",
       "     \"from bokeh.resources import INLINE\\n\"+\n",
       "     \"output_notebook(resources=INLINE)\\n\"+\n",
       "     \"</code>\\n\"+\n",
       "     \"</div>\"}};\n",
       "\n",
       "  function display_loaded() {\n",
       "    var el = document.getElementById(\"1291\");\n",
       "    if (el != null) {\n",
       "      el.textContent = \"BokehJS is loading...\";\n",
       "    }\n",
       "    if (root.Bokeh !== undefined) {\n",
       "      if (el != null) {\n",
       "        el.textContent = \"BokehJS \" + root.Bokeh.version + \" successfully loaded.\";\n",
       "      }\n",
       "    } else if (Date.now() < root._bokeh_timeout) {\n",
       "      setTimeout(display_loaded, 100)\n",
       "    }\n",
       "  }\n",
       "\n",
       "\n",
       "  function run_callbacks() {\n",
       "    try {\n",
       "      root._bokeh_onload_callbacks.forEach(function(callback) {\n",
       "        if (callback != null)\n",
       "          callback();\n",
       "      });\n",
       "    } finally {\n",
       "      delete root._bokeh_onload_callbacks\n",
       "    }\n",
       "    console.debug(\"Bokeh: all callbacks have finished\");\n",
       "  }\n",
       "\n",
       "  function load_libs(css_urls, js_urls, callback) {\n",
       "    if (css_urls == null) css_urls = [];\n",
       "    if (js_urls == null) js_urls = [];\n",
       "\n",
       "    root._bokeh_onload_callbacks.push(callback);\n",
       "    if (root._bokeh_is_loading > 0) {\n",
       "      console.debug(\"Bokeh: BokehJS is being loaded, scheduling callback at\", now());\n",
       "      return null;\n",
       "    }\n",
       "    if (js_urls == null || js_urls.length === 0) {\n",
       "      run_callbacks();\n",
       "      return null;\n",
       "    }\n",
       "    console.debug(\"Bokeh: BokehJS not loaded, scheduling load and callback at\", now());\n",
       "    root._bokeh_is_loading = css_urls.length + js_urls.length;\n",
       "\n",
       "    function on_load() {\n",
       "      root._bokeh_is_loading--;\n",
       "      if (root._bokeh_is_loading === 0) {\n",
       "        console.debug(\"Bokeh: all BokehJS libraries/stylesheets loaded\");\n",
       "        run_callbacks()\n",
       "      }\n",
       "    }\n",
       "\n",
       "    function on_error() {\n",
       "      console.error(\"failed to load \" + url);\n",
       "    }\n",
       "\n",
       "    for (var i = 0; i < css_urls.length; i++) {\n",
       "      var url = css_urls[i];\n",
       "      const element = document.createElement(\"link\");\n",
       "      element.onload = on_load;\n",
       "      element.onerror = on_error;\n",
       "      element.rel = \"stylesheet\";\n",
       "      element.type = \"text/css\";\n",
       "      element.href = url;\n",
       "      console.debug(\"Bokeh: injecting link tag for BokehJS stylesheet: \", url);\n",
       "      document.body.appendChild(element);\n",
       "    }\n",
       "\n",
       "    for (var i = 0; i < js_urls.length; i++) {\n",
       "      var url = js_urls[i];\n",
       "      var element = document.createElement('script');\n",
       "      element.onload = on_load;\n",
       "      element.onerror = on_error;\n",
       "      element.async = false;\n",
       "      element.src = url;\n",
       "      console.debug(\"Bokeh: injecting script tag for BokehJS library: \", url);\n",
       "      document.head.appendChild(element);\n",
       "    }\n",
       "  };var element = document.getElementById(\"1291\");\n",
       "  if (element == null) {\n",
       "    console.error(\"Bokeh: ERROR: autoload.js configured with elementid '1291' but no matching script tag was found. \")\n",
       "    return false;\n",
       "  }\n",
       "\n",
       "  function inject_raw_css(css) {\n",
       "    const element = document.createElement(\"style\");\n",
       "    element.appendChild(document.createTextNode(css));\n",
       "    document.body.appendChild(element);\n",
       "  }\n",
       "\n",
       "  var js_urls = [\"https://cdn.pydata.org/bokeh/release/bokeh-1.3.4.min.js\", \"https://cdn.pydata.org/bokeh/release/bokeh-widgets-1.3.4.min.js\", \"https://cdn.pydata.org/bokeh/release/bokeh-tables-1.3.4.min.js\", \"https://cdn.pydata.org/bokeh/release/bokeh-gl-1.3.4.min.js\"];\n",
       "  var css_urls = [];\n",
       "\n",
       "  var inline_js = [\n",
       "    function(Bokeh) {\n",
       "      Bokeh.set_log_level(\"info\");\n",
       "    },\n",
       "    \n",
       "    function(Bokeh) {\n",
       "      \n",
       "    },\n",
       "    function(Bokeh) {} // ensure no trailing comma for IE\n",
       "  ];\n",
       "\n",
       "  function run_inline_js() {\n",
       "    \n",
       "    if ((root.Bokeh !== undefined) || (force === true)) {\n",
       "      for (var i = 0; i < inline_js.length; i++) {\n",
       "        inline_js[i].call(root, root.Bokeh);\n",
       "      }if (force === true) {\n",
       "        display_loaded();\n",
       "      }} else if (Date.now() < root._bokeh_timeout) {\n",
       "      setTimeout(run_inline_js, 100);\n",
       "    } else if (!root._bokeh_failed_load) {\n",
       "      console.log(\"Bokeh: BokehJS failed to load within specified timeout.\");\n",
       "      root._bokeh_failed_load = true;\n",
       "    } else if (force !== true) {\n",
       "      var cell = $(document.getElementById(\"1291\")).parents('.cell').data().cell;\n",
       "      cell.output_area.append_execute_result(NB_LOAD_WARNING)\n",
       "    }\n",
       "\n",
       "  }\n",
       "\n",
       "  if (root._bokeh_is_loading === 0) {\n",
       "    console.debug(\"Bokeh: BokehJS loaded, going straight to plotting\");\n",
       "    run_inline_js();\n",
       "  } else {\n",
       "    load_libs(css_urls, js_urls, function() {\n",
       "      console.debug(\"Bokeh: BokehJS plotting callback run at\", now());\n",
       "      run_inline_js();\n",
       "    });\n",
       "  }\n",
       "}(window));"
      ],
      "application/vnd.bokehjs_load.v0+json": "\n(function(root) {\n  function now() {\n    return new Date();\n  }\n\n  var force = true;\n\n  if (typeof root._bokeh_onload_callbacks === \"undefined\" || force === true) {\n    root._bokeh_onload_callbacks = [];\n    root._bokeh_is_loading = undefined;\n  }\n\n  \n\n  \n  if (typeof (root._bokeh_timeout) === \"undefined\" || force === true) {\n    root._bokeh_timeout = Date.now() + 5000;\n    root._bokeh_failed_load = false;\n  }\n\n  var NB_LOAD_WARNING = {'data': {'text/html':\n     \"<div style='background-color: #fdd'>\\n\"+\n     \"<p>\\n\"+\n     \"BokehJS does not appear to have successfully loaded. If loading BokehJS from CDN, this \\n\"+\n     \"may be due to a slow or bad network connection. Possible fixes:\\n\"+\n     \"</p>\\n\"+\n     \"<ul>\\n\"+\n     \"<li>re-rerun `output_notebook()` to attempt to load from CDN again, or</li>\\n\"+\n     \"<li>use INLINE resources instead, as so:</li>\\n\"+\n     \"</ul>\\n\"+\n     \"<code>\\n\"+\n     \"from bokeh.resources import INLINE\\n\"+\n     \"output_notebook(resources=INLINE)\\n\"+\n     \"</code>\\n\"+\n     \"</div>\"}};\n\n  function display_loaded() {\n    var el = document.getElementById(\"1291\");\n    if (el != null) {\n      el.textContent = \"BokehJS is loading...\";\n    }\n    if (root.Bokeh !== undefined) {\n      if (el != null) {\n        el.textContent = \"BokehJS \" + root.Bokeh.version + \" successfully loaded.\";\n      }\n    } else if (Date.now() < root._bokeh_timeout) {\n      setTimeout(display_loaded, 100)\n    }\n  }\n\n\n  function run_callbacks() {\n    try {\n      root._bokeh_onload_callbacks.forEach(function(callback) {\n        if (callback != null)\n          callback();\n      });\n    } finally {\n      delete root._bokeh_onload_callbacks\n    }\n    console.debug(\"Bokeh: all callbacks have finished\");\n  }\n\n  function load_libs(css_urls, js_urls, callback) {\n    if (css_urls == null) css_urls = [];\n    if (js_urls == null) js_urls = [];\n\n    root._bokeh_onload_callbacks.push(callback);\n    if (root._bokeh_is_loading > 0) {\n      console.debug(\"Bokeh: BokehJS is being loaded, scheduling callback at\", now());\n      return null;\n    }\n    if (js_urls == null || js_urls.length === 0) {\n      run_callbacks();\n      return null;\n    }\n    console.debug(\"Bokeh: BokehJS not loaded, scheduling load and callback at\", now());\n    root._bokeh_is_loading = css_urls.length + js_urls.length;\n\n    function on_load() {\n      root._bokeh_is_loading--;\n      if (root._bokeh_is_loading === 0) {\n        console.debug(\"Bokeh: all BokehJS libraries/stylesheets loaded\");\n        run_callbacks()\n      }\n    }\n\n    function on_error() {\n      console.error(\"failed to load \" + url);\n    }\n\n    for (var i = 0; i < css_urls.length; i++) {\n      var url = css_urls[i];\n      const element = document.createElement(\"link\");\n      element.onload = on_load;\n      element.onerror = on_error;\n      element.rel = \"stylesheet\";\n      element.type = \"text/css\";\n      element.href = url;\n      console.debug(\"Bokeh: injecting link tag for BokehJS stylesheet: \", url);\n      document.body.appendChild(element);\n    }\n\n    for (var i = 0; i < js_urls.length; i++) {\n      var url = js_urls[i];\n      var element = document.createElement('script');\n      element.onload = on_load;\n      element.onerror = on_error;\n      element.async = false;\n      element.src = url;\n      console.debug(\"Bokeh: injecting script tag for BokehJS library: \", url);\n      document.head.appendChild(element);\n    }\n  };var element = document.getElementById(\"1291\");\n  if (element == null) {\n    console.error(\"Bokeh: ERROR: autoload.js configured with elementid '1291' but no matching script tag was found. \")\n    return false;\n  }\n\n  function inject_raw_css(css) {\n    const element = document.createElement(\"style\");\n    element.appendChild(document.createTextNode(css));\n    document.body.appendChild(element);\n  }\n\n  var js_urls = [\"https://cdn.pydata.org/bokeh/release/bokeh-1.3.4.min.js\", \"https://cdn.pydata.org/bokeh/release/bokeh-widgets-1.3.4.min.js\", \"https://cdn.pydata.org/bokeh/release/bokeh-tables-1.3.4.min.js\", \"https://cdn.pydata.org/bokeh/release/bokeh-gl-1.3.4.min.js\"];\n  var css_urls = [];\n\n  var inline_js = [\n    function(Bokeh) {\n      Bokeh.set_log_level(\"info\");\n    },\n    \n    function(Bokeh) {\n      \n    },\n    function(Bokeh) {} // ensure no trailing comma for IE\n  ];\n\n  function run_inline_js() {\n    \n    if ((root.Bokeh !== undefined) || (force === true)) {\n      for (var i = 0; i < inline_js.length; i++) {\n        inline_js[i].call(root, root.Bokeh);\n      }if (force === true) {\n        display_loaded();\n      }} else if (Date.now() < root._bokeh_timeout) {\n      setTimeout(run_inline_js, 100);\n    } else if (!root._bokeh_failed_load) {\n      console.log(\"Bokeh: BokehJS failed to load within specified timeout.\");\n      root._bokeh_failed_load = true;\n    } else if (force !== true) {\n      var cell = $(document.getElementById(\"1291\")).parents('.cell').data().cell;\n      cell.output_area.append_execute_result(NB_LOAD_WARNING)\n    }\n\n  }\n\n  if (root._bokeh_is_loading === 0) {\n    console.debug(\"Bokeh: BokehJS loaded, going straight to plotting\");\n    run_inline_js();\n  } else {\n    load_libs(css_urls, js_urls, function() {\n      console.debug(\"Bokeh: BokehJS plotting callback run at\", now());\n      run_inline_js();\n    });\n  }\n}(window));"
     },
     "metadata": {},
     "output_type": "display_data"
    }
   ],
   "source": [
    "import pandas as pd\n",
    "import numpy as np\n",
    "from bokeh.plotting import figure\n",
    "from bokeh.io import show, output_notebook\n",
    "from bokeh.models import Slope, ColumnDataSource, Arrow, OpenHead, LabelSet\n",
    "from bokeh.models.glyphs import MultiLine\n",
    "output_notebook()"
   ]
  },
  {
   "cell_type": "markdown",
   "metadata": {},
   "source": [
    "### Preliminaries: Samples and Features\n",
    "\n",
    "Our goal in machine learning problems is to extract meaningful information from a collection of data.  In many cases the data is naturally organized into a large number of samples, and, for each sample, a large collection of measurements or *features*.   Depending on whether we are doing classification or regression, we are trying to extract the label or the output value as a function of the features of a sample. \n",
    "\n",
    "- In the MNIST data set, each image is a sample and the features are the 784 pixel values for each image. \n",
    "- In the Zillow home price algorithm, the samples are houses, the features are the characteristics of the house, and the target to be predicted is the selling price.\n",
    "\n",
    "In many cases the features are a mix of types -- some are numerical, some quantitative.  For example,\n",
    "in the Zillow data, some relevant features might be past selling price and taxes, and others might be whether or not the house has Air Conditioning.\n",
    "\n",
    "It's good practice to organize your data so that the ROWS are samples (or observations) and the COLUMNS are features (or variables).   This is consistent with what's called [tidy data](https://vita.had.co.nz/papers/tidy-data.pdf).  A great deal of software expects your data to be organized in this way.\n",
    "\n",
    "Sometimes you have to make choices about what are your samples and what are your features.  For example,\n",
    "in the movie recommendation problem you have a collection of data of the form (person, movie, rating).\n",
    "To use this data you need to \"unbundle\" it.  You can:\n",
    "\n",
    "- create a matrix whose rows correspond to people and whose columns correspond to movies.  From this point of view, an \"observation\" consists of finding a person and asking them their opinion about a bunch of movies.\n",
    "- create a matrix whose rows are movies and whose columns are people.  From this point of view, an \"observation\" consists of collecting individual opinions from many people about that particular movie.\n",
    "\n",
    "Which approach is correct depends on your goal. For us, if you want to recommend movies to people based on the opinions of other people with similar tastes, then your observations are people and your features are the movies that they like.  \n",
    "\n",
    "It seems to me that in the reinforcement learning problem, the features are the many states of the game, plus whose turn it is to move.  The samples are the games themselves. \n",
    "\n",
    "\n",
    "\n",
    "\n"
   ]
  },
  {
   "cell_type": "markdown",
   "metadata": {},
   "source": [
    "### Mean and Variance\n",
    "\n",
    "Let's look at a simple case where our features are numbers -- say there are $k$ samples and, \n",
    "for each sample, $m$ features that are real numbers.  Then our data is a $k\\times m$ matrix of real\n",
    "numbers or, alternatively, we have $k$ points $x_1,\\ldots, x_k$ in $\\mathbf{R}^{m}$.\n",
    "\n",
    "From a geometric point of view, the mean of our dataset is the centroid of the set of points:\n",
    "$$\n",
    "\\overline{x} = \\frac{1}{k}\\sum_{i=1}^{k} x_k\n",
    "$$\n",
    "\n",
    "The variance of our set of points, which measures how dispersed they are around the mean,\n",
    "is\n",
    "$$\n",
    "\\sigma^2 = \\frac{1}{k}\\sum_{i=1}^{k} \\|x_i-\\overline{x}\\|^2\n",
    "$$\n",
    "\n",
    "Since our focus for the rest of this discussion is on the variance, let's simplify things and \n",
    "**assume that our points have mean zero.**  This can be accomplished just be replacing\n",
    "each point $x_i$ by $x_i-\\overline{x}$. Then the variance just becomes\n",
    "$$\n",
    "\\sigma^2=\\frac{1}{k}\\sum_{i=1}^{k}\\|x_i\\|^2.\n",
    "$$\n",
    "or the average squared distance of the points from the origin."
   ]
  },
  {
   "cell_type": "markdown",
   "metadata": {},
   "source": [
    "### Components of the variance\n",
    "\n",
    "Each point $x_i$ is a vector, so it has $m$ coordinates:\n",
    "$$\n",
    "x_i = (x_{i1},x_{i2},\\ldots, x_{im}).\n",
    "$$\n",
    "\n",
    "Therefore \n",
    "$$\n",
    "\\|x_i\\|^2 = \\sum_{j=1}^{m} x_{ij}^2.\n",
    "$$\n",
    "\n",
    "We can regroup the sum that gives the variance by components and get\n",
    "$$\n",
    "\\sigma^2 = \\sum_{j=1}^{m} \\sigma_j^2\n",
    "$$\n",
    "where, for each $j$, \n",
    "$$\n",
    "\\sigma_{j}^2 = \\sum_{i=1}^{k} x_{ij}^2.\n",
    "$$\n",
    "In other words $\\sigma_j^2$ is the variance of the $j^{th}$ coordinates of the points $x_i$\n",
    "and the total variance is a sum of contributions of these variances in the $m$ standard orthogonal basis\n",
    "directions in $\\mathbf{R}^{m}$.\n",
    "\n",
    "More generally, suppose that $\\mathbf{u}$ is a unit vector in $\\mathbf{R}^{m}$.  We can orthogonally project each of the points $x_i$ into the $\\mathbf{u}$ direction and ask for the variance in the $\\mathbf{u}$ direction.\n"
   ]
  },
  {
   "cell_type": "code",
   "execution_count": 12,
   "metadata": {},
   "outputs": [],
   "source": [
    "x = np.random.normal(0,1.5,size=20)\n",
    "y = np.random.normal(0,1.5,size=20)\n",
    "xprime = (x+2*y)/5\n",
    "yprime = 2*xprime\n",
    "xs = [[x[i],xprime[i]] for i in range(x.shape[0])]\n",
    "ys = [[y[i],yprime[i]] for i in range(y.shape[0])]"
   ]
  },
  {
   "cell_type": "code",
   "execution_count": 13,
   "metadata": {},
   "outputs": [
    {
     "data": {
      "text/html": [
       "\n",
       "\n",
       "\n",
       "\n",
       "\n",
       "\n",
       "  <div class=\"bk-root\" id=\"66e96ebf-804d-46a9-b69e-fdd15833ca14\" data-root-id=\"1292\"></div>\n"
      ]
     },
     "metadata": {},
     "output_type": "display_data"
    },
    {
     "data": {
      "application/javascript": [
       "(function(root) {\n",
       "  function embed_document(root) {\n",
       "    \n",
       "  var docs_json = {\"07a7f66e-bbd3-42b4-8c1c-0bd895737da8\":{\"roots\":{\"references\":[{\"attributes\":{\"below\":[{\"id\":\"1303\",\"type\":\"LinearAxis\"}],\"center\":[{\"id\":\"1307\",\"type\":\"Grid\"},{\"id\":\"1312\",\"type\":\"Grid\"},{\"id\":\"1337\",\"type\":\"Legend\"},{\"id\":\"1353\",\"type\":\"Slope\"}],\"left\":[{\"id\":\"1308\",\"type\":\"LinearAxis\"}],\"renderers\":[{\"id\":\"1329\",\"type\":\"GlyphRenderer\"},{\"id\":\"1342\",\"type\":\"GlyphRenderer\"},{\"id\":\"1356\",\"type\":\"GlyphRenderer\"}],\"title\":{\"id\":\"1293\",\"type\":\"Title\"},\"toolbar\":{\"id\":\"1319\",\"type\":\"Toolbar\"},\"x_range\":{\"id\":\"1295\",\"type\":\"Range1d\"},\"x_scale\":{\"id\":\"1299\",\"type\":\"LinearScale\"},\"y_range\":{\"id\":\"1297\",\"type\":\"Range1d\"},\"y_scale\":{\"id\":\"1301\",\"type\":\"LinearScale\"}},\"id\":\"1292\",\"subtype\":\"Figure\",\"type\":\"Plot\"},{\"attributes\":{},\"id\":\"1309\",\"type\":\"BasicTicker\"},{\"attributes\":{},\"id\":\"1316\",\"type\":\"SaveTool\"},{\"attributes\":{},\"id\":\"1389\",\"type\":\"UnionRenderers\"},{\"attributes\":{},\"id\":\"1349\",\"type\":\"UnionRenderers\"},{\"attributes\":{\"data_source\":{\"id\":\"1339\",\"type\":\"ColumnDataSource\"},\"glyph\":{\"id\":\"1340\",\"type\":\"Circle\"},\"hover_glyph\":null,\"muted_glyph\":null,\"nonselection_glyph\":{\"id\":\"1341\",\"type\":\"Circle\"},\"selection_glyph\":null,\"view\":{\"id\":\"1343\",\"type\":\"CDSView\"}},\"id\":\"1342\",\"type\":\"GlyphRenderer\"},{\"attributes\":{\"callback\":null,\"data\":{\"x\":{\"__ndarray__\":\"eKsgqRnz07/FhBT5V3nSP3A3shkBecw/QJypTdTM3r8WNyJyvFe2v2OnyqlFuMG/OzvQKXsX67+zjAKWotysv/ZBQ8alvOy/5tfvkqfIvL+6GzNrhp31v7MRO6EWUN8/fCL4e7vn0j+NtqCE942zPy1ZP2WQI+k/9mwm3NyDwz+en4zOS9HWP8LfAwOor7E/jWO6eWj41T/gh9a/nxjsPw==\",\"dtype\":\"float64\",\"shape\":[20]},\"y\":{\"__ndarray__\":\"eKsgqRnz47/FhBT5V3niP3A3shkBedw/QJypTdTM7r8WNyJyvFfGv2OnyqlFuNG/OzvQKXsX+7+zjAKWoty8v/ZBQ8alvPy/5tfvkqfIzL+6GzNrhp0FwLMRO6EWUO8/fCL4e7vn4j+NtqCE943DPy1ZP2WQI/k/9mwm3NyD0z+en4zOS9HmP8LfAwOor8E/jWO6eWj45T/gh9a/nxj8Pw==\",\"dtype\":\"float64\",\"shape\":[20]}},\"selected\":{\"id\":\"1388\",\"type\":\"Selection\"},\"selection_policy\":{\"id\":\"1387\",\"type\":\"UnionRenderers\"}},\"id\":\"1339\",\"type\":\"ColumnDataSource\"},{\"attributes\":{\"overlay\":{\"id\":\"1336\",\"type\":\"BoxAnnotation\"}},\"id\":\"1315\",\"type\":\"BoxZoomTool\"},{\"attributes\":{\"fill_color\":{\"value\":\"black\"},\"x\":{\"field\":\"x\"},\"y\":{\"field\":\"y\"}},\"id\":\"1340\",\"type\":\"Circle\"},{\"attributes\":{},\"id\":\"1314\",\"type\":\"WheelZoomTool\"},{\"attributes\":{},\"id\":\"1332\",\"type\":\"BasicTickFormatter\"},{\"attributes\":{},\"id\":\"1313\",\"type\":\"PanTool\"},{\"attributes\":{\"source\":{\"id\":\"1339\",\"type\":\"ColumnDataSource\"}},\"id\":\"1343\",\"type\":\"CDSView\"},{\"attributes\":{\"active_drag\":\"auto\",\"active_inspect\":\"auto\",\"active_multi\":null,\"active_scroll\":\"auto\",\"active_tap\":\"auto\",\"tools\":[{\"id\":\"1313\",\"type\":\"PanTool\"},{\"id\":\"1314\",\"type\":\"WheelZoomTool\"},{\"id\":\"1315\",\"type\":\"BoxZoomTool\"},{\"id\":\"1316\",\"type\":\"SaveTool\"},{\"id\":\"1317\",\"type\":\"ResetTool\"},{\"id\":\"1318\",\"type\":\"HelpTool\"}]},\"id\":\"1319\",\"type\":\"Toolbar\"},{\"attributes\":{\"callback\":null,\"data\":{\"xs\":[[-1.7167906403210562,-0.3117126609455947],[-2.2398286828278224,0.28865622829659926],[2.760178079283802,0.22244275812812075],[1.132448442505092,-0.48125178894264664],[0.27012542459837535,-0.08727624689546717],[2.7934079472180104,-0.13843603888136177],[-1.4052151410404758,-0.8466163460414927],[2.896061627851687,-0.05637081223655951],[-1.0700603851145525,-0.898028266174207],[-0.4940138738332146,-0.11243674599958772],[-2.375713976700159,-1.3509582698331841],[0.2214239980498337,0.489263207866567],[0.7203724010088048,0.29539382082342747],[0.3172443952132997,0.07638499248488469],[1.5924715686883335,0.7855913140763612],[1.8666917466457695,0.1524616312934552],[-1.2532751248591096,0.3565244214137183],[0.27015482645075295,0.06908655236827513],[-1.5888300120858618,0.34328662765033685],[2.5972175063789766,0.8780058619342945]],\"ys\":[[0.07911366779654144,-0.6234253218911894],[1.8415549121554093,0.5773124565931985],[-0.8239821443215991,0.4448855162562415],[-1.7693536936091625,-0.9625035778852933],[-0.3532533295378556,-0.17455249379093435],[-1.7427940708124097,-0.27687207776272355],[-1.413933294583494,-1.6932326920829854],[-1.5889578445172423,-0.11274162447311901],[-1.7100404728782412,-1.796056532348414],[-0.03408492808236202,-0.22487349199917545],[-2.189538686232881,-2.7019165396663682],[1.1124460206415008,0.978526415733134],[0.37829835155416625,0.5907876416468549],[0.03234028360556185,0.15276998496976937],[1.1677425008467361,1.5711826281527224],[-0.5521917950892468,0.3049232625869104],[1.5179486159638507,0.7130488428274366],[0.03763896769531132,0.13817310473655026],[1.652631575168773,0.6865732553006737],[0.8964059016462482,1.756011723868589]]},\"selected\":{\"id\":\"1390\",\"type\":\"Selection\"},\"selection_policy\":{\"id\":\"1389\",\"type\":\"UnionRenderers\"}},\"id\":\"1354\",\"type\":\"ColumnDataSource\"},{\"attributes\":{},\"id\":\"1390\",\"type\":\"Selection\"},{\"attributes\":{\"source\":{\"id\":\"1326\",\"type\":\"ColumnDataSource\"}},\"id\":\"1330\",\"type\":\"CDSView\"},{\"attributes\":{\"xs\":{\"field\":\"xs\"},\"ys\":{\"field\":\"ys\"}},\"id\":\"1355\",\"type\":\"MultiLine\"},{\"attributes\":{\"label\":{\"value\":\"projection\"},\"renderers\":[{\"id\":\"1342\",\"type\":\"GlyphRenderer\"}]},\"id\":\"1352\",\"type\":\"LegendItem\"},{\"attributes\":{\"text\":\"Orthogonal Projection of Data\"},\"id\":\"1293\",\"type\":\"Title\"},{\"attributes\":{\"ticker\":{\"id\":\"1304\",\"type\":\"BasicTicker\"}},\"id\":\"1307\",\"type\":\"Grid\"},{\"attributes\":{\"fill_alpha\":{\"value\":0.1},\"fill_color\":{\"value\":\"#1f77b4\"},\"line_alpha\":{\"value\":0.1},\"line_color\":{\"value\":\"#1f77b4\"},\"x\":{\"field\":\"x\"},\"y\":{\"field\":\"y\"}},\"id\":\"1341\",\"type\":\"Circle\"},{\"attributes\":{\"callback\":null,\"end\":5,\"start\":-5},\"id\":\"1295\",\"type\":\"Range1d\"},{\"attributes\":{},\"id\":\"1301\",\"type\":\"LinearScale\"},{\"attributes\":{\"formatter\":{\"id\":\"1332\",\"type\":\"BasicTickFormatter\"},\"ticker\":{\"id\":\"1309\",\"type\":\"BasicTicker\"}},\"id\":\"1308\",\"type\":\"LinearAxis\"},{\"attributes\":{\"fill_alpha\":{\"value\":0.1},\"fill_color\":{\"value\":\"#1f77b4\"},\"line_alpha\":{\"value\":0.1},\"line_color\":{\"value\":\"#1f77b4\"},\"x\":{\"field\":\"x\"},\"y\":{\"field\":\"y\"}},\"id\":\"1328\",\"type\":\"Circle\"},{\"attributes\":{\"source\":{\"id\":\"1354\",\"type\":\"ColumnDataSource\"}},\"id\":\"1357\",\"type\":\"CDSView\"},{\"attributes\":{},\"id\":\"1334\",\"type\":\"BasicTickFormatter\"},{\"attributes\":{},\"id\":\"1387\",\"type\":\"UnionRenderers\"},{\"attributes\":{\"formatter\":{\"id\":\"1334\",\"type\":\"BasicTickFormatter\"},\"ticker\":{\"id\":\"1304\",\"type\":\"BasicTicker\"}},\"id\":\"1303\",\"type\":\"LinearAxis\"},{\"attributes\":{\"dimension\":1,\"ticker\":{\"id\":\"1309\",\"type\":\"BasicTicker\"}},\"id\":\"1312\",\"type\":\"Grid\"},{\"attributes\":{\"callback\":null,\"end\":5,\"start\":-5},\"id\":\"1297\",\"type\":\"Range1d\"},{\"attributes\":{},\"id\":\"1350\",\"type\":\"Selection\"},{\"attributes\":{\"data_source\":{\"id\":\"1354\",\"type\":\"ColumnDataSource\"},\"glyph\":{\"id\":\"1355\",\"type\":\"MultiLine\"},\"hover_glyph\":null,\"muted_glyph\":null,\"view\":{\"id\":\"1357\",\"type\":\"CDSView\"}},\"id\":\"1356\",\"type\":\"GlyphRenderer\"},{\"attributes\":{\"bottom_units\":\"screen\",\"fill_alpha\":{\"value\":0.5},\"fill_color\":{\"value\":\"lightgrey\"},\"left_units\":\"screen\",\"level\":\"overlay\",\"line_alpha\":{\"value\":1.0},\"line_color\":{\"value\":\"black\"},\"line_dash\":[4,4],\"line_width\":{\"value\":2},\"render_mode\":\"css\",\"right_units\":\"screen\",\"top_units\":\"screen\"},\"id\":\"1336\",\"type\":\"BoxAnnotation\"},{\"attributes\":{\"items\":[{\"id\":\"1338\",\"type\":\"LegendItem\"},{\"id\":\"1352\",\"type\":\"LegendItem\"}]},\"id\":\"1337\",\"type\":\"Legend\"},{\"attributes\":{},\"id\":\"1317\",\"type\":\"ResetTool\"},{\"attributes\":{\"gradient\":2,\"line_color\":{\"value\":\"green\"},\"line_width\":{\"value\":2.0},\"y_intercept\":0},\"id\":\"1353\",\"type\":\"Slope\"},{\"attributes\":{\"callback\":null,\"data\":{\"x\":{\"__ndarray__\":\"GCBkdvl3+78lG+tMK+sBwLtHrT7YFAZAt3IPQoIe8j/x9R0mvEnRP7eADUTmWAZAUs4p38J79r+RltZbIisHQKT+bKP3HvG/QpL4Xeyd379KnlRUdgEDwKQ4Fh+fV8w/FsPoa0oN5z9s8pFvu03UPyg4tXfDevk/POg4Kvjd/T8mkKI3ag30v0CaHXg3StE/NP7MBNlr+b+U+NP4GccEQA==\",\"dtype\":\"float64\",\"shape\":[20]},\"y\":{\"__ndarray__\":\"FE7aF8tAtD8g7pdIAnf9P9AsS80PXuq/A7uR0UVP/L9mXWTas5vWvwbVHAl84vu/4WKvhHif9r+PyY4PX2z5vyKTHWZTXPu/eO7MZpRzob+Ek9XbLIQBwIaH0zKUzPE/IJMDSgo22D8Qx9vY546gP2STtMISr/I/IuSgII6r4b/WK+l8hEn4P8b1nC5qRaM/Uv16zi1x+j+KYvBtW6/sPw==\",\"dtype\":\"float64\",\"shape\":[20]}},\"selected\":{\"id\":\"1350\",\"type\":\"Selection\"},\"selection_policy\":{\"id\":\"1349\",\"type\":\"UnionRenderers\"}},\"id\":\"1326\",\"type\":\"ColumnDataSource\"},{\"attributes\":{},\"id\":\"1299\",\"type\":\"LinearScale\"},{\"attributes\":{},\"id\":\"1304\",\"type\":\"BasicTicker\"},{\"attributes\":{\"label\":{\"value\":\"data\"},\"renderers\":[{\"id\":\"1329\",\"type\":\"GlyphRenderer\"}]},\"id\":\"1338\",\"type\":\"LegendItem\"},{\"attributes\":{},\"id\":\"1318\",\"type\":\"HelpTool\"},{\"attributes\":{\"data_source\":{\"id\":\"1326\",\"type\":\"ColumnDataSource\"},\"glyph\":{\"id\":\"1327\",\"type\":\"Circle\"},\"hover_glyph\":null,\"muted_glyph\":null,\"nonselection_glyph\":{\"id\":\"1328\",\"type\":\"Circle\"},\"selection_glyph\":null,\"view\":{\"id\":\"1330\",\"type\":\"CDSView\"}},\"id\":\"1329\",\"type\":\"GlyphRenderer\"},{\"attributes\":{},\"id\":\"1388\",\"type\":\"Selection\"},{\"attributes\":{\"fill_color\":{\"value\":\"#1f77b4\"},\"line_color\":{\"value\":\"#1f77b4\"},\"x\":{\"field\":\"x\"},\"y\":{\"field\":\"y\"}},\"id\":\"1327\",\"type\":\"Circle\"}],\"root_ids\":[\"1292\"]},\"title\":\"Bokeh Application\",\"version\":\"1.3.4\"}};\n",
       "  var render_items = [{\"docid\":\"07a7f66e-bbd3-42b4-8c1c-0bd895737da8\",\"roots\":{\"1292\":\"66e96ebf-804d-46a9-b69e-fdd15833ca14\"}}];\n",
       "  root.Bokeh.embed.embed_items_notebook(docs_json, render_items);\n",
       "\n",
       "  }\n",
       "  if (root.Bokeh !== undefined) {\n",
       "    embed_document(root);\n",
       "  } else {\n",
       "    var attempts = 0;\n",
       "    var timer = setInterval(function(root) {\n",
       "      if (root.Bokeh !== undefined) {\n",
       "        embed_document(root);\n",
       "        clearInterval(timer);\n",
       "      }\n",
       "      attempts++;\n",
       "      if (attempts > 100) {\n",
       "        console.log(\"Bokeh: ERROR: Unable to run BokehJS code because BokehJS library is missing\");\n",
       "        clearInterval(timer);\n",
       "      }\n",
       "    }, 10, root)\n",
       "  }\n",
       "})(window);"
      ],
      "application/vnd.bokehjs_exec.v0+json": ""
     },
     "metadata": {
      "application/vnd.bokehjs_exec.v0+json": {
       "id": "1292"
      }
     },
     "output_type": "display_data"
    }
   ],
   "source": [
    "f = figure(x_range=(-5,5),y_range=(-5,5),title=\"Orthogonal Projection of Data\")\n",
    "f.circle(x,y,legend='data')\n",
    "f.circle(xprime,yprime,color='black',legend='projection')\n",
    "f.add_layout(Slope(gradient=2,y_intercept=0,line_color='green',line_width=2.0))\n",
    "f.add_glyph(ColumnDataSource({'xs':xs,'ys':ys}),MultiLine(xs='xs',ys='ys'))\n",
    "show(f)"
   ]
  },
  {
   "cell_type": "markdown",
   "metadata": {},
   "source": [
    "Since the projection of the data point $x$ in the $\\mathbf{u}$ direction is\n",
    "$(x\\cdot \\mathbf{u})\\mathbf{u}$ the variance in the $\\mathbf{u}$ direction\n",
    "is\n",
    "$$\n",
    "\\sigma_{\\mathbf{u}}^2 = \\sum_{i=1}^{k}\\|(x_i\\cdot\\mathbf{u})\\mathbf{u}\\|^2=\\sum_{i=1}^{k}|(x_i\\cdot\\mathbf{u})|^2\n",
    "$$"
   ]
  },
  {
   "cell_type": "markdown",
   "metadata": {},
   "source": [
    "How should we interpret this?  The \"direction\" given by the vector $\\mathbf{u}$ is a \"synthetic feature\" of the data -- it's a feature that has been derived from the other features, in this case as a (normalized) *linear* combination of features.\n",
    "\n",
    "Suppose for concreteness that $m=3$ and that the features of our data are age, weight, and income (normalized so that the means are zero). If our\n",
    "direction $\\mathbf{u}$ is $(\\frac{1}{\\sqrt{3}},\\frac{1}{\\sqrt{3}},\\frac{1}{\\sqrt{3}})$ then projection of the data into the $\\mathbf{u}$ direction\n",
    "measures the synthetic feature \n",
    "\n",
    "$$\n",
    "\\frac{(\\mathrm{age} + \\mathrm{weight} + \\mathrm{income})}{\\sqrt{3}}\n",
    "$$\n",
    "\n",
    "and the variance $\\sigma^2_{\\mathbf{u}}$ measures the variance of this synthetic feature.\n",
    "\n",
    "We *may be able to distinguish people better through such synthetic features than we can through the individual characteristics*.\n",
    "\n",
    "For example, your Credit Score is some kind of synthetic feature constructed out of all of your credit history which is supposed to predict your likelihood of loan repayment.  Your BMI (your weight divided by your height squared) is another synthetic feature.  \n"
   ]
  },
  {
   "cell_type": "markdown",
   "metadata": {},
   "source": [
    "Of course, the $\\sigma_u^2$ varies with $u$.  We can package up all of the information for varying $u$ by using a little linear algebra.  Our vectors $x_i$ are $1\\times m$ row vectors, and so is the direction $\\mathbf{u}$.\n",
    "Therefore the dot product $x\\cdot \\mathbf{u}$ can be written\n",
    "$x^t\\mathbf{u}$ where $x^t$ is the transpose of $x$.  \n",
    "\n",
    "Putting all of the $x_i$ together into the $k\\times m$ matrix $X$,\n",
    "it follows that \n",
    "\n",
    "$$\n",
    "\\sigma_\\mathbf{u}^2 = \\mathbf{u}X^tX\\mathbf{u}^t.\n",
    "$$\n",
    "\n",
    "To pull this apart, $\\mathbf{u}X^t$ is a $1\\times k$ matrix\n",
    "whose entries are the dot products $\\mathbf{u}\\cdot x_i$ for $i=1,\\ldots, k$.\n",
    "Taking the dot product of this $1\\times k$ matrix with itself gives\n",
    "the sum of the squares of these dot products, which is what we want.\n",
    "\n",
    "Note also that this sum of squares is non-negative.  It could be zero -- for example, if all of the data happened to lie in a lower dimensional subspace of the features space -- but for random data this is pretty much impossible.\n",
    "It might lie *close* to a lower dimensional subspace, however.\n",
    "\n",
    "The matrix $X^{t}X$ is an $m\\times m$ symmetric matrix. If we let $D=X^{t}X/k$ then the $m$ diagonal entries of $D$ are the variances along the $m$ coordinate axes that we called $\\sigma_j^2$ up above, and its trace is the total variance $\\sigma^2$."
   ]
  },
  {
   "cell_type": "markdown",
   "metadata": {},
   "source": [
    "### Eigenvectors, Eigenvalues, and Variance\n",
    "\n",
    "Because the matrix $D=X^tX/k$ is a real symmetric matrix we can construct\n",
    "an orthonormal sequence $u_1,\\ldots,u_m$ of eigenvectors of $D$\n",
    "with associated eigenvalues $\\lambda_1,\\lambda_2,\\ldots,\\lambda_m$.\n",
    "\n",
    "Let's order these so that\n",
    "\n",
    "$$\n",
    "\\lambda_1\\ge \\lambda_2 \\ge \\cdots\\ge \\lambda_m\\ge 0.\n",
    "$$\n",
    "\n",
    "\n",
    "These $u_i$ are called the *principal directions*.\n",
    "Recall that \n",
    "\n",
    "$$\n",
    "\\sigma_{u_i}^2 = u_iDu_i^t = \\lambda_i\n",
    "$$\n",
    "\n",
    "so the eigenvalues (the *principal components*) are the variances\n",
    "in the principal directions.\n",
    "\n",
    "**Proposition:**\n",
    "$$\n",
    "\\sigma^2 = \\sum_{i=1}^{m} \\lambda_i\n",
    "$$\n",
    "\n",
    "**Proof:** The total variance $\\sigma^2$ is the trace of the matrix $D$.\n",
    "\n",
    "\n",
    "**Corollary:** The direction $u_1$ is the direction in which the\n",
    "data has the largest variance (in the sense that the orthogonal projection\n",
    "of the data into the $u_1$ direction has the largest variance).  Similarly $u_2$ is the second largest, and so on."
   ]
  },
  {
   "cell_type": "markdown",
   "metadata": {},
   "source": [
    "### Dimension Reduction"
   ]
  },
  {
   "cell_type": "markdown",
   "metadata": {},
   "source": [
    "The idea behind using the principal components to reduce the dimension of the data is that if we project our datapoints into the subspace spanned by the first few principal components (meaning the ones associated with largest eigenvalues, and hence the largest share of the variance) then we will capture a significant portion of the variation in our data.  The smaller eigenvalues contain less information or might even arise from noise.\n",
    "\n",
    "Here we carry out analysis of some (very old) data on arrests in the USA.  This dataset\n",
    "is distributed with the R language package and it can be downloaded from \n",
    "[here](https://vincentarelbundock.github.io/Rdatasets/csv/datasets/USArrests.csv).  For each state it gives the rates of murder, rape and assault, as well as the percentage of population that lives in urban areas.  Note this is from 1975 so don't draw any real conclusions from it!\n",
    "\n",
    "This analysis follows section 10.2.1 of [Introduction to Statistical Learning with R](http://faculty.marshall.usc.edu/gareth-james/ISL/) by James, et. al, called ISLR below.\n",
    "\n",
    "First we load in the data."
   ]
  },
  {
   "cell_type": "code",
   "execution_count": 14,
   "metadata": {},
   "outputs": [],
   "source": [
    "arrests = pd.read_csv('data/R/USArrests.csv',index_col=0)"
   ]
  },
  {
   "cell_type": "markdown",
   "metadata": {},
   "source": [
    "We standardize it so it has mean zero and each column (feature) has standard deviation 1.  This latter step mainly helps scale the final results so they are easier to compare."
   ]
  },
  {
   "cell_type": "code",
   "execution_count": 15,
   "metadata": {},
   "outputs": [],
   "source": [
    "M = arrests.values\n",
    "M = (M - np.mean(M,axis=0))\n",
    "M = M/M.std(axis=0)"
   ]
  },
  {
   "cell_type": "markdown",
   "metadata": {},
   "source": [
    "We compute the symmetric matrix (called the covariance matrix) and then find it's eigenvalues (L) and eigenvectors (the columns of the matrix V)"
   ]
  },
  {
   "cell_type": "code",
   "execution_count": 16,
   "metadata": {},
   "outputs": [],
   "source": [
    "D = np.dot(M.transpose(),M)/M.shape[0]\n",
    "L, V = np.linalg.eigh(D)"
   ]
  },
  {
   "cell_type": "markdown",
   "metadata": {},
   "source": [
    "We will focus our attention on the space spanned by the last two columns of V which correspond to the two largest eigenvalues -- these are the \"principal components\".  We project the data into the space spanned by those vectors."
   ]
  },
  {
   "cell_type": "code",
   "execution_count": 17,
   "metadata": {},
   "outputs": [],
   "source": [
    "P = np.dot(M,V[:,2:])"
   ]
  },
  {
   "cell_type": "markdown",
   "metadata": {},
   "source": [
    "We add the coordinates of the PC's into the dataframe."
   ]
  },
  {
   "cell_type": "code",
   "execution_count": 18,
   "metadata": {},
   "outputs": [],
   "source": [
    "arrests['PC1'] = P[:,1]\n",
    "arrests['PC2'] = P[:,0]\n",
    "arrests['State'] = arrests.index"
   ]
  },
  {
   "cell_type": "markdown",
   "metadata": {},
   "source": [
    "Each of the original variables corresponds to a standard basis vector in the original feature space.  We project those original variables into the space spanned by PC1 and PC2 as well, and standardize them.  This will allow us to see how moving around in the PC space is related to changes in the original variables."
   ]
  },
  {
   "cell_type": "code",
   "execution_count": 19,
   "metadata": {},
   "outputs": [],
   "source": [
    "murder = V[0,2:]/np.linalg.norm(V[0,2:])\n",
    "assault = V[1,2:]/np.linalg.norm(V[1,2:])\n",
    "rape = V[3,2:]/np.linalg.norm(V[3,2:])\n",
    "pop = V[2,2:]/np.linalg.norm(V[2,2:])"
   ]
  },
  {
   "cell_type": "code",
   "execution_count": 20,
   "metadata": {},
   "outputs": [
    {
     "data": {
      "text/html": [
       "\n",
       "\n",
       "\n",
       "\n",
       "\n",
       "\n",
       "  <div class=\"bk-root\" id=\"f13485c6-605e-4009-bca5-c5199fbb7e02\" data-root-id=\"1464\"></div>\n"
      ]
     },
     "metadata": {},
     "output_type": "display_data"
    },
    {
     "data": {
      "application/javascript": [
       "(function(root) {\n",
       "  function embed_document(root) {\n",
       "    \n",
       "  var docs_json = {\"02385235-db21-4ba2-9bd9-58327ce5a3f0\":{\"roots\":{\"references\":[{\"attributes\":{\"below\":[{\"id\":\"1475\",\"type\":\"LinearAxis\"}],\"center\":[{\"id\":\"1479\",\"type\":\"Grid\"},{\"id\":\"1484\",\"type\":\"Grid\"},{\"id\":\"1507\",\"type\":\"LabelSet\"},{\"id\":\"1510\",\"type\":\"Arrow\"},{\"id\":\"1513\",\"type\":\"Arrow\"},{\"id\":\"1516\",\"type\":\"Arrow\"},{\"id\":\"1519\",\"type\":\"Arrow\"}],\"left\":[{\"id\":\"1480\",\"type\":\"LinearAxis\"}],\"renderers\":[{\"id\":\"1504\",\"type\":\"GlyphRenderer\"}],\"title\":{\"id\":\"1465\",\"type\":\"Title\"},\"toolbar\":{\"id\":\"1492\",\"type\":\"Toolbar\"},\"x_range\":{\"id\":\"1467\",\"type\":\"DataRange1d\"},\"x_scale\":{\"id\":\"1471\",\"type\":\"LinearScale\"},\"y_range\":{\"id\":\"1469\",\"type\":\"Range1d\"},\"y_scale\":{\"id\":\"1473\",\"type\":\"LinearScale\"}},\"id\":\"1464\",\"subtype\":\"Figure\",\"type\":\"Plot\"},{\"attributes\":{\"bottom_units\":\"screen\",\"fill_alpha\":{\"value\":0.5},\"fill_color\":{\"value\":\"lightgrey\"},\"left_units\":\"screen\",\"level\":\"overlay\",\"line_alpha\":{\"value\":1.0},\"line_color\":{\"value\":\"black\"},\"line_dash\":[4,4],\"line_width\":{\"value\":2},\"render_mode\":\"css\",\"right_units\":\"screen\",\"top_units\":\"screen\"},\"id\":\"1564\",\"type\":\"BoxAnnotation\"},{\"attributes\":{\"callback\":null,\"data\":{\"Assault\":[236,263,294,190,276,204,110,238,335,211,46,120,249,113,56,115,109,249,83,300,149,255,72,259,178,109,102,252,57,159,285,254,337,45,120,151,159,106,174,279,86,188,201,120,48,156,145,81,53,161],\"Murder\":{\"__ndarray__\":\"ZmZmZmZmKkAAAAAAAAAkQDMzMzMzMyBAmpmZmZmZIUAAAAAAAAAiQJqZmZmZmR9AZmZmZmZmCkCamZmZmZkXQM3MzMzMzC5AZmZmZmZmMUAzMzMzMzMVQM3MzMzMzARAzczMzMzMJEDNzMzMzMwcQJqZmZmZmQFAAAAAAAAAGEBmZmZmZmYjQM3MzMzMzC5AzczMzMzMAECamZmZmZkmQJqZmZmZmRFAMzMzMzMzKECamZmZmZkFQJqZmZmZGTBAAAAAAAAAIkAAAAAAAAAYQDMzMzMzMxFAZmZmZmZmKEDNzMzMzMwAQJqZmZmZmR1AzczMzMzMJkAzMzMzMzMmQAAAAAAAACpAmpmZmZmZ6T8zMzMzMzMdQGZmZmZmZhpAmpmZmZmZE0AzMzMzMzMZQDMzMzMzMwtAzczMzMzMLEBmZmZmZmYOQGZmZmZmZipAZmZmZmZmKUCamZmZmZkJQJqZmZmZmQFAAAAAAAAAIUAAAAAAAAAQQM3MzMzMzBZAzczMzMzMBEAzMzMzMzMbQA==\",\"dtype\":\"float64\",\"shape\":[50]},\"PC1\":{\"__ndarray__\":\"aNE/d8GJ77+jJEakwzP/v9DByfjqNfy/ytr8Xw8awj+pOxl+HDEEwBuuQkSmO/i/CuNtHgW99T+kT0HEWm2ovzLL4ue1GgjAuOEd24A6+r9u5ULCfDTtPw1yEMWePPo/CBYYsQQQ9r9Mf+dNvSzgP3zjL5d3BwJAtL1N1gyA6T/wBA2cCQfoP84mDpN+Cfm/NvJK8LQsA0CPKOjRwjb8v0qrMTRZHd8/EuXHZBbeAMDAQbaGORX7P7wwH1lI4++/7loK8RRM5r+7oupqnPfyP94GDBoMQPQ/dMNVkML+BsBaC/I9QhIDQAzaf+uOPce/95RrYy2u/78Sw0NB1uv6v2ZKdthb+fG/rAq2+xPwB0AJaqJZb+zMP2+nbxNA9NM/UMuOtD9Frr+QQrQF523sP6ysjE8FpOs/lQCHSK8h9b/ggt/87M3/P5Lb5kXi/e+/QJ98ZqWu9b8lkXAKO57hP/dz745KaQZAWc44nWepuD98HsZqfcPLP5yNtgZi3gBAyzikLkGjAEDeRuJiQyTkPw==\",\"dtype\":\"float64\",\"shape\":[50]},\"PC2\":{\"__ndarray__\":\"0My8C2Ai8j98Cc6p4SvxP6QhIsHg3ue/0L9jCLDq8T/6x9KM26/4v7t/OR8Nmu+/Agc3pz9s8b88HSY9rtLUv9AwOXvCFaQ/OZ8WT4x29D9aanatmiD5vyzRPBopAcs/Dwj0nKTR5b9pnSzAZmbDv/PsfqZJo7q/NDzv5mBK0b/QpKP2iqvuP4D0EgOu3+s/jBhJscwW2D8Qw/Phs17bP08sg6OJl/e/xhFi/wrkw78ASDryezvkvzx4n4J+JgNADHzvDM7a0L/9lnopEy7hP9Hi585508i/CX2YgLfR6L8xq37rKYSSvzacwuYsMfe/jlzRa95Iwj9r4QhFhlfqv/wsLG/z0gFAujmvPfsr4z9LUUpnasDnv6w83As0bNK/5fb1HD5T4b8NF/4+dEbivzGnPMQk3/e/O3I4ujnv/j+PC7Ps01jqP+I3fb4th+s/vM0E8xVm2r8vG4pqSIv3v0fwiJnFb/Y/jetcC+2QyT/QIOveQQvvv52Ccw4szPY/ktrQN4OP47++uDb5eYvUPw==\",\"dtype\":\"float64\",\"shape\":[50]},\"Rape\":{\"__ndarray__\":\"MzMzMzMzNUAAAAAAAEBGQAAAAAAAAD9AAAAAAACAM0DNzMzMzExEQJqZmZmZWUNAMzMzMzMzJkCamZmZmZkvQGZmZmZm5j9AzczMzMzMOUAzMzMzMzM0QGZmZmZmZixAAAAAAAAAOEAAAAAAAAA1QJqZmZmZmSZAAAAAAAAAMkDNzMzMzEwwQDMzMzMzMzZAMzMzMzMzH0DNzMzMzMw7QM3MzMzMTDBAzczMzMyMQUDNzMzMzMwtQJqZmZmZGTFAMzMzMzMzPEBmZmZmZmYwQAAAAAAAgDBAAAAAAAAAR0AAAAAAAAAjQM3MzMzMzDJAzczMzMwMQECamZmZmRk6QJqZmZmZGTBAMzMzMzMzHUBmZmZmZmY1QAAAAAAAADRAzczMzMxMPUDNzMzMzMwtQJqZmZmZmSBAAAAAAACANkCamZmZmZkpQGZmZmZm5jpAAAAAAACAOUBmZmZmZuY2QGZmZmZmZiZAMzMzMzOzNEAzMzMzMzM6QJqZmZmZmSJAmpmZmZmZJUAzMzMzMzMvQA==\",\"dtype\":\"float64\",\"shape\":[50]},\"State\":[\"Alabama\",\"Alaska\",\"Arizona\",\"Arkansas\",\"California\",\"Colorado\",\"Connecticut\",\"Delaware\",\"Florida\",\"Georgia\",\"Hawaii\",\"Idaho\",\"Illinois\",\"Indiana\",\"Iowa\",\"Kansas\",\"Kentucky\",\"Louisiana\",\"Maine\",\"Maryland\",\"Massachusetts\",\"Michigan\",\"Minnesota\",\"Mississippi\",\"Missouri\",\"Montana\",\"Nebraska\",\"Nevada\",\"New Hampshire\",\"New Jersey\",\"New Mexico\",\"New York\",\"North Carolina\",\"North Dakota\",\"Ohio\",\"Oklahoma\",\"Oregon\",\"Pennsylvania\",\"Rhode Island\",\"South Carolina\",\"South Dakota\",\"Tennessee\",\"Texas\",\"Utah\",\"Vermont\",\"Virginia\",\"Washington\",\"West Virginia\",\"Wisconsin\",\"Wyoming\"],\"UrbanPop\":[58,48,80,50,91,78,77,72,80,60,83,54,83,65,57,66,52,66,51,67,85,74,66,44,70,53,62,81,56,89,70,86,45,44,75,68,67,72,87,48,45,59,80,80,32,63,73,39,66,60],\"index\":[\"Alabama\",\"Alaska\",\"Arizona\",\"Arkansas\",\"California\",\"Colorado\",\"Connecticut\",\"Delaware\",\"Florida\",\"Georgia\",\"Hawaii\",\"Idaho\",\"Illinois\",\"Indiana\",\"Iowa\",\"Kansas\",\"Kentucky\",\"Louisiana\",\"Maine\",\"Maryland\",\"Massachusetts\",\"Michigan\",\"Minnesota\",\"Mississippi\",\"Missouri\",\"Montana\",\"Nebraska\",\"Nevada\",\"New Hampshire\",\"New Jersey\",\"New Mexico\",\"New York\",\"North Carolina\",\"North Dakota\",\"Ohio\",\"Oklahoma\",\"Oregon\",\"Pennsylvania\",\"Rhode Island\",\"South Carolina\",\"South Dakota\",\"Tennessee\",\"Texas\",\"Utah\",\"Vermont\",\"Virginia\",\"Washington\",\"West Virginia\",\"Wisconsin\",\"Wyoming\"]},\"selected\":{\"id\":\"1561\",\"type\":\"Selection\"},\"selection_policy\":{\"id\":\"1560\",\"type\":\"UnionRenderers\"}},\"id\":\"1500\",\"type\":\"ColumnDataSource\"},{\"attributes\":{\"end\":{\"id\":\"1515\",\"type\":\"OpenHead\"},\"line_color\":{\"value\":\"green\"},\"source\":null,\"start\":null,\"x_end\":{\"value\":-0.9557252285706996},\"x_start\":{\"value\":0},\"y_end\":{\"value\":-0.29426057750484347},\"y_start\":{\"value\":0}},\"id\":\"1516\",\"type\":\"Arrow\"},{\"attributes\":{},\"id\":\"1512\",\"type\":\"OpenHead\"},{\"attributes\":{\"data_source\":{\"id\":\"1500\",\"type\":\"ColumnDataSource\"},\"glyph\":{\"id\":\"1502\",\"type\":\"Circle\"},\"hover_glyph\":null,\"muted_glyph\":null,\"nonselection_glyph\":{\"id\":\"1503\",\"type\":\"Circle\"},\"selection_glyph\":null,\"view\":{\"id\":\"1505\",\"type\":\"CDSView\"}},\"id\":\"1504\",\"type\":\"GlyphRenderer\"},{\"attributes\":{\"callback\":null,\"data\":{\"Assault\":[236,263,294,190,276,204,110,238,335,211,46,120,249,113,56,115,109,249,83,300,149,255,72,259,178,109,102,252,57,159,285,254,337,45,120,151,159,106,174,279,86,188,201,120,48,156,145,81,53,161],\"Murder\":{\"__ndarray__\":\"ZmZmZmZmKkAAAAAAAAAkQDMzMzMzMyBAmpmZmZmZIUAAAAAAAAAiQJqZmZmZmR9AZmZmZmZmCkCamZmZmZkXQM3MzMzMzC5AZmZmZmZmMUAzMzMzMzMVQM3MzMzMzARAzczMzMzMJEDNzMzMzMwcQJqZmZmZmQFAAAAAAAAAGEBmZmZmZmYjQM3MzMzMzC5AzczMzMzMAECamZmZmZkmQJqZmZmZmRFAMzMzMzMzKECamZmZmZkFQJqZmZmZGTBAAAAAAAAAIkAAAAAAAAAYQDMzMzMzMxFAZmZmZmZmKEDNzMzMzMwAQJqZmZmZmR1AzczMzMzMJkAzMzMzMzMmQAAAAAAAACpAmpmZmZmZ6T8zMzMzMzMdQGZmZmZmZhpAmpmZmZmZE0AzMzMzMzMZQDMzMzMzMwtAzczMzMzMLEBmZmZmZmYOQGZmZmZmZipAZmZmZmZmKUCamZmZmZkJQJqZmZmZmQFAAAAAAAAAIUAAAAAAAAAQQM3MzMzMzBZAzczMzMzMBEAzMzMzMzMbQA==\",\"dtype\":\"float64\",\"shape\":[50]},\"PC1\":{\"__ndarray__\":\"aNE/d8GJ77+jJEakwzP/v9DByfjqNfy/ytr8Xw8awj+pOxl+HDEEwBuuQkSmO/i/CuNtHgW99T+kT0HEWm2ovzLL4ue1GgjAuOEd24A6+r9u5ULCfDTtPw1yEMWePPo/CBYYsQQQ9r9Mf+dNvSzgP3zjL5d3BwJAtL1N1gyA6T/wBA2cCQfoP84mDpN+Cfm/NvJK8LQsA0CPKOjRwjb8v0qrMTRZHd8/EuXHZBbeAMDAQbaGORX7P7wwH1lI4++/7loK8RRM5r+7oupqnPfyP94GDBoMQPQ/dMNVkML+BsBaC/I9QhIDQAzaf+uOPce/95RrYy2u/78Sw0NB1uv6v2ZKdthb+fG/rAq2+xPwB0AJaqJZb+zMP2+nbxNA9NM/UMuOtD9Frr+QQrQF523sP6ysjE8FpOs/lQCHSK8h9b/ggt/87M3/P5Lb5kXi/e+/QJ98ZqWu9b8lkXAKO57hP/dz745KaQZAWc44nWepuD98HsZqfcPLP5yNtgZi3gBAyzikLkGjAEDeRuJiQyTkPw==\",\"dtype\":\"float64\",\"shape\":[50]},\"PC2\":{\"__ndarray__\":\"0My8C2Ai8j98Cc6p4SvxP6QhIsHg3ue/0L9jCLDq8T/6x9KM26/4v7t/OR8Nmu+/Agc3pz9s8b88HSY9rtLUv9AwOXvCFaQ/OZ8WT4x29D9aanatmiD5vyzRPBopAcs/Dwj0nKTR5b9pnSzAZmbDv/PsfqZJo7q/NDzv5mBK0b/QpKP2iqvuP4D0EgOu3+s/jBhJscwW2D8Qw/Phs17bP08sg6OJl/e/xhFi/wrkw78ASDryezvkvzx4n4J+JgNADHzvDM7a0L/9lnopEy7hP9Hi585508i/CX2YgLfR6L8xq37rKYSSvzacwuYsMfe/jlzRa95Iwj9r4QhFhlfqv/wsLG/z0gFAujmvPfsr4z9LUUpnasDnv6w83As0bNK/5fb1HD5T4b8NF/4+dEbivzGnPMQk3/e/O3I4ujnv/j+PC7Ps01jqP+I3fb4th+s/vM0E8xVm2r8vG4pqSIv3v0fwiJnFb/Y/jetcC+2QyT/QIOveQQvvv52Ccw4szPY/ktrQN4OP47++uDb5eYvUPw==\",\"dtype\":\"float64\",\"shape\":[50]},\"Rape\":{\"__ndarray__\":\"MzMzMzMzNUAAAAAAAEBGQAAAAAAAAD9AAAAAAACAM0DNzMzMzExEQJqZmZmZWUNAMzMzMzMzJkCamZmZmZkvQGZmZmZm5j9AzczMzMzMOUAzMzMzMzM0QGZmZmZmZixAAAAAAAAAOEAAAAAAAAA1QJqZmZmZmSZAAAAAAAAAMkDNzMzMzEwwQDMzMzMzMzZAMzMzMzMzH0DNzMzMzMw7QM3MzMzMTDBAzczMzMyMQUDNzMzMzMwtQJqZmZmZGTFAMzMzMzMzPEBmZmZmZmYwQAAAAAAAgDBAAAAAAAAAR0AAAAAAAAAjQM3MzMzMzDJAzczMzMwMQECamZmZmRk6QJqZmZmZGTBAMzMzMzMzHUBmZmZmZmY1QAAAAAAAADRAzczMzMxMPUDNzMzMzMwtQJqZmZmZmSBAAAAAAACANkCamZmZmZkpQGZmZmZm5jpAAAAAAACAOUBmZmZmZuY2QGZmZmZmZiZAMzMzMzOzNEAzMzMzMzM6QJqZmZmZmSJAmpmZmZmZJUAzMzMzMzMvQA==\",\"dtype\":\"float64\",\"shape\":[50]},\"State\":[\"Alabama\",\"Alaska\",\"Arizona\",\"Arkansas\",\"California\",\"Colorado\",\"Connecticut\",\"Delaware\",\"Florida\",\"Georgia\",\"Hawaii\",\"Idaho\",\"Illinois\",\"Indiana\",\"Iowa\",\"Kansas\",\"Kentucky\",\"Louisiana\",\"Maine\",\"Maryland\",\"Massachusetts\",\"Michigan\",\"Minnesota\",\"Mississippi\",\"Missouri\",\"Montana\",\"Nebraska\",\"Nevada\",\"New Hampshire\",\"New Jersey\",\"New Mexico\",\"New York\",\"North Carolina\",\"North Dakota\",\"Ohio\",\"Oklahoma\",\"Oregon\",\"Pennsylvania\",\"Rhode Island\",\"South Carolina\",\"South Dakota\",\"Tennessee\",\"Texas\",\"Utah\",\"Vermont\",\"Virginia\",\"Washington\",\"West Virginia\",\"Wisconsin\",\"Wyoming\"],\"UrbanPop\":[58,48,80,50,91,78,77,72,80,60,83,54,83,65,57,66,52,66,51,67,85,74,66,44,70,53,62,81,56,89,70,86,45,44,75,68,67,72,87,48,45,59,80,80,32,63,73,39,66,60],\"index\":[\"Alabama\",\"Alaska\",\"Arizona\",\"Arkansas\",\"California\",\"Colorado\",\"Connecticut\",\"Delaware\",\"Florida\",\"Georgia\",\"Hawaii\",\"Idaho\",\"Illinois\",\"Indiana\",\"Iowa\",\"Kansas\",\"Kentucky\",\"Louisiana\",\"Maine\",\"Maryland\",\"Massachusetts\",\"Michigan\",\"Minnesota\",\"Mississippi\",\"Missouri\",\"Montana\",\"Nebraska\",\"Nevada\",\"New Hampshire\",\"New Jersey\",\"New Mexico\",\"New York\",\"North Carolina\",\"North Dakota\",\"Ohio\",\"Oklahoma\",\"Oregon\",\"Pennsylvania\",\"Rhode Island\",\"South Carolina\",\"South Dakota\",\"Tennessee\",\"Texas\",\"Utah\",\"Vermont\",\"Virginia\",\"Washington\",\"West Virginia\",\"Wisconsin\",\"Wyoming\"]},\"selected\":{\"id\":\"1563\",\"type\":\"Selection\"},\"selection_policy\":{\"id\":\"1562\",\"type\":\"UnionRenderers\"}},\"id\":\"1506\",\"type\":\"ColumnDataSource\"},{\"attributes\":{\"text\":\"PCA on Arrest Data:orange=rape, blue=assault, green=murder\"},\"id\":\"1465\",\"type\":\"Title\"},{\"attributes\":{\"callback\":null,\"tooltips\":[[\"State\",\"@index\"],[\"Murder\",\"@Murder\"],[\"Assault\",\"@Assault\"],[\"Rape\",\"@Rape\"],[\"UrbanPct\",\"@UrbanPop\"]]},\"id\":\"1491\",\"type\":\"HoverTool\"},{\"attributes\":{},\"id\":\"1560\",\"type\":\"UnionRenderers\"},{\"attributes\":{\"end\":{\"id\":\"1509\",\"type\":\"OpenHead\"},\"line_color\":{\"value\":\"orange\"},\"source\":null,\"start\":null,\"x_end\":{\"value\":-0.7883743893137277},\"x_start\":{\"value\":0},\"y_end\":{\"value\":0.6151957593109749},\"y_start\":{\"value\":0}},\"id\":\"1510\",\"type\":\"Arrow\"},{\"attributes\":{\"callback\":null},\"id\":\"1467\",\"type\":\"DataRange1d\"},{\"attributes\":{\"source\":{\"id\":\"1500\",\"type\":\"ColumnDataSource\"}},\"id\":\"1505\",\"type\":\"CDSView\"},{\"attributes\":{},\"id\":\"1471\",\"type\":\"LinearScale\"},{\"attributes\":{},\"id\":\"1515\",\"type\":\"OpenHead\"},{\"attributes\":{},\"id\":\"1485\",\"type\":\"PanTool\"},{\"attributes\":{\"source\":{\"id\":\"1506\",\"type\":\"ColumnDataSource\"},\"text\":{\"field\":\"State\"},\"text_font_size\":{\"value\":\"6pt\"},\"x\":{\"field\":\"PC1\"},\"y\":{\"field\":\"PC2\"}},\"id\":\"1507\",\"type\":\"LabelSet\"},{\"attributes\":{\"end\":{\"id\":\"1518\",\"type\":\"OpenHead\"},\"line_color\":{\"value\":\"red\"},\"line_width\":{\"value\":3},\"source\":null,\"start\":null,\"x_end\":{\"value\":-0.3036792421982648},\"x_start\":{\"value\":0},\"y_end\":{\"value\":-0.952774326825554},\"y_start\":{\"value\":0}},\"id\":\"1519\",\"type\":\"Arrow\"},{\"attributes\":{},\"id\":\"1486\",\"type\":\"WheelZoomTool\"},{\"attributes\":{\"callback\":null,\"end\":3,\"start\":-3},\"id\":\"1469\",\"type\":\"Range1d\"},{\"attributes\":{\"overlay\":{\"id\":\"1564\",\"type\":\"BoxAnnotation\"}},\"id\":\"1487\",\"type\":\"BoxZoomTool\"},{\"attributes\":{\"fill_color\":{\"value\":\"#1f77b4\"},\"line_color\":{\"value\":\"#1f77b4\"},\"x\":{\"field\":\"PC1\"},\"y\":{\"field\":\"PC2\"}},\"id\":\"1502\",\"type\":\"Circle\"},{\"attributes\":{},\"id\":\"1518\",\"type\":\"OpenHead\"},{\"attributes\":{},\"id\":\"1488\",\"type\":\"SaveTool\"},{\"attributes\":{},\"id\":\"1473\",\"type\":\"LinearScale\"},{\"attributes\":{},\"id\":\"1489\",\"type\":\"ResetTool\"},{\"attributes\":{\"formatter\":{\"id\":\"1558\",\"type\":\"BasicTickFormatter\"},\"ticker\":{\"id\":\"1476\",\"type\":\"BasicTicker\"}},\"id\":\"1475\",\"type\":\"LinearAxis\"},{\"attributes\":{\"fill_alpha\":{\"value\":0.1},\"fill_color\":{\"value\":\"#1f77b4\"},\"line_alpha\":{\"value\":0.1},\"line_color\":{\"value\":\"#1f77b4\"},\"x\":{\"field\":\"PC1\"},\"y\":{\"field\":\"PC2\"}},\"id\":\"1503\",\"type\":\"Circle\"},{\"attributes\":{},\"id\":\"1490\",\"type\":\"HelpTool\"},{\"attributes\":{},\"id\":\"1561\",\"type\":\"Selection\"},{\"attributes\":{},\"id\":\"1476\",\"type\":\"BasicTicker\"},{\"attributes\":{},\"id\":\"1558\",\"type\":\"BasicTickFormatter\"},{\"attributes\":{\"ticker\":{\"id\":\"1476\",\"type\":\"BasicTicker\"}},\"id\":\"1479\",\"type\":\"Grid\"},{\"attributes\":{\"active_drag\":\"auto\",\"active_inspect\":\"auto\",\"active_multi\":null,\"active_scroll\":\"auto\",\"active_tap\":\"auto\",\"tools\":[{\"id\":\"1485\",\"type\":\"PanTool\"},{\"id\":\"1486\",\"type\":\"WheelZoomTool\"},{\"id\":\"1487\",\"type\":\"BoxZoomTool\"},{\"id\":\"1488\",\"type\":\"SaveTool\"},{\"id\":\"1489\",\"type\":\"ResetTool\"},{\"id\":\"1490\",\"type\":\"HelpTool\"},{\"id\":\"1491\",\"type\":\"HoverTool\"}]},\"id\":\"1492\",\"type\":\"Toolbar\"},{\"attributes\":{\"formatter\":{\"id\":\"1556\",\"type\":\"BasicTickFormatter\"},\"ticker\":{\"id\":\"1481\",\"type\":\"BasicTicker\"}},\"id\":\"1480\",\"type\":\"LinearAxis\"},{\"attributes\":{},\"id\":\"1562\",\"type\":\"UnionRenderers\"},{\"attributes\":{},\"id\":\"1556\",\"type\":\"BasicTickFormatter\"},{\"attributes\":{},\"id\":\"1563\",\"type\":\"Selection\"},{\"attributes\":{},\"id\":\"1481\",\"type\":\"BasicTicker\"},{\"attributes\":{},\"id\":\"1509\",\"type\":\"OpenHead\"},{\"attributes\":{\"end\":{\"id\":\"1512\",\"type\":\"OpenHead\"},\"line_color\":{\"value\":\"blue\"},\"source\":null,\"start\":null,\"x_end\":{\"value\":-0.9517744711603368},\"x_start\":{\"value\":0},\"y_end\":{\"value\":0.30679855939600076},\"y_start\":{\"value\":0}},\"id\":\"1513\",\"type\":\"Arrow\"},{\"attributes\":{\"dimension\":1,\"ticker\":{\"id\":\"1481\",\"type\":\"BasicTicker\"}},\"id\":\"1484\",\"type\":\"Grid\"}],\"root_ids\":[\"1464\"]},\"title\":\"Bokeh Application\",\"version\":\"1.3.4\"}};\n",
       "  var render_items = [{\"docid\":\"02385235-db21-4ba2-9bd9-58327ce5a3f0\",\"roots\":{\"1464\":\"f13485c6-605e-4009-bca5-c5199fbb7e02\"}}];\n",
       "  root.Bokeh.embed.embed_items_notebook(docs_json, render_items);\n",
       "\n",
       "  }\n",
       "  if (root.Bokeh !== undefined) {\n",
       "    embed_document(root);\n",
       "  } else {\n",
       "    var attempts = 0;\n",
       "    var timer = setInterval(function(root) {\n",
       "      if (root.Bokeh !== undefined) {\n",
       "        embed_document(root);\n",
       "        clearInterval(timer);\n",
       "      }\n",
       "      attempts++;\n",
       "      if (attempts > 100) {\n",
       "        console.log(\"Bokeh: ERROR: Unable to run BokehJS code because BokehJS library is missing\");\n",
       "        clearInterval(timer);\n",
       "      }\n",
       "    }, 10, root)\n",
       "  }\n",
       "})(window);"
      ],
      "application/vnd.bokehjs_exec.v0+json": ""
     },
     "metadata": {
      "application/vnd.bokehjs_exec.v0+json": {
       "id": "1464"
      }
     },
     "output_type": "display_data"
    }
   ],
   "source": [
    "f = figure(tooltips=[(\"State\",\"@index\"),(\"Murder\",\"@Murder\"),(\"Assault\",\"@Assault\"),(\"Rape\",\"@Rape\"),(\"UrbanPct\",\"@UrbanPop\")],y_range=(-3,3),title='PCA on Arrest Data:orange=rape, blue=assault, green=murder')\n",
    "f.circle(source=ColumnDataSource(arrests),x='PC1',y='PC2')\n",
    "f.add_layout(LabelSet(source=ColumnDataSource(arrests),x='PC1',y='PC2',text=\"State\",text_font_size=\"6pt\"))\n",
    "f.add_layout(Arrow(end=OpenHead(),line_color='orange',x_start=0,y_start=0,x_end=murder[1],y_end=murder[0]))\n",
    "f.add_layout(Arrow(end=OpenHead(),x_start=0,line_color=\"blue\",y_start=0,x_end=assault[1],y_end=assault[0]))\n",
    "f.add_layout(Arrow(end=OpenHead(),x_start=0,line_color=\"green\",y_start=0,x_end=rape[1],y_end=rape[0]))\n",
    "f.add_layout(Arrow(end=OpenHead(),line_color='red',line_width=3,x_start=0,y_start=0,x_end=pop[1],y_end=pop[0]))\n",
    "show(f)"
   ]
  },
  {
   "cell_type": "markdown",
   "metadata": {},
   "source": [
    "In the diagram above (which mimics Figure 10.1 in ISLR), we see that the red arrow points in the direction in which the original \"UrbanPop\" is projected.  So moving DOWN in the graph corresponds to increasing percentage of urban population.  Rural states like Mississippi, Vermont, and West Virginia are up above;\n",
    "Urban states like California, New Jersey, Massachusetts are down below. \n",
    "\n",
    "The three crime arrows point to the left, with slighly different orientations.  This tells us that moving to the left gives generally higher crime rates, though the different crimes interact differently with population. \n",
    "\n",
    "So we can think of PC1 as a good amalgamation of the overall crime measure and PC2 as measuring urban population."
   ]
  },
  {
   "cell_type": "code",
   "execution_count": null,
   "metadata": {},
   "outputs": [],
   "source": []
  }
 ],
 "metadata": {
  "kernelspec": {
   "display_name": "Python 3",
   "language": "python",
   "name": "python3"
  },
  "language_info": {
   "codemirror_mode": {
    "name": "ipython",
    "version": 3
   },
   "file_extension": ".py",
   "mimetype": "text/x-python",
   "name": "python",
   "nbconvert_exporter": "python",
   "pygments_lexer": "ipython3",
   "version": "3.7.4"
  }
 },
 "nbformat": 4,
 "nbformat_minor": 4
}
