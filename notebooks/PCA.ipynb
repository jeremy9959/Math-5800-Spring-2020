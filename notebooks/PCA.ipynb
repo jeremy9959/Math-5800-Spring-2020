{
 "cells": [
  {
   "cell_type": "markdown",
   "metadata": {},
   "source": [
    "## Variance and Principal Component Analysis"
   ]
  },
  {
   "cell_type": "code",
   "execution_count": 360,
   "metadata": {},
   "outputs": [
    {
     "ename": "ImportError",
     "evalue": "cannot import name 'LabelSet' from 'bokeh.models.glyphs' (/Users/jteitelbaum/anaconda3/lib/python3.7/site-packages/bokeh/models/glyphs.py)",
     "output_type": "error",
     "traceback": [
      "\u001b[0;31m---------------------------------------------------------------------------\u001b[0m",
      "\u001b[0;31mImportError\u001b[0m                               Traceback (most recent call last)",
      "\u001b[0;32m<ipython-input-360-ecba1903cada>\u001b[0m in \u001b[0;36m<module>\u001b[0;34m\u001b[0m\n\u001b[1;32m      4\u001b[0m \u001b[0;32mfrom\u001b[0m \u001b[0mbokeh\u001b[0m\u001b[0;34m.\u001b[0m\u001b[0mio\u001b[0m \u001b[0;32mimport\u001b[0m \u001b[0mshow\u001b[0m\u001b[0;34m,\u001b[0m \u001b[0moutput_notebook\u001b[0m\u001b[0;34m\u001b[0m\u001b[0;34m\u001b[0m\u001b[0m\n\u001b[1;32m      5\u001b[0m \u001b[0;32mfrom\u001b[0m \u001b[0mbokeh\u001b[0m\u001b[0;34m.\u001b[0m\u001b[0mmodels\u001b[0m \u001b[0;32mimport\u001b[0m \u001b[0mSlope\u001b[0m\u001b[0;34m,\u001b[0m \u001b[0mColumnDataSource\u001b[0m\u001b[0;34m,\u001b[0m \u001b[0mArrow\u001b[0m\u001b[0;34m,\u001b[0m \u001b[0mOpenHead\u001b[0m\u001b[0;34m,\u001b[0m \u001b[0mLabelSet\u001b[0m\u001b[0;34m\u001b[0m\u001b[0;34m\u001b[0m\u001b[0m\n\u001b[0;32m----> 6\u001b[0;31m \u001b[0;32mfrom\u001b[0m \u001b[0mbokeh\u001b[0m\u001b[0;34m.\u001b[0m\u001b[0mmodels\u001b[0m\u001b[0;34m.\u001b[0m\u001b[0mglyphs\u001b[0m \u001b[0;32mimport\u001b[0m \u001b[0mMultiLine\u001b[0m\u001b[0;34m,\u001b[0m \u001b[0mLabelSet\u001b[0m\u001b[0;34m\u001b[0m\u001b[0;34m\u001b[0m\u001b[0m\n\u001b[0m\u001b[1;32m      7\u001b[0m \u001b[0moutput_notebook\u001b[0m\u001b[0;34m(\u001b[0m\u001b[0;34m)\u001b[0m\u001b[0;34m\u001b[0m\u001b[0;34m\u001b[0m\u001b[0m\n",
      "\u001b[0;31mImportError\u001b[0m: cannot import name 'LabelSet' from 'bokeh.models.glyphs' (/Users/jteitelbaum/anaconda3/lib/python3.7/site-packages/bokeh/models/glyphs.py)"
     ]
    }
   ],
   "source": [
    "import pandas as pd\n",
    "import numpy as np\n",
    "from bokeh.plotting import figure\n",
    "from bokeh.io import show, output_notebook\n",
    "from bokeh.models import Slope, ColumnDataSource, Arrow, OpenHead, LabelSet\n",
    "from bokeh.models.glyphs import MultiLine\n",
    "output_notebook()"
   ]
  },
  {
   "cell_type": "markdown",
   "metadata": {},
   "source": [
    "### Preliminaries: Samples and Features\n",
    "\n",
    "Our goal in machine learning problems is to extract meaningful information from a collection of data.  In many cases the data is naturally organized into a large number of samples, and, for each sample, a large collection of measurements or *features*.   Depending on whether we are doing classification or regression, we are trying to extract the label or the output value as a function of the features of a sample. \n",
    "\n",
    "- In the MNIST data set, each image is a sample and the features are the 784 pixel values for each image. \n",
    "- In the Zillow home price algorithm, the samples are houses, the features are the characteristics of the house, and the target to be predicted is the selling price.\n",
    "\n",
    "In many cases the features are a mix of types -- some are numerical, some quantitative.  For example,\n",
    "in the Zillow data, some relevant features might be past selling price and taxes, and others might be whether or not the house has Air Conditioning.\n",
    "\n",
    "It's good practice to organize your data so that the ROWS are samples (or observations) and the COLUMNS are features (or variables).   This is consistent with what's called [tidy data](https://vita.had.co.nz/papers/tidy-data.pdf).  A great deal of software expects your data to be organized in this way.\n",
    "\n",
    "Sometimes you have to make choices about what are your samples and what are your features.  For example,\n",
    "in the movie recommendation problem you have a collection of data of the form (person, movie, rating).\n",
    "To use this data you need to \"unbundle\" it.  You can:\n",
    "\n",
    "- create a matrix whose rows correspond to people and whose columns correspond to movies.  From this point of view, an \"observation\" consists of finding a person and asking them their opinion about a bunch of movies.\n",
    "- create a matrix whose rows are movies and whose columns are people.  From this point of view, an \"observation\" consists of collecting individual opinions from many people about that particular movie.\n",
    "\n",
    "Which approach is correct depends on your goal. For us, if you want to recommend movies to people based on the opinions of other people with similar tastes, then your observations are people and your features are the movies that they like.  \n",
    "\n",
    "It seems to me that in the reinforcement learning problem, the features are the many states of the game, plus whose turn it is to move.  The samples are the games themselves. \n",
    "\n",
    "\n",
    "\n",
    "\n"
   ]
  },
  {
   "cell_type": "markdown",
   "metadata": {},
   "source": [
    "### Mean and Variance\n",
    "\n",
    "Let's look at a simple case where our features are numbers -- say there are $k$ samples and, \n",
    "for each sample, $m$ features that are real numbers.  Then our data is a $k\\times m$ matrix of real\n",
    "numbers or, alternatively, we have $k$ points $x_1,\\ldots, x_k$ in $\\mathbf{R}^{m}$.\n",
    "\n",
    "From a geometric point of view, the mean of our dataset is the centroid of the set of points:\n",
    "$$\n",
    "\\overline{x} = \\frac{1}{k}\\sum_{i=1}^{k} x_k\n",
    "$$\n",
    "\n",
    "The variance of our set of points, which measures how dispersed they are around the mean,\n",
    "is\n",
    "$$\n",
    "\\sigma^2 = \\frac{1}{k}\\sum_{i=1}^{k} \\|x_i-\\overline{x}\\|^2\n",
    "$$\n",
    "\n",
    "Since our focus for the rest of this discussion is on the variance, let's simplify things and \n",
    "**assume that our points have mean zero.**  This can be accomplished just be replacing\n",
    "each point $x_i$ by $x_i-\\overline{x}$. Then the variance just becomes\n",
    "$$\n",
    "\\sigma^2=\\frac{1}{k}\\sum_{i=1}^{k}\\|x_i\\|^2.\n",
    "$$\n",
    "or the average squared distance of the points from the origin."
   ]
  },
  {
   "cell_type": "markdown",
   "metadata": {},
   "source": [
    "### Components of the variance\n",
    "\n",
    "Each point $x_i$ is a vector, so it has $m$ coordinates:\n",
    "$$\n",
    "x_i = (x_{i1},x_{i2},\\ldots, x_{im}).\n",
    "$$\n",
    "\n",
    "Therefore \n",
    "$$\n",
    "\\|x_i\\|^2 = \\sum_{j=1}^{m} x_{ij}^2.\n",
    "$$\n",
    "\n",
    "We can regroup the sum that gives the variance by components and get\n",
    "$$\n",
    "\\sigma^2 = \\sum_{j=1}^{m} \\sigma_j^2\n",
    "$$\n",
    "where, for each $j$, \n",
    "$$\n",
    "\\sigma_{j}^2 = \\sum_{i=1}^{k} x_{ij}^2.\n",
    "$$\n",
    "In other words $\\sigma_j^2$ is the variance of the $j^{th}$ coordinates of the points $x_i$\n",
    "and the total variance is a sum of contributions of these variances in the $m$ standard orthogonal basis\n",
    "directions in $\\mathbf{R}^{m}$.\n",
    "\n",
    "More generally, suppose that $\\mathbf{u}$ is a unit vector in $\\mathbf{R}^{m}$.  We can orthogonally project each of the points $x_i$ into the $\\mathbf{u}$ direction and ask for the variance in the $\\mathbf{u}$ direction.\n"
   ]
  },
  {
   "cell_type": "code",
   "execution_count": 68,
   "metadata": {},
   "outputs": [],
   "source": [
    "x = np.random.normal(0,1.5,size=20)\n",
    "y = np.random.normal(0,1.5,size=20)\n",
    "xprime = (x+2*y)/5\n",
    "yprime = 2*xprime\n",
    "xs = [[x[i],xprime[i]] for i in range(x.shape[0])]\n",
    "ys = [[y[i],yprime[i]] for i in range(y.shape[0])]"
   ]
  },
  {
   "cell_type": "code",
   "execution_count": 81,
   "metadata": {},
   "outputs": [
    {
     "data": {
      "text/html": [
       "\n",
       "\n",
       "\n",
       "\n",
       "\n",
       "\n",
       "  <div class=\"bk-root\" id=\"35eaa7c2-1050-4aa0-a5ad-e6c0783fa861\" data-root-id=\"5529\"></div>\n"
      ]
     },
     "metadata": {},
     "output_type": "display_data"
    },
    {
     "data": {
      "application/javascript": [
       "(function(root) {\n",
       "  function embed_document(root) {\n",
       "    \n",
       "  var docs_json = {\"d4315dbf-70d1-4551-8cfc-f4d4bb4f50e6\":{\"roots\":{\"references\":[{\"attributes\":{\"below\":[{\"id\":\"5540\",\"type\":\"LinearAxis\"}],\"center\":[{\"id\":\"5544\",\"type\":\"Grid\"},{\"id\":\"5549\",\"type\":\"Grid\"},{\"id\":\"5574\",\"type\":\"Legend\"},{\"id\":\"5590\",\"type\":\"Slope\"}],\"left\":[{\"id\":\"5545\",\"type\":\"LinearAxis\"}],\"renderers\":[{\"id\":\"5566\",\"type\":\"GlyphRenderer\"},{\"id\":\"5579\",\"type\":\"GlyphRenderer\"},{\"id\":\"5593\",\"type\":\"GlyphRenderer\"}],\"title\":{\"id\":\"5530\",\"type\":\"Title\"},\"toolbar\":{\"id\":\"5556\",\"type\":\"Toolbar\"},\"x_range\":{\"id\":\"5532\",\"type\":\"Range1d\"},\"x_scale\":{\"id\":\"5536\",\"type\":\"LinearScale\"},\"y_range\":{\"id\":\"5534\",\"type\":\"Range1d\"},\"y_scale\":{\"id\":\"5538\",\"type\":\"LinearScale\"}},\"id\":\"5529\",\"subtype\":\"Figure\",\"type\":\"Plot\"},{\"attributes\":{\"dimension\":1,\"ticker\":{\"id\":\"5546\",\"type\":\"BasicTicker\"}},\"id\":\"5549\",\"type\":\"Grid\"},{\"attributes\":{\"formatter\":{\"id\":\"5570\",\"type\":\"BasicTickFormatter\"},\"ticker\":{\"id\":\"5546\",\"type\":\"BasicTicker\"}},\"id\":\"5545\",\"type\":\"LinearAxis\"},{\"attributes\":{},\"id\":\"5821\",\"type\":\"UnionRenderers\"},{\"attributes\":{},\"id\":\"5570\",\"type\":\"BasicTickFormatter\"},{\"attributes\":{\"callback\":null,\"data\":{\"x\":{\"__ndarray__\":\"AMMFqNtPxb+LRPsoWKLkP9Mf1HcjO+u/CASzH/a55D/yOnzAJwbMv/Uxz7chh+y/fSZkD8kOwL+LSepymczmvz6U6BEhh+G/9Msx6uBX8j+93lyrlgDmvzqgL52DCeA/GkJ2X1qg8r/2siZF/jDjP0IjCpRkYOq/2+oOZjst0b9t0yEK6JvBP963ENx9fMk/PeYQ9IzA8T8jQ2u0d7DtPw==\",\"dtype\":\"float64\",\"shape\":[20]},\"y\":{\"__ndarray__\":\"AMMFqNtP1b+LRPsoWKL0P9Mf1HcjO/u/CASzH/a59D/yOnzAJwbcv/Uxz7chh/y/fSZkD8kO0L+LSepymcz2vz6U6BEhh/G/9Msx6uBXAkC93lyrlgD2vzqgL52DCfA/GkJ2X1qgAsD2siZF/jDzP0IjCpRkYPq/2+oOZjst4b9t0yEK6JvRP963ENx9fNk/PeYQ9IzAAUAjQ2u0d7D9Pw==\",\"dtype\":\"float64\",\"shape\":[20]}},\"selected\":{\"id\":\"5820\",\"type\":\"Selection\"},\"selection_policy\":{\"id\":\"5819\",\"type\":\"UnionRenderers\"}},\"id\":\"5576\",\"type\":\"ColumnDataSource\"},{\"attributes\":{},\"id\":\"5572\",\"type\":\"BasicTickFormatter\"},{\"attributes\":{\"source\":{\"id\":\"5563\",\"type\":\"ColumnDataSource\"}},\"id\":\"5567\",\"type\":\"CDSView\"},{\"attributes\":{\"bottom_units\":\"screen\",\"fill_alpha\":{\"value\":0.5},\"fill_color\":{\"value\":\"lightgrey\"},\"left_units\":\"screen\",\"level\":\"overlay\",\"line_alpha\":{\"value\":1.0},\"line_color\":{\"value\":\"black\"},\"line_dash\":[4,4],\"line_width\":{\"value\":2},\"render_mode\":\"css\",\"right_units\":\"screen\",\"top_units\":\"screen\"},\"id\":\"5573\",\"type\":\"BoxAnnotation\"},{\"attributes\":{\"active_drag\":\"auto\",\"active_inspect\":\"auto\",\"active_multi\":null,\"active_scroll\":\"auto\",\"active_tap\":\"auto\",\"tools\":[{\"id\":\"5550\",\"type\":\"PanTool\"},{\"id\":\"5551\",\"type\":\"WheelZoomTool\"},{\"id\":\"5552\",\"type\":\"BoxZoomTool\"},{\"id\":\"5553\",\"type\":\"SaveTool\"},{\"id\":\"5554\",\"type\":\"ResetTool\"},{\"id\":\"5555\",\"type\":\"HelpTool\"}]},\"id\":\"5556\",\"type\":\"Toolbar\"},{\"attributes\":{\"fill_color\":{\"value\":\"black\"},\"x\":{\"field\":\"x\"},\"y\":{\"field\":\"y\"}},\"id\":\"5577\",\"type\":\"Circle\"},{\"attributes\":{\"items\":[{\"id\":\"5575\",\"type\":\"LegendItem\"},{\"id\":\"5589\",\"type\":\"LegendItem\"}]},\"id\":\"5574\",\"type\":\"Legend\"},{\"attributes\":{},\"id\":\"5822\",\"type\":\"Selection\"},{\"attributes\":{\"source\":{\"id\":\"5576\",\"type\":\"ColumnDataSource\"}},\"id\":\"5580\",\"type\":\"CDSView\"},{\"attributes\":{},\"id\":\"5550\",\"type\":\"PanTool\"},{\"attributes\":{\"callback\":null,\"data\":{\"x\":{\"__ndarray__\":\"IRqyjW7p7b9CPjXF0bnmPwVDIakQFcS/kKZWpwgEAEDcQ5etllr8v/oeubfkiee/D1xOCs3gAcDwhIH+GsH7v0qZlwQkC/2/7MjPHL64EECaUdIQOMHuv3Yw8gEUEdi/Im9uquQO7L9a57nxAnvMPxUBS1787wfACJS3XuI/6L9ydpc5yUTuPzSOkaJoBLg/Khm2D5yP8z9C75m1iwb9vw==\",\"dtype\":\"float64\",\"shape\":[20]},\"y\":{\"__ndarray__\":\"CjNX3d8sqj8dxuzBeRz0P8yJm6VNZADA9DySANbI4z8KPpOqe63VP7S21Pdwxv2/ECD+aly46T/sMsigZD7tv6ayW1Bdjd2/E9i5H2zU6D8Ggv9RbtDzv1jOuQQHDvc/vQQGYpTGA8A9wVSnjTX2P/pVg7UCEeK/HLdtIDKx0r9UXNpZzoPAvxC0wj4Q29w/gpknLclMAUDGhSm+7c8JQA==\",\"dtype\":\"float64\",\"shape\":[20]}},\"selected\":{\"id\":\"5587\",\"type\":\"Selection\"},\"selection_policy\":{\"id\":\"5586\",\"type\":\"UnionRenderers\"}},\"id\":\"5563\",\"type\":\"ColumnDataSource\"},{\"attributes\":{\"text\":\"Orthogonal Projection of Data\"},\"id\":\"5530\",\"type\":\"Title\"},{\"attributes\":{},\"id\":\"5551\",\"type\":\"WheelZoomTool\"},{\"attributes\":{\"data_source\":{\"id\":\"5576\",\"type\":\"ColumnDataSource\"},\"glyph\":{\"id\":\"5577\",\"type\":\"Circle\"},\"hover_glyph\":null,\"muted_glyph\":null,\"nonselection_glyph\":{\"id\":\"5578\",\"type\":\"Circle\"},\"selection_glyph\":null,\"view\":{\"id\":\"5580\",\"type\":\"CDSView\"}},\"id\":\"5579\",\"type\":\"GlyphRenderer\"},{\"attributes\":{\"callback\":null,\"end\":5,\"start\":-5},\"id\":\"5532\",\"type\":\"Range1d\"},{\"attributes\":{\"source\":{\"id\":\"5591\",\"type\":\"ColumnDataSource\"}},\"id\":\"5594\",\"type\":\"CDSView\"},{\"attributes\":{\"overlay\":{\"id\":\"5573\",\"type\":\"BoxAnnotation\"}},\"id\":\"5552\",\"type\":\"BoxZoomTool\"},{\"attributes\":{},\"id\":\"5536\",\"type\":\"LinearScale\"},{\"attributes\":{\"gradient\":2,\"line_color\":{\"value\":\"green\"},\"line_width\":{\"value\":2.0},\"y_intercept\":0},\"id\":\"5590\",\"type\":\"Slope\"},{\"attributes\":{},\"id\":\"5553\",\"type\":\"SaveTool\"},{\"attributes\":{\"fill_alpha\":{\"value\":0.1},\"fill_color\":{\"value\":\"#1f77b4\"},\"line_alpha\":{\"value\":0.1},\"line_color\":{\"value\":\"#1f77b4\"},\"x\":{\"field\":\"x\"},\"y\":{\"field\":\"y\"}},\"id\":\"5578\",\"type\":\"Circle\"},{\"attributes\":{},\"id\":\"5554\",\"type\":\"ResetTool\"},{\"attributes\":{\"callback\":null,\"end\":5,\"start\":-5},\"id\":\"5534\",\"type\":\"Range1d\"},{\"attributes\":{\"callback\":null,\"data\":{\"xs\":[[-0.9347450988287315,-0.1664995737478634],[0.7101830341070541,0.6448174286289413],[-0.15689285524651822,-0.8509690609362174],[2.0019696305578876,0.6477003687979286],[-1.7721163540738791,-0.21893784426398316],[-0.7355826938955652,-0.8914955701853261],[-2.234766083256097,-0.12545121432804143],[-1.734644884265716,-0.7124755138814164],[-1.8152198962576045,-0.5477452611709237],[4.180412721807652,1.146454729864442],[-0.9610863045259521,-0.6875718447617697],[-0.37604236784023415,0.501161391262037],[-0.8768180207002596,-1.1641486863119384],[0.22250401309048123,0.5997306204422717],[-2.992180573142955,-0.8242667094610641],[-0.7577983713096055,-0.2683857437765888],[0.9458967327916084,0.13757038588269258],[0.09381727189025285,0.19911168332458734],[1.2225609410975928,1.1095094236210479],[-1.8140980809975678,0.9277914546783886]],\"ys\":[[0.05112361504470726,-0.3329991474957268],[1.2569520545188262,1.2896348572578826],[-2.0489762247172845,-1.7019381218724348],[0.6182661067158777,1.2954007375958572],[0.3387135663769817,-0.4378756885279663],[-1.8609475785155327,-1.7829911403706522],[0.803755005807945,-0.25090242865608287],[-0.913866342570683,-1.4249510277628328],[-0.46175320479850723,-1.0954905223418474],[0.7759304637572789,2.292909459728884],[-1.2383864596414482,-1.3751436895235394],[1.4409246620752096,1.002322782524074],[-2.4719627054297164,-2.3282973726238767],[1.3880745445604383,1.1994612408845433],[-0.5645764870811825,-1.6485334189221281],[-0.2920651737866693,-0.5367714875531776],[-0.12902240168907275,0.27514077176538515],[0.450870572366342,0.3982233666491747],[2.1624930885038234,2.2190188472420957],[3.2265276771947553,1.8555829093567773]]},\"selected\":{\"id\":\"5822\",\"type\":\"Selection\"},\"selection_policy\":{\"id\":\"5821\",\"type\":\"UnionRenderers\"}},\"id\":\"5591\",\"type\":\"ColumnDataSource\"},{\"attributes\":{\"data_source\":{\"id\":\"5591\",\"type\":\"ColumnDataSource\"},\"glyph\":{\"id\":\"5592\",\"type\":\"MultiLine\"},\"hover_glyph\":null,\"muted_glyph\":null,\"view\":{\"id\":\"5594\",\"type\":\"CDSView\"}},\"id\":\"5593\",\"type\":\"GlyphRenderer\"},{\"attributes\":{\"fill_alpha\":{\"value\":0.1},\"fill_color\":{\"value\":\"#1f77b4\"},\"line_alpha\":{\"value\":0.1},\"line_color\":{\"value\":\"#1f77b4\"},\"x\":{\"field\":\"x\"},\"y\":{\"field\":\"y\"}},\"id\":\"5565\",\"type\":\"Circle\"},{\"attributes\":{},\"id\":\"5555\",\"type\":\"HelpTool\"},{\"attributes\":{},\"id\":\"5587\",\"type\":\"Selection\"},{\"attributes\":{\"fill_color\":{\"value\":\"#1f77b4\"},\"line_color\":{\"value\":\"#1f77b4\"},\"x\":{\"field\":\"x\"},\"y\":{\"field\":\"y\"}},\"id\":\"5564\",\"type\":\"Circle\"},{\"attributes\":{},\"id\":\"5586\",\"type\":\"UnionRenderers\"},{\"attributes\":{\"data_source\":{\"id\":\"5563\",\"type\":\"ColumnDataSource\"},\"glyph\":{\"id\":\"5564\",\"type\":\"Circle\"},\"hover_glyph\":null,\"muted_glyph\":null,\"nonselection_glyph\":{\"id\":\"5565\",\"type\":\"Circle\"},\"selection_glyph\":null,\"view\":{\"id\":\"5567\",\"type\":\"CDSView\"}},\"id\":\"5566\",\"type\":\"GlyphRenderer\"},{\"attributes\":{},\"id\":\"5538\",\"type\":\"LinearScale\"},{\"attributes\":{\"label\":{\"value\":\"data\"},\"renderers\":[{\"id\":\"5566\",\"type\":\"GlyphRenderer\"}]},\"id\":\"5575\",\"type\":\"LegendItem\"},{\"attributes\":{},\"id\":\"5820\",\"type\":\"Selection\"},{\"attributes\":{\"formatter\":{\"id\":\"5572\",\"type\":\"BasicTickFormatter\"},\"ticker\":{\"id\":\"5541\",\"type\":\"BasicTicker\"}},\"id\":\"5540\",\"type\":\"LinearAxis\"},{\"attributes\":{},\"id\":\"5546\",\"type\":\"BasicTicker\"},{\"attributes\":{\"label\":{\"value\":\"projection\"},\"renderers\":[{\"id\":\"5579\",\"type\":\"GlyphRenderer\"}]},\"id\":\"5589\",\"type\":\"LegendItem\"},{\"attributes\":{},\"id\":\"5819\",\"type\":\"UnionRenderers\"},{\"attributes\":{},\"id\":\"5541\",\"type\":\"BasicTicker\"},{\"attributes\":{\"xs\":{\"field\":\"xs\"},\"ys\":{\"field\":\"ys\"}},\"id\":\"5592\",\"type\":\"MultiLine\"},{\"attributes\":{\"ticker\":{\"id\":\"5541\",\"type\":\"BasicTicker\"}},\"id\":\"5544\",\"type\":\"Grid\"}],\"root_ids\":[\"5529\"]},\"title\":\"Bokeh Application\",\"version\":\"1.3.4\"}};\n",
       "  var render_items = [{\"docid\":\"d4315dbf-70d1-4551-8cfc-f4d4bb4f50e6\",\"roots\":{\"5529\":\"35eaa7c2-1050-4aa0-a5ad-e6c0783fa861\"}}];\n",
       "  root.Bokeh.embed.embed_items_notebook(docs_json, render_items);\n",
       "\n",
       "  }\n",
       "  if (root.Bokeh !== undefined) {\n",
       "    embed_document(root);\n",
       "  } else {\n",
       "    var attempts = 0;\n",
       "    var timer = setInterval(function(root) {\n",
       "      if (root.Bokeh !== undefined) {\n",
       "        embed_document(root);\n",
       "        clearInterval(timer);\n",
       "      }\n",
       "      attempts++;\n",
       "      if (attempts > 100) {\n",
       "        console.log(\"Bokeh: ERROR: Unable to run BokehJS code because BokehJS library is missing\");\n",
       "        clearInterval(timer);\n",
       "      }\n",
       "    }, 10, root)\n",
       "  }\n",
       "})(window);"
      ],
      "application/vnd.bokehjs_exec.v0+json": ""
     },
     "metadata": {
      "application/vnd.bokehjs_exec.v0+json": {
       "id": "5529"
      }
     },
     "output_type": "display_data"
    }
   ],
   "source": [
    "f = figure(x_range=(-5,5),y_range=(-5,5),title=\"Orthogonal Projection of Data\")\n",
    "f.circle(x,y,legend='data')\n",
    "f.circle(xprime,yprime,color='black',legend='projection')\n",
    "f.add_layout(Slope(gradient=2,y_intercept=0,line_color='green',line_width=2.0))\n",
    "f.add_glyph(ColumnDataSource({'xs':xs,'ys':ys}),MultiLine(xs='xs',ys='ys'))\n",
    "show(f)"
   ]
  },
  {
   "cell_type": "markdown",
   "metadata": {},
   "source": [
    "Since the projection of the data point $x$ in the $\\mathbf{u}$ direction is\n",
    "$(x\\cdot \\mathbf{u})\\mathbf{u}$ the variance in the $\\mathbf{u}$ direction\n",
    "is\n",
    "$$\n",
    "\\sigma_{\\mathbf{u}}^2 = \\sum_{i=1}^{k}\\|(x_i\\cdot\\mathbf{u})\\mathbf{u}\\|^2=\\sum_{i=1}^{k}|(x_i\\cdot\\mathbf{u})|^2\n",
    "$$"
   ]
  },
  {
   "cell_type": "markdown",
   "metadata": {},
   "source": [
    "How should we interpret this?  The \"direction\" given by the vector $\\mathbf{u}$ is a \"synthetic feature\" of the data -- it's a feature that has been derived from the other features, in this case as a (normalized) *linear* combination of features.\n",
    "\n",
    "Suppose for concreteness that $m=3$ and that the features of our data are age, weight, and income (normalized so that the means are zero). If our\n",
    "direction $\\mathbf{u}$ is $(\\frac{1}{\\sqrt{3}},\\frac{1}{\\sqrt{3}},\\frac{1}{\\sqrt{3}})$ then projection of the data into the $\\mathbf{u}$ direction\n",
    "measures the synthetic feature \n",
    "\n",
    "$$\n",
    "\\frac{(\\mathrm{age} + \\mathrm{weight} + \\mathrm{income})}{\\sqrt{3}}\n",
    "$$\n",
    "\n",
    "and the variance $\\sigma^2_{\\mathbf{u}}$ measures the variance of this synthetic feature.\n",
    "\n",
    "We *may be able to distinguish people better through such synthetic features than we can through the individual characteristics*.\n",
    "\n",
    "For example, your Credit Score is some kind of synthetic feature constructed out of all of your credit history which is supposed to predict your likelihood of loan repayment.  Your BMI (your weight divided by your height squared) is another synthetic feature.  \n"
   ]
  },
  {
   "cell_type": "markdown",
   "metadata": {},
   "source": [
    "Of course, the $\\sigma_u^2$ varies with $u$.  We can package up all of the information for varying $u$ by using a little linear algebra.  Our vectors $x_i$ are $1\\times m$ row vectors, and so is the direction $\\mathbf{u}$.\n",
    "Therefore the dot product $x\\cdot \\mathbf{u}$ can be written\n",
    "$x^t\\mathbf{u}$ where $x^t$ is the transpose of $x$.  \n",
    "\n",
    "Putting all of the $x_i$ together into the $k\\times m$ matrix $X$,\n",
    "it follows that \n",
    "\n",
    "$$\n",
    "\\sigma_\\mathbf{u}^2 = \\mathbf{u}X^tX\\mathbf{u}^t.\n",
    "$$\n",
    "\n",
    "To pull this apart, $\\mathbf{u}X^t$ is a $1\\times k$ matrix\n",
    "whose entries are the dot products $\\mathbf{u}\\cdot x_i$ for $i=1,\\ldots, k$.\n",
    "Taking the dot product of this $1\\times k$ matrix with itself gives\n",
    "the sum of the squares of these dot products, which is what we want.\n",
    "\n",
    "Note also that this sum of squares is non-negative.  It could be zero -- for example, if all of the data happened to lie in a lower dimensional subspace of the features space -- but for random data this is pretty much impossible.\n",
    "It might lie *close* to a lower dimensional subspace, however.\n",
    "\n",
    "The matrix $X^{t}X$ is an $m\\times m$ symmetric matrix. If we let $D=X^{t}X/k$ then the $m$ diagonal entries of $D$ are the variances along the $m$ coordinate axes that we called $\\sigma_j^2$ up above, and its trace is the total variance $\\sigma^2$."
   ]
  },
  {
   "cell_type": "markdown",
   "metadata": {},
   "source": [
    "### Eigenvectors, Eigenvalues, and Variance\n",
    "\n",
    "Because the matrix $D=X^tX/k$ is a real symmetric matrix we can construct\n",
    "an orthonormal sequence $u_1,\\ldots,u_m$ of eigenvectors of $D$\n",
    "with associated eigenvalues $\\lambda_1,\\lambda_2,\\ldots,\\lambda_m$.\n",
    "\n",
    "Let's order these so that\n",
    "\n",
    "$$\n",
    "\\lambda_1\\ge \\lambda_2 \\ge \\cdots\\ge \\lambda_m\\ge 0.\n",
    "$$\n",
    "\n",
    "\n",
    "These $u_i$ are called the *principal directions*.\n",
    "Recall that \n",
    "\n",
    "$$\n",
    "\\sigma_{u_i}^2 = u_iDu_i^t = \\lambda_i\n",
    "$$\n",
    "\n",
    "so the eigenvalues (the *principal components*) are the variances\n",
    "in the principal directions.\n",
    "\n",
    "**Proposition:**\n",
    "$$\n",
    "\\sigma^2 = \\sum_{i=1}^{m} \\lambda_i\n",
    "$$\n",
    "\n",
    "**Proof:** The total variance $\\sigma^2$ is the trace of the matrix $D$.\n",
    "\n",
    "\n",
    "**Corollary:** The direction $u_1$ is the direction in which the\n",
    "data has the largest variance (in the sense that the orthogonal projection\n",
    "of the data into the $u_1$ direction has the largest variance).  Similarly $u_2$ is the second largest, and so on."
   ]
  },
  {
   "cell_type": "markdown",
   "metadata": {},
   "source": [
    "### Dimension Reduction"
   ]
  },
  {
   "cell_type": "markdown",
   "metadata": {},
   "source": [
    "The idea behind using the principal components to reduce the dimension of the data is that if we project our datapoints into the subspace spanned by the first few principal components (meaning the ones associated with largest eigenvalues, and hence the largest share of the variance) then we will capture a significant portion of the variation in our data.  The smaller eigenvalues contain less information or might even arise from noise.\n",
    "\n",
    "Here we carry out analysis of some (very old) data on arrests in the USA.  This dataset\n",
    "is distributed with the R language package and it can be downloaded from \n",
    "[here](https://vincentarelbundock.github.io/Rdatasets/csv/datasets/USArrests.csv).  For each state it gives the rates of murder, rape and assault, as well as the percentage of population that lives in urban areas.  Note this is from 1975 so don't draw any real conclusions from it!\n",
    "\n",
    "This analysis follows section 10.2.1 of [Introduction to Statistical Learning with R](http://faculty.marshall.usc.edu/gareth-james/ISL/) by James, et. al. \n",
    "\n",
    "First we load in the data."
   ]
  },
  {
   "cell_type": "code",
   "execution_count": 286,
   "metadata": {},
   "outputs": [],
   "source": [
    "arrests = pd.read_csv('data/R/USArrests.csv',index_col=0)"
   ]
  },
  {
   "cell_type": "markdown",
   "metadata": {},
   "source": [
    "We standardize it so it has mean zero and each column (feature) has standard deviation 1.  This latter step mainly helps scale the final results so they are easier to compare."
   ]
  },
  {
   "cell_type": "code",
   "execution_count": 289,
   "metadata": {},
   "outputs": [],
   "source": [
    "M = arrests.values\n",
    "M = (M - np.mean(M,axis=0))\n",
    "M = M/M.std(axis=0)"
   ]
  },
  {
   "cell_type": "markdown",
   "metadata": {},
   "source": [
    "We compute the symmetric matrix (called the covariance matrix) and then find it's eigenvalues (L) and eigenvectors (the columns of the matrix V)"
   ]
  },
  {
   "cell_type": "code",
   "execution_count": 291,
   "metadata": {},
   "outputs": [],
   "source": [
    "D = np.dot(M.transpose(),M)/M.shape[0]\n",
    "L, V = np.linalg.eigh(D)"
   ]
  },
  {
   "cell_type": "markdown",
   "metadata": {},
   "source": [
    "We will focus our attention on the space spanned by the last two columns of V which correspond to the two largest eigenvalues -- these are the \"principal components\".  We project the data into the space spanned by those vectors."
   ]
  },
  {
   "cell_type": "code",
   "execution_count": 292,
   "metadata": {},
   "outputs": [],
   "source": [
    "P = np.dot(M,V[:,2:])"
   ]
  },
  {
   "cell_type": "markdown",
   "metadata": {},
   "source": [
    "We add the coordinates of the PC's into the dataframe."
   ]
  },
  {
   "cell_type": "code",
   "execution_count": 356,
   "metadata": {},
   "outputs": [],
   "source": [
    "arrests['PC1'] = P[:,1]\n",
    "arrests['PC2'] = P[:,0]\n",
    "arrests['State'] = arrests.index"
   ]
  },
  {
   "cell_type": "markdown",
   "metadata": {},
   "source": [
    "Each of the original variables corresponds to a standard basis vector in the original feature space.  We project those original variables into the space spanned by PC1 and PC2 as well, and standardize them.  This will allow us to see how moving around in the PC space is related to changes in the original variables."
   ]
  },
  {
   "cell_type": "code",
   "execution_count": 366,
   "metadata": {},
   "outputs": [],
   "source": [
    "murder = V[0,2:]/np.linalg.norm(V[0,2:])\n",
    "assault = V[1,2:]/np.linalg.norm(V[1,2:])\n",
    "rape = V[3,2:]/np.linalg.norm(V[3,2:])\n",
    "pop = V[2,2:]/np.linalg.norm(V[2,2:])"
   ]
  },
  {
   "cell_type": "code",
   "execution_count": 367,
   "metadata": {},
   "outputs": [
    {
     "data": {
      "text/html": [
       "\n",
       "\n",
       "\n",
       "\n",
       "\n",
       "\n",
       "  <div class=\"bk-root\" id=\"4db7ab32-e8c9-4aac-9a83-a4eba98a15e9\" data-root-id=\"33550\"></div>\n"
      ]
     },
     "metadata": {},
     "output_type": "display_data"
    },
    {
     "data": {
      "application/javascript": [
       "(function(root) {\n",
       "  function embed_document(root) {\n",
       "    \n",
       "  var docs_json = {\"46fb4851-ac98-4895-ae37-71671e42ffd3\":{\"roots\":{\"references\":[{\"attributes\":{\"below\":[{\"id\":\"33561\",\"type\":\"LinearAxis\"}],\"center\":[{\"id\":\"33565\",\"type\":\"Grid\"},{\"id\":\"33570\",\"type\":\"Grid\"},{\"id\":\"33593\",\"type\":\"LabelSet\"},{\"id\":\"33596\",\"type\":\"Arrow\"},{\"id\":\"33599\",\"type\":\"Arrow\"},{\"id\":\"33602\",\"type\":\"Arrow\"},{\"id\":\"33605\",\"type\":\"Arrow\"}],\"left\":[{\"id\":\"33566\",\"type\":\"LinearAxis\"}],\"renderers\":[{\"id\":\"33590\",\"type\":\"GlyphRenderer\"}],\"title\":{\"id\":\"33551\",\"type\":\"Title\"},\"toolbar\":{\"id\":\"33578\",\"type\":\"Toolbar\"},\"x_range\":{\"id\":\"33553\",\"type\":\"DataRange1d\"},\"x_scale\":{\"id\":\"33557\",\"type\":\"LinearScale\"},\"y_range\":{\"id\":\"33555\",\"type\":\"Range1d\"},\"y_scale\":{\"id\":\"33559\",\"type\":\"LinearScale\"}},\"id\":\"33550\",\"subtype\":\"Figure\",\"type\":\"Plot\"},{\"attributes\":{\"formatter\":{\"id\":\"34282\",\"type\":\"BasicTickFormatter\"},\"ticker\":{\"id\":\"33562\",\"type\":\"BasicTicker\"}},\"id\":\"33561\",\"type\":\"LinearAxis\"},{\"attributes\":{\"active_drag\":\"auto\",\"active_inspect\":\"auto\",\"active_multi\":null,\"active_scroll\":\"auto\",\"active_tap\":\"auto\",\"tools\":[{\"id\":\"33571\",\"type\":\"PanTool\"},{\"id\":\"33572\",\"type\":\"WheelZoomTool\"},{\"id\":\"33573\",\"type\":\"BoxZoomTool\"},{\"id\":\"33574\",\"type\":\"SaveTool\"},{\"id\":\"33575\",\"type\":\"ResetTool\"},{\"id\":\"33576\",\"type\":\"HelpTool\"},{\"id\":\"33577\",\"type\":\"HoverTool\"}]},\"id\":\"33578\",\"type\":\"Toolbar\"},{\"attributes\":{},\"id\":\"33567\",\"type\":\"BasicTicker\"},{\"attributes\":{\"end\":{\"id\":\"33601\",\"type\":\"OpenHead\"},\"line_color\":{\"value\":\"green\"},\"source\":null,\"start\":null,\"x_end\":{\"value\":-0.9557252285706996},\"x_start\":{\"value\":0},\"y_end\":{\"value\":-0.29426057750484347},\"y_start\":{\"value\":0}},\"id\":\"33602\",\"type\":\"Arrow\"},{\"attributes\":{},\"id\":\"33562\",\"type\":\"BasicTicker\"},{\"attributes\":{},\"id\":\"34285\",\"type\":\"UnionRenderers\"},{\"attributes\":{\"ticker\":{\"id\":\"33562\",\"type\":\"BasicTicker\"}},\"id\":\"33565\",\"type\":\"Grid\"},{\"attributes\":{\"end\":{\"id\":\"33595\",\"type\":\"OpenHead\"},\"line_color\":{\"value\":\"orange\"},\"source\":null,\"start\":null,\"x_end\":{\"value\":-0.7883743893137277},\"x_start\":{\"value\":0},\"y_end\":{\"value\":0.6151957593109749},\"y_start\":{\"value\":0}},\"id\":\"33596\",\"type\":\"Arrow\"},{\"attributes\":{\"source\":{\"id\":\"33586\",\"type\":\"ColumnDataSource\"}},\"id\":\"33591\",\"type\":\"CDSView\"},{\"attributes\":{\"dimension\":1,\"ticker\":{\"id\":\"33567\",\"type\":\"BasicTicker\"}},\"id\":\"33570\",\"type\":\"Grid\"},{\"attributes\":{\"formatter\":{\"id\":\"34280\",\"type\":\"BasicTickFormatter\"},\"ticker\":{\"id\":\"33567\",\"type\":\"BasicTicker\"}},\"id\":\"33566\",\"type\":\"LinearAxis\"},{\"attributes\":{},\"id\":\"34284\",\"type\":\"Selection\"},{\"attributes\":{},\"id\":\"34283\",\"type\":\"UnionRenderers\"},{\"attributes\":{\"end\":{\"id\":\"33604\",\"type\":\"OpenHead\"},\"line_color\":{\"value\":\"red\"},\"line_width\":{\"value\":3},\"source\":null,\"start\":null,\"x_end\":{\"value\":-0.3036792421982648},\"x_start\":{\"value\":0},\"y_end\":{\"value\":-0.952774326825554},\"y_start\":{\"value\":0}},\"id\":\"33605\",\"type\":\"Arrow\"},{\"attributes\":{\"end\":{\"id\":\"33598\",\"type\":\"OpenHead\"},\"line_color\":{\"value\":\"blue\"},\"source\":null,\"start\":null,\"x_end\":{\"value\":-0.9517744711603368},\"x_start\":{\"value\":0},\"y_end\":{\"value\":0.30679855939600076},\"y_start\":{\"value\":0}},\"id\":\"33599\",\"type\":\"Arrow\"},{\"attributes\":{\"fill_alpha\":{\"value\":0.1},\"fill_color\":{\"value\":\"#1f77b4\"},\"line_alpha\":{\"value\":0.1},\"line_color\":{\"value\":\"#1f77b4\"},\"x\":{\"field\":\"PC1\"},\"y\":{\"field\":\"PC2\"}},\"id\":\"33589\",\"type\":\"Circle\"},{\"attributes\":{\"callback\":null,\"data\":{\"Assault\":[236,263,294,190,276,204,110,238,335,211,46,120,249,113,56,115,109,249,83,300,149,255,72,259,178,109,102,252,57,159,285,254,337,45,120,151,159,106,174,279,86,188,201,120,48,156,145,81,53,161],\"Murder\":{\"__ndarray__\":\"ZmZmZmZmKkAAAAAAAAAkQDMzMzMzMyBAmpmZmZmZIUAAAAAAAAAiQJqZmZmZmR9AZmZmZmZmCkCamZmZmZkXQM3MzMzMzC5AZmZmZmZmMUAzMzMzMzMVQM3MzMzMzARAzczMzMzMJEDNzMzMzMwcQJqZmZmZmQFAAAAAAAAAGEBmZmZmZmYjQM3MzMzMzC5AzczMzMzMAECamZmZmZkmQJqZmZmZmRFAMzMzMzMzKECamZmZmZkFQJqZmZmZGTBAAAAAAAAAIkAAAAAAAAAYQDMzMzMzMxFAZmZmZmZmKEDNzMzMzMwAQJqZmZmZmR1AzczMzMzMJkAzMzMzMzMmQAAAAAAAACpAmpmZmZmZ6T8zMzMzMzMdQGZmZmZmZhpAmpmZmZmZE0AzMzMzMzMZQDMzMzMzMwtAzczMzMzMLEBmZmZmZmYOQGZmZmZmZipAZmZmZmZmKUCamZmZmZkJQJqZmZmZmQFAAAAAAAAAIUAAAAAAAAAQQM3MzMzMzBZAzczMzMzMBEAzMzMzMzMbQA==\",\"dtype\":\"float64\",\"shape\":[50]},\"PC1\":{\"__ndarray__\":\"aNE/d8GJ77+jJEakwzP/v9DByfjqNfy/ytr8Xw8awj+pOxl+HDEEwBuuQkSmO/i/CuNtHgW99T+kT0HEWm2ovzLL4ue1GgjAuOEd24A6+r9u5ULCfDTtPw1yEMWePPo/CBYYsQQQ9r9Mf+dNvSzgP3zjL5d3BwJAtL1N1gyA6T/wBA2cCQfoP84mDpN+Cfm/NvJK8LQsA0CPKOjRwjb8v0qrMTRZHd8/EuXHZBbeAMDAQbaGORX7P7wwH1lI4++/7loK8RRM5r+7oupqnPfyP94GDBoMQPQ/dMNVkML+BsBaC/I9QhIDQAzaf+uOPce/95RrYy2u/78Sw0NB1uv6v2ZKdthb+fG/rAq2+xPwB0AJaqJZb+zMP2+nbxNA9NM/UMuOtD9Frr+QQrQF523sP6ysjE8FpOs/lQCHSK8h9b/ggt/87M3/P5Lb5kXi/e+/QJ98ZqWu9b8lkXAKO57hP/dz745KaQZAWc44nWepuD98HsZqfcPLP5yNtgZi3gBAyzikLkGjAEDeRuJiQyTkPw==\",\"dtype\":\"float64\",\"shape\":[50]},\"PC2\":{\"__ndarray__\":\"0My8C2Ai8j98Cc6p4SvxP6QhIsHg3ue/0L9jCLDq8T/6x9KM26/4v7t/OR8Nmu+/Agc3pz9s8b88HSY9rtLUv9AwOXvCFaQ/OZ8WT4x29D9aanatmiD5vyzRPBopAcs/Dwj0nKTR5b9pnSzAZmbDv/PsfqZJo7q/NDzv5mBK0b/QpKP2iqvuP4D0EgOu3+s/jBhJscwW2D8Qw/Phs17bP08sg6OJl/e/xhFi/wrkw78ASDryezvkvzx4n4J+JgNADHzvDM7a0L/9lnopEy7hP9Hi585508i/CX2YgLfR6L8xq37rKYSSvzacwuYsMfe/jlzRa95Iwj9r4QhFhlfqv/wsLG/z0gFAujmvPfsr4z9LUUpnasDnv6w83As0bNK/5fb1HD5T4b8NF/4+dEbivzGnPMQk3/e/O3I4ujnv/j+PC7Ps01jqP+I3fb4th+s/vM0E8xVm2r8vG4pqSIv3v0fwiJnFb/Y/jetcC+2QyT/QIOveQQvvv52Ccw4szPY/ktrQN4OP47++uDb5eYvUPw==\",\"dtype\":\"float64\",\"shape\":[50]},\"Rape\":{\"__ndarray__\":\"MzMzMzMzNUAAAAAAAEBGQAAAAAAAAD9AAAAAAACAM0DNzMzMzExEQJqZmZmZWUNAMzMzMzMzJkCamZmZmZkvQGZmZmZm5j9AzczMzMzMOUAzMzMzMzM0QGZmZmZmZixAAAAAAAAAOEAAAAAAAAA1QJqZmZmZmSZAAAAAAAAAMkDNzMzMzEwwQDMzMzMzMzZAMzMzMzMzH0DNzMzMzMw7QM3MzMzMTDBAzczMzMyMQUDNzMzMzMwtQJqZmZmZGTFAMzMzMzMzPEBmZmZmZmYwQAAAAAAAgDBAAAAAAAAAR0AAAAAAAAAjQM3MzMzMzDJAzczMzMwMQECamZmZmRk6QJqZmZmZGTBAMzMzMzMzHUBmZmZmZmY1QAAAAAAAADRAzczMzMxMPUDNzMzMzMwtQJqZmZmZmSBAAAAAAACANkCamZmZmZkpQGZmZmZm5jpAAAAAAACAOUBmZmZmZuY2QGZmZmZmZiZAMzMzMzOzNEAzMzMzMzM6QJqZmZmZmSJAmpmZmZmZJUAzMzMzMzMvQA==\",\"dtype\":\"float64\",\"shape\":[50]},\"State\":[\"Alabama\",\"Alaska\",\"Arizona\",\"Arkansas\",\"California\",\"Colorado\",\"Connecticut\",\"Delaware\",\"Florida\",\"Georgia\",\"Hawaii\",\"Idaho\",\"Illinois\",\"Indiana\",\"Iowa\",\"Kansas\",\"Kentucky\",\"Louisiana\",\"Maine\",\"Maryland\",\"Massachusetts\",\"Michigan\",\"Minnesota\",\"Mississippi\",\"Missouri\",\"Montana\",\"Nebraska\",\"Nevada\",\"New Hampshire\",\"New Jersey\",\"New Mexico\",\"New York\",\"North Carolina\",\"North Dakota\",\"Ohio\",\"Oklahoma\",\"Oregon\",\"Pennsylvania\",\"Rhode Island\",\"South Carolina\",\"South Dakota\",\"Tennessee\",\"Texas\",\"Utah\",\"Vermont\",\"Virginia\",\"Washington\",\"West Virginia\",\"Wisconsin\",\"Wyoming\"],\"UrbanPct\":{\"__ndarray__\":\"Zq2OCR7Msz/8qfHSTWKwP08b6LSBTrs/ERERERERsT9D0pSKsw+/Pzm0yHa+n7o/rwC511xIuj/6fmq8dJO4P08b6LSBTrs/exSuR+F6tD/uNReSplS8PzvfT42XbrI/7jUXkqZUvD8wlvxiyS+2P9v5fmq8dLM/ukkMAiuHtj8meDBP1L+xP7pJDAIrh7Y/nMQgsHJosT9F/RuhjN62PwOdNtBpA70/D+aJ+jdCuT+6SQwCK4e2P6O3Za2OCa4/5RdLfrHktz+xK0DuNReyP5B7zYWkKbU/2c73U+Oluz9RRm/LWh2zPy5rdUzwYL4/5RdLfrHktz+OUEZvy1q9P7gehetRuK4/o7dlrY4Jrj+amZmZmZm5P9CwK0DuNbc/Rf0boYzetj/6fmq8dJO4PxkEVg4tsr0//Knx0k1isD+4HoXrUbiuP/Bgnqh/I7Q/TxvotIFOuz9PG+i0gU67P6Xi7MNn2KU/Gy/dJAaBtT+EMnpb1uq4Pzm0yHa+n6o/ukkMAiuHtj97FK5H4Xq0Pw==\",\"dtype\":\"float64\",\"shape\":[50]},\"UrbanPop\":[58,48,80,50,91,78,77,72,80,60,83,54,83,65,57,66,52,66,51,67,85,74,66,44,70,53,62,81,56,89,70,86,45,44,75,68,67,72,87,48,45,59,80,80,32,63,73,39,66,60],\"index\":[\"Alabama\",\"Alaska\",\"Arizona\",\"Arkansas\",\"California\",\"Colorado\",\"Connecticut\",\"Delaware\",\"Florida\",\"Georgia\",\"Hawaii\",\"Idaho\",\"Illinois\",\"Indiana\",\"Iowa\",\"Kansas\",\"Kentucky\",\"Louisiana\",\"Maine\",\"Maryland\",\"Massachusetts\",\"Michigan\",\"Minnesota\",\"Mississippi\",\"Missouri\",\"Montana\",\"Nebraska\",\"Nevada\",\"New Hampshire\",\"New Jersey\",\"New Mexico\",\"New York\",\"North Carolina\",\"North Dakota\",\"Ohio\",\"Oklahoma\",\"Oregon\",\"Pennsylvania\",\"Rhode Island\",\"South Carolina\",\"South Dakota\",\"Tennessee\",\"Texas\",\"Utah\",\"Vermont\",\"Virginia\",\"Washington\",\"West Virginia\",\"Wisconsin\",\"Wyoming\"]},\"selected\":{\"id\":\"34286\",\"type\":\"Selection\"},\"selection_policy\":{\"id\":\"34285\",\"type\":\"UnionRenderers\"}},\"id\":\"33586\",\"type\":\"ColumnDataSource\"},{\"attributes\":{\"callback\":null,\"tooltips\":[[\"State\",\"@index\"],[\"Murder\",\"@Murder\"],[\"Assault\",\"@Assault\"],[\"Rape\",\"@Rape\"],[\"UrbanPct\",\"@UrbanPop\"]]},\"id\":\"33577\",\"type\":\"HoverTool\"},{\"attributes\":{\"bottom_units\":\"screen\",\"fill_alpha\":{\"value\":0.5},\"fill_color\":{\"value\":\"lightgrey\"},\"left_units\":\"screen\",\"level\":\"overlay\",\"line_alpha\":{\"value\":1.0},\"line_color\":{\"value\":\"black\"},\"line_dash\":[4,4],\"line_width\":{\"value\":2},\"render_mode\":\"css\",\"right_units\":\"screen\",\"top_units\":\"screen\"},\"id\":\"34287\",\"type\":\"BoxAnnotation\"},{\"attributes\":{\"callback\":null,\"data\":{\"Assault\":[236,263,294,190,276,204,110,238,335,211,46,120,249,113,56,115,109,249,83,300,149,255,72,259,178,109,102,252,57,159,285,254,337,45,120,151,159,106,174,279,86,188,201,120,48,156,145,81,53,161],\"Murder\":{\"__ndarray__\":\"ZmZmZmZmKkAAAAAAAAAkQDMzMzMzMyBAmpmZmZmZIUAAAAAAAAAiQJqZmZmZmR9AZmZmZmZmCkCamZmZmZkXQM3MzMzMzC5AZmZmZmZmMUAzMzMzMzMVQM3MzMzMzARAzczMzMzMJEDNzMzMzMwcQJqZmZmZmQFAAAAAAAAAGEBmZmZmZmYjQM3MzMzMzC5AzczMzMzMAECamZmZmZkmQJqZmZmZmRFAMzMzMzMzKECamZmZmZkFQJqZmZmZGTBAAAAAAAAAIkAAAAAAAAAYQDMzMzMzMxFAZmZmZmZmKEDNzMzMzMwAQJqZmZmZmR1AzczMzMzMJkAzMzMzMzMmQAAAAAAAACpAmpmZmZmZ6T8zMzMzMzMdQGZmZmZmZhpAmpmZmZmZE0AzMzMzMzMZQDMzMzMzMwtAzczMzMzMLEBmZmZmZmYOQGZmZmZmZipAZmZmZmZmKUCamZmZmZkJQJqZmZmZmQFAAAAAAAAAIUAAAAAAAAAQQM3MzMzMzBZAzczMzMzMBEAzMzMzMzMbQA==\",\"dtype\":\"float64\",\"shape\":[50]},\"PC1\":{\"__ndarray__\":\"aNE/d8GJ77+jJEakwzP/v9DByfjqNfy/ytr8Xw8awj+pOxl+HDEEwBuuQkSmO/i/CuNtHgW99T+kT0HEWm2ovzLL4ue1GgjAuOEd24A6+r9u5ULCfDTtPw1yEMWePPo/CBYYsQQQ9r9Mf+dNvSzgP3zjL5d3BwJAtL1N1gyA6T/wBA2cCQfoP84mDpN+Cfm/NvJK8LQsA0CPKOjRwjb8v0qrMTRZHd8/EuXHZBbeAMDAQbaGORX7P7wwH1lI4++/7loK8RRM5r+7oupqnPfyP94GDBoMQPQ/dMNVkML+BsBaC/I9QhIDQAzaf+uOPce/95RrYy2u/78Sw0NB1uv6v2ZKdthb+fG/rAq2+xPwB0AJaqJZb+zMP2+nbxNA9NM/UMuOtD9Frr+QQrQF523sP6ysjE8FpOs/lQCHSK8h9b/ggt/87M3/P5Lb5kXi/e+/QJ98ZqWu9b8lkXAKO57hP/dz745KaQZAWc44nWepuD98HsZqfcPLP5yNtgZi3gBAyzikLkGjAEDeRuJiQyTkPw==\",\"dtype\":\"float64\",\"shape\":[50]},\"PC2\":{\"__ndarray__\":\"0My8C2Ai8j98Cc6p4SvxP6QhIsHg3ue/0L9jCLDq8T/6x9KM26/4v7t/OR8Nmu+/Agc3pz9s8b88HSY9rtLUv9AwOXvCFaQ/OZ8WT4x29D9aanatmiD5vyzRPBopAcs/Dwj0nKTR5b9pnSzAZmbDv/PsfqZJo7q/NDzv5mBK0b/QpKP2iqvuP4D0EgOu3+s/jBhJscwW2D8Qw/Phs17bP08sg6OJl/e/xhFi/wrkw78ASDryezvkvzx4n4J+JgNADHzvDM7a0L/9lnopEy7hP9Hi585508i/CX2YgLfR6L8xq37rKYSSvzacwuYsMfe/jlzRa95Iwj9r4QhFhlfqv/wsLG/z0gFAujmvPfsr4z9LUUpnasDnv6w83As0bNK/5fb1HD5T4b8NF/4+dEbivzGnPMQk3/e/O3I4ujnv/j+PC7Ps01jqP+I3fb4th+s/vM0E8xVm2r8vG4pqSIv3v0fwiJnFb/Y/jetcC+2QyT/QIOveQQvvv52Ccw4szPY/ktrQN4OP47++uDb5eYvUPw==\",\"dtype\":\"float64\",\"shape\":[50]},\"Rape\":{\"__ndarray__\":\"MzMzMzMzNUAAAAAAAEBGQAAAAAAAAD9AAAAAAACAM0DNzMzMzExEQJqZmZmZWUNAMzMzMzMzJkCamZmZmZkvQGZmZmZm5j9AzczMzMzMOUAzMzMzMzM0QGZmZmZmZixAAAAAAAAAOEAAAAAAAAA1QJqZmZmZmSZAAAAAAAAAMkDNzMzMzEwwQDMzMzMzMzZAMzMzMzMzH0DNzMzMzMw7QM3MzMzMTDBAzczMzMyMQUDNzMzMzMwtQJqZmZmZGTFAMzMzMzMzPEBmZmZmZmYwQAAAAAAAgDBAAAAAAAAAR0AAAAAAAAAjQM3MzMzMzDJAzczMzMwMQECamZmZmRk6QJqZmZmZGTBAMzMzMzMzHUBmZmZmZmY1QAAAAAAAADRAzczMzMxMPUDNzMzMzMwtQJqZmZmZmSBAAAAAAACANkCamZmZmZkpQGZmZmZm5jpAAAAAAACAOUBmZmZmZuY2QGZmZmZmZiZAMzMzMzOzNEAzMzMzMzM6QJqZmZmZmSJAmpmZmZmZJUAzMzMzMzMvQA==\",\"dtype\":\"float64\",\"shape\":[50]},\"State\":[\"Alabama\",\"Alaska\",\"Arizona\",\"Arkansas\",\"California\",\"Colorado\",\"Connecticut\",\"Delaware\",\"Florida\",\"Georgia\",\"Hawaii\",\"Idaho\",\"Illinois\",\"Indiana\",\"Iowa\",\"Kansas\",\"Kentucky\",\"Louisiana\",\"Maine\",\"Maryland\",\"Massachusetts\",\"Michigan\",\"Minnesota\",\"Mississippi\",\"Missouri\",\"Montana\",\"Nebraska\",\"Nevada\",\"New Hampshire\",\"New Jersey\",\"New Mexico\",\"New York\",\"North Carolina\",\"North Dakota\",\"Ohio\",\"Oklahoma\",\"Oregon\",\"Pennsylvania\",\"Rhode Island\",\"South Carolina\",\"South Dakota\",\"Tennessee\",\"Texas\",\"Utah\",\"Vermont\",\"Virginia\",\"Washington\",\"West Virginia\",\"Wisconsin\",\"Wyoming\"],\"UrbanPct\":{\"__ndarray__\":\"Zq2OCR7Msz/8qfHSTWKwP08b6LSBTrs/ERERERERsT9D0pSKsw+/Pzm0yHa+n7o/rwC511xIuj/6fmq8dJO4P08b6LSBTrs/exSuR+F6tD/uNReSplS8PzvfT42XbrI/7jUXkqZUvD8wlvxiyS+2P9v5fmq8dLM/ukkMAiuHtj8meDBP1L+xP7pJDAIrh7Y/nMQgsHJosT9F/RuhjN62PwOdNtBpA70/D+aJ+jdCuT+6SQwCK4e2P6O3Za2OCa4/5RdLfrHktz+xK0DuNReyP5B7zYWkKbU/2c73U+Oluz9RRm/LWh2zPy5rdUzwYL4/5RdLfrHktz+OUEZvy1q9P7gehetRuK4/o7dlrY4Jrj+amZmZmZm5P9CwK0DuNbc/Rf0boYzetj/6fmq8dJO4PxkEVg4tsr0//Knx0k1isD+4HoXrUbiuP/Bgnqh/I7Q/TxvotIFOuz9PG+i0gU67P6Xi7MNn2KU/Gy/dJAaBtT+EMnpb1uq4Pzm0yHa+n6o/ukkMAiuHtj97FK5H4Xq0Pw==\",\"dtype\":\"float64\",\"shape\":[50]},\"UrbanPop\":[58,48,80,50,91,78,77,72,80,60,83,54,83,65,57,66,52,66,51,67,85,74,66,44,70,53,62,81,56,89,70,86,45,44,75,68,67,72,87,48,45,59,80,80,32,63,73,39,66,60],\"index\":[\"Alabama\",\"Alaska\",\"Arizona\",\"Arkansas\",\"California\",\"Colorado\",\"Connecticut\",\"Delaware\",\"Florida\",\"Georgia\",\"Hawaii\",\"Idaho\",\"Illinois\",\"Indiana\",\"Iowa\",\"Kansas\",\"Kentucky\",\"Louisiana\",\"Maine\",\"Maryland\",\"Massachusetts\",\"Michigan\",\"Minnesota\",\"Mississippi\",\"Missouri\",\"Montana\",\"Nebraska\",\"Nevada\",\"New Hampshire\",\"New Jersey\",\"New Mexico\",\"New York\",\"North Carolina\",\"North Dakota\",\"Ohio\",\"Oklahoma\",\"Oregon\",\"Pennsylvania\",\"Rhode Island\",\"South Carolina\",\"South Dakota\",\"Tennessee\",\"Texas\",\"Utah\",\"Vermont\",\"Virginia\",\"Washington\",\"West Virginia\",\"Wisconsin\",\"Wyoming\"]},\"selected\":{\"id\":\"34284\",\"type\":\"Selection\"},\"selection_policy\":{\"id\":\"34283\",\"type\":\"UnionRenderers\"}},\"id\":\"33592\",\"type\":\"ColumnDataSource\"},{\"attributes\":{},\"id\":\"33598\",\"type\":\"OpenHead\"},{\"attributes\":{},\"id\":\"33571\",\"type\":\"PanTool\"},{\"attributes\":{\"data_source\":{\"id\":\"33586\",\"type\":\"ColumnDataSource\"},\"glyph\":{\"id\":\"33588\",\"type\":\"Circle\"},\"hover_glyph\":null,\"muted_glyph\":null,\"nonselection_glyph\":{\"id\":\"33589\",\"type\":\"Circle\"},\"selection_glyph\":null,\"view\":{\"id\":\"33591\",\"type\":\"CDSView\"}},\"id\":\"33590\",\"type\":\"GlyphRenderer\"},{\"attributes\":{\"text\":\"PCA on Arrest Data:orange=rape, blue=assault, green=murder\"},\"id\":\"33551\",\"type\":\"Title\"},{\"attributes\":{},\"id\":\"33601\",\"type\":\"OpenHead\"},{\"attributes\":{},\"id\":\"33572\",\"type\":\"WheelZoomTool\"},{\"attributes\":{\"callback\":null},\"id\":\"33553\",\"type\":\"DataRange1d\"},{\"attributes\":{},\"id\":\"34280\",\"type\":\"BasicTickFormatter\"},{\"attributes\":{\"fill_color\":{\"value\":\"#1f77b4\"},\"line_color\":{\"value\":\"#1f77b4\"},\"x\":{\"field\":\"PC1\"},\"y\":{\"field\":\"PC2\"}},\"id\":\"33588\",\"type\":\"Circle\"},{\"attributes\":{\"overlay\":{\"id\":\"34287\",\"type\":\"BoxAnnotation\"}},\"id\":\"33573\",\"type\":\"BoxZoomTool\"},{\"attributes\":{},\"id\":\"33557\",\"type\":\"LinearScale\"},{\"attributes\":{},\"id\":\"33574\",\"type\":\"SaveTool\"},{\"attributes\":{},\"id\":\"33575\",\"type\":\"ResetTool\"},{\"attributes\":{},\"id\":\"34286\",\"type\":\"Selection\"},{\"attributes\":{\"callback\":null,\"end\":3,\"start\":-3},\"id\":\"33555\",\"type\":\"Range1d\"},{\"attributes\":{\"source\":{\"id\":\"33592\",\"type\":\"ColumnDataSource\"},\"text\":{\"field\":\"State\"},\"text_font_size\":{\"value\":\"6pt\"},\"x\":{\"field\":\"PC1\"},\"y\":{\"field\":\"PC2\"}},\"id\":\"33593\",\"type\":\"LabelSet\"},{\"attributes\":{},\"id\":\"33595\",\"type\":\"OpenHead\"},{\"attributes\":{},\"id\":\"33604\",\"type\":\"OpenHead\"},{\"attributes\":{},\"id\":\"33576\",\"type\":\"HelpTool\"},{\"attributes\":{},\"id\":\"33559\",\"type\":\"LinearScale\"},{\"attributes\":{},\"id\":\"34282\",\"type\":\"BasicTickFormatter\"}],\"root_ids\":[\"33550\"]},\"title\":\"Bokeh Application\",\"version\":\"1.3.4\"}};\n",
       "  var render_items = [{\"docid\":\"46fb4851-ac98-4895-ae37-71671e42ffd3\",\"roots\":{\"33550\":\"4db7ab32-e8c9-4aac-9a83-a4eba98a15e9\"}}];\n",
       "  root.Bokeh.embed.embed_items_notebook(docs_json, render_items);\n",
       "\n",
       "  }\n",
       "  if (root.Bokeh !== undefined) {\n",
       "    embed_document(root);\n",
       "  } else {\n",
       "    var attempts = 0;\n",
       "    var timer = setInterval(function(root) {\n",
       "      if (root.Bokeh !== undefined) {\n",
       "        embed_document(root);\n",
       "        clearInterval(timer);\n",
       "      }\n",
       "      attempts++;\n",
       "      if (attempts > 100) {\n",
       "        console.log(\"Bokeh: ERROR: Unable to run BokehJS code because BokehJS library is missing\");\n",
       "        clearInterval(timer);\n",
       "      }\n",
       "    }, 10, root)\n",
       "  }\n",
       "})(window);"
      ],
      "application/vnd.bokehjs_exec.v0+json": ""
     },
     "metadata": {
      "application/vnd.bokehjs_exec.v0+json": {
       "id": "33550"
      }
     },
     "output_type": "display_data"
    }
   ],
   "source": [
    "f = figure(tooltips=[(\"State\",\"@index\"),(\"Murder\",\"@Murder\"),(\"Assault\",\"@Assault\"),(\"Rape\",\"@Rape\"),(\"UrbanPct\",\"@UrbanPop\")],y_range=(-3,3),title='PCA on Arrest Data:orange=rape, blue=assault, green=murder')\n",
    "f.circle(source=ColumnDataSource(arrests),x='PC1',y='PC2')\n",
    "f.add_layout(LabelSet(source=ColumnDataSource(arrests),x='PC1',y='PC2',text=\"State\",text_font_size=\"6pt\"))\n",
    "f.add_layout(Arrow(end=OpenHead(),line_color='orange',x_start=0,y_start=0,x_end=murder[1],y_end=murder[0]))\n",
    "f.add_layout(Arrow(end=OpenHead(),x_start=0,line_color=\"blue\",y_start=0,x_end=assault[1],y_end=assault[0]))\n",
    "f.add_layout(Arrow(end=OpenHead(),x_start=0,line_color=\"green\",y_start=0,x_end=rape[1],y_end=rape[0]))\n",
    "f.add_layout(Arrow(end=OpenHead(),line_color='red',line_width=3,x_start=0,y_start=0,x_end=pop[1],y_end=pop[0]))\n",
    "show(f)"
   ]
  },
  {
   "cell_type": "markdown",
   "metadata": {},
   "source": [
    "In the diagram above, we see that the red arrow points in the direction in which the original \"UrbanPop\" is projected.  So moving DOWN in the graph corresponds to increasing percentage of urban population.  Rural states like Mississippi, Vermont, and West Virginia are up above;\n",
    "Urban states like California, New Jersey, Massachusetts are down below. \n",
    "\n",
    "The three crime arrows point to the left, with slighly different orientations.  This tells us that moving to the left gives generally higher crime rates, though the different crimes interact differently with population. \n",
    "\n",
    "So we can think of PC1 as a good amalgamation of the overall crime measure and PC2 as measuring urban population."
   ]
  },
  {
   "cell_type": "code",
   "execution_count": null,
   "metadata": {},
   "outputs": [],
   "source": []
  }
 ],
 "metadata": {
  "kernelspec": {
   "display_name": "Python 3",
   "language": "python",
   "name": "python3"
  },
  "language_info": {
   "codemirror_mode": {
    "name": "ipython",
    "version": 3
   },
   "file_extension": ".py",
   "mimetype": "text/x-python",
   "name": "python",
   "nbconvert_exporter": "python",
   "pygments_lexer": "ipython3",
   "version": "3.7.4"
  }
 },
 "nbformat": 4,
 "nbformat_minor": 4
}
