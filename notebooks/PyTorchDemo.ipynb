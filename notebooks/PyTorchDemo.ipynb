{
 "cells": [
  {
   "cell_type": "code",
   "execution_count": 401,
   "metadata": {},
   "outputs": [],
   "source": [
    "import torch\n",
    "from tqdm.notebook import tqdm"
   ]
  },
  {
   "cell_type": "code",
   "execution_count": 402,
   "metadata": {},
   "outputs": [
    {
     "data": {
      "text/plain": [
       "True"
      ]
     },
     "execution_count": 402,
     "metadata": {},
     "output_type": "execute_result"
    }
   ],
   "source": [
    "torch.cuda.is_available()"
   ]
  },
  {
   "cell_type": "code",
   "execution_count": 403,
   "metadata": {},
   "outputs": [],
   "source": [
    "import matplotlib.pyplot as plt\n",
    "import numpy as np\n",
    "\n",
    "import torch\n",
    "import torchvision\n",
    "import torchvision.transforms as transforms\n",
    "\n",
    "import torch.nn as nn\n",
    "import torch.nn.functional as F\n",
    "import torch.optim as optim"
   ]
  },
  {
   "cell_type": "code",
   "execution_count": 404,
   "metadata": {},
   "outputs": [],
   "source": [
    "transform = transforms.Compose([transforms.ToTensor(),transforms.Normalize((.5,),(.5,))])"
   ]
  },
  {
   "cell_type": "code",
   "execution_count": 405,
   "metadata": {},
   "outputs": [],
   "source": [
    "trainset = torchvision.datasets.MNIST('./data',download=True, train=True,transform=transform)\n",
    "testset = torchvision.datasets.MNIST('./data',download=True,train=False,transform=transform)"
   ]
  },
  {
   "cell_type": "code",
   "execution_count": 406,
   "metadata": {},
   "outputs": [],
   "source": [
    "trainloader = torch.utils.data.DataLoader(trainset, batch_size=4, shuffle=True, num_workers=2)\n",
    "testloader = torch.utils.data.DataLoader(testset, batch_size=4, shuffle=False, num_workers=2)"
   ]
  },
  {
   "cell_type": "code",
   "execution_count": 408,
   "metadata": {},
   "outputs": [],
   "source": [
    "device = torch.device(\"cuda:0\")"
   ]
  },
  {
   "cell_type": "code",
   "execution_count": 409,
   "metadata": {},
   "outputs": [
    {
     "data": {
      "text/plain": [
       "Net(\n",
       "  (flatten): Flatten()\n",
       "  (linear): Linear(in_features=784, out_features=10, bias=False)\n",
       "  (soft): Softmax(dim=1)\n",
       ")"
      ]
     },
     "execution_count": 409,
     "metadata": {},
     "output_type": "execute_result"
    }
   ],
   "source": [
    "class Net(nn.Module):\n",
    "    def __init__(self):\n",
    "        super(Net, self).__init__()\n",
    "        self.flatten = nn.Flatten()\n",
    "        self.linear = nn.Linear(784,10,bias=False)\n",
    "        self.soft = nn.Softmax(dim=1)\n",
    "        \n",
    "    def forward(self, x):\n",
    "        return self.soft(self.linear(self.flatten(x)))\n",
    "\n",
    "LR = Net()\n",
    "LR.to(device)"
   ]
  },
  {
   "cell_type": "code",
   "execution_count": 410,
   "metadata": {},
   "outputs": [],
   "source": [
    "criterion = nn.CrossEntropyLoss()\n",
    "optimizer = optim.SGD(LR.parameters(), lr=.001, momentum=0.9)"
   ]
  },
  {
   "cell_type": "code",
   "execution_count": 411,
   "metadata": {},
   "outputs": [
    {
     "name": "stdout",
     "output_type": "stream",
     "text": [
      "[1,  2000] loss: 1.887\n",
      "[1,  4000] loss: 1.695\n",
      "[1,  6000] loss: 1.677\n",
      "[1,  8000] loss: 1.666\n",
      "[1, 10000] loss: 1.659\n",
      "[1, 12000] loss: 1.636\n",
      "[1, 14000] loss: 1.600\n",
      "[2,  2000] loss: 1.591\n",
      "[2,  4000] loss: 1.583\n",
      "[2,  6000] loss: 1.588\n",
      "[2,  8000] loss: 1.579\n",
      "[2, 10000] loss: 1.575\n",
      "[2, 12000] loss: 1.572\n",
      "[2, 14000] loss: 1.575\n",
      "[3,  2000] loss: 1.572\n",
      "[3,  4000] loss: 1.570\n",
      "[3,  6000] loss: 1.565\n",
      "[3,  8000] loss: 1.567\n",
      "[3, 10000] loss: 1.567\n",
      "[3, 12000] loss: 1.568\n",
      "[3, 14000] loss: 1.560\n",
      "[4,  2000] loss: 1.561\n",
      "[4,  4000] loss: 1.561\n",
      "[4,  6000] loss: 1.561\n",
      "[4,  8000] loss: 1.562\n",
      "[4, 10000] loss: 1.562\n",
      "[4, 12000] loss: 1.559\n",
      "[4, 14000] loss: 1.559\n",
      "[5,  2000] loss: 1.558\n",
      "[5,  4000] loss: 1.563\n",
      "[5,  6000] loss: 1.556\n",
      "[5,  8000] loss: 1.553\n",
      "[5, 10000] loss: 1.554\n",
      "[5, 12000] loss: 1.558\n",
      "[5, 14000] loss: 1.556\n",
      "Done\n"
     ]
    }
   ],
   "source": [
    "for epoch in range(5):\n",
    "    running_loss = 0.0\n",
    "    for i, data in enumerate(trainloader, 0):\n",
    "        inputs, labels = data[0].to(device), data[1].to(device)\n",
    "        \n",
    "        optimizer.zero_grad() # initialize gradient calculation - we will do a batch of 4\n",
    "        outputs = LR(inputs)\n",
    "        loss = criterion(outputs, labels)\n",
    "        \n",
    "        loss.backward()\n",
    "        optimizer.step()\n",
    "        \n",
    "        running_loss += loss.item()\n",
    "        if i % 2000 == 1999:    # print every 2000 mini-batches\n",
    "            print('[{:d}, {:5d}] loss: {:.3f}'.format(epoch + 1, i + 1, running_loss / 2000))\n",
    "            running_loss = 0.0\n",
    "\n",
    "print('Done')"
   ]
  },
  {
   "cell_type": "code",
   "execution_count": 412,
   "metadata": {},
   "outputs": [
    {
     "name": "stdout",
     "output_type": "stream",
     "text": [
      "0.9194\n"
     ]
    }
   ],
   "source": [
    "correct = 0\n",
    "total = 0\n",
    "with torch.no_grad():\n",
    "    for data in testloader:\n",
    "        images, labels = data[0].to(device), data[1].to(device)\n",
    "        outputs = LR(images)\n",
    "        _, pred = torch.max(outputs.data,1)\n",
    "        total+=labels.size(0)\n",
    "        correct += (pred==labels).sum().item()\n",
    "print(correct/total)"
   ]
  },
  {
   "cell_type": "code",
   "execution_count": 413,
   "metadata": {},
   "outputs": [
    {
     "data": {
      "text/plain": [
       "Linear(in_features=784, out_features=10, bias=False)"
      ]
     },
     "execution_count": 413,
     "metadata": {},
     "output_type": "execute_result"
    }
   ],
   "source": [
    "LR.linear"
   ]
  },
  {
   "cell_type": "code",
   "execution_count": 414,
   "metadata": {},
   "outputs": [
    {
     "data": {
      "text/plain": [
       "{'training': True,\n",
       " '_parameters': OrderedDict([('weight', Parameter containing:\n",
       "               tensor([[-0.0309, -0.0340, -0.0063,  ...,  0.0132, -0.0376, -0.0098],\n",
       "                       [-0.0001,  0.0313,  0.0416,  ...,  0.0648,  0.0575,  0.0161],\n",
       "                       [-0.0162, -0.0476,  0.0148,  ..., -0.0024, -0.0492,  0.0030],\n",
       "                       ...,\n",
       "                       [ 0.0180,  0.0207,  0.0104,  ..., -0.0058,  0.0346, -0.0094],\n",
       "                       [-0.0508, -0.0094, -0.0220,  ..., -0.0426,  0.0031, -0.0332],\n",
       "                       [ 0.0035, -0.0213, -0.0228,  ...,  0.0047, -0.0161,  0.0411]],\n",
       "                      device='cuda:0', requires_grad=True)),\n",
       "              ('bias', None)]),\n",
       " '_buffers': OrderedDict(),\n",
       " '_backward_hooks': OrderedDict(),\n",
       " '_forward_hooks': OrderedDict(),\n",
       " '_forward_pre_hooks': OrderedDict(),\n",
       " '_state_dict_hooks': OrderedDict(),\n",
       " '_load_state_dict_pre_hooks': OrderedDict(),\n",
       " '_modules': OrderedDict(),\n",
       " 'in_features': 784,\n",
       " 'out_features': 10}"
      ]
     },
     "execution_count": 414,
     "metadata": {},
     "output_type": "execute_result"
    }
   ],
   "source": [
    "vars(LR.linear)"
   ]
  },
  {
   "cell_type": "code",
   "execution_count": 418,
   "metadata": {},
   "outputs": [],
   "source": [
    "filters = LR.linear._parameters['weight'].cpu().detach()"
   ]
  },
  {
   "cell_type": "code",
   "execution_count": 419,
   "metadata": {},
   "outputs": [],
   "source": [
    "images = [filters[i,:].reshape(28,28) for i in range(10)]\n"
   ]
  },
  {
   "cell_type": "code",
   "execution_count": 420,
   "metadata": {},
   "outputs": [
    {
     "data": {
      "image/png": "[encoded data removed]",
      "text/plain": [
       "<Figure size 432x288 with 10 Axes>"
      ]
     },
     "metadata": {
      "needs_background": "light"
     },
     "output_type": "display_data"
    },
    {
     "data": {
      "text/plain": [
       "<Figure size 720x720 with 0 Axes>"
      ]
     },
     "metadata": {},
     "output_type": "display_data"
    }
   ],
   "source": [
    "fig, axes = plt.subplots(2,5)\n",
    "plt.figure(figsize=(10,10))\n",
    "for i in range(10):\n",
    "    axes[i//5,i%5].imshow(images[i].numpy())"
   ]
  },
  {
   "cell_type": "code",
   "execution_count": 421,
   "metadata": {},
   "outputs": [
    {
     "name": "stdout",
     "output_type": "stream",
     "text": [
      "Net(\n",
      "  (flatten): Flatten()\n",
      "  (linear): Linear(in_features=784, out_features=200, bias=False)\n",
      "  (hidden): Linear(in_features=200, out_features=10, bias=False)\n",
      "  (soft): Softmax(dim=1)\n",
      ")\n"
     ]
    }
   ],
   "source": [
    "class Net(nn.Module):\n",
    "    def __init__(self):\n",
    "        super(Net, self).__init__()\n",
    "        self.flatten = nn.Flatten()\n",
    "        self.linear = nn.Linear(784,200,bias=False)\n",
    "        self.hidden = nn.Linear(200,10,bias=False)\n",
    "        self.soft = nn.Softmax(dim=1)\n",
    "        \n",
    "    def forward(self, x):\n",
    "        flat = self.flatten(x)\n",
    "        lin = self.linear(flat)\n",
    "        hid = self.hidden(F.relu(lin))\n",
    "        soft = self.soft(hid)\n",
    "        return soft\n",
    "\n",
    "MLP = Net()\n",
    "MLP.to(device)\n",
    "print(MLP)        "
   ]
  },
  {
   "cell_type": "code",
   "execution_count": 422,
   "metadata": {},
   "outputs": [],
   "source": [
    "criterion = nn.CrossEntropyLoss()\n",
    "optimizer = optim.Adam(MLP.parameters(), lr=.001)"
   ]
  },
  {
   "cell_type": "code",
   "execution_count": 423,
   "metadata": {},
   "outputs": [
    {
     "name": "stdout",
     "output_type": "stream",
     "text": [
      "[1,  2000] loss: 1.812\n",
      "[1,  4000] loss: 1.675\n",
      "[1,  6000] loss: 1.657\n",
      "[1,  8000] loss: 1.655\n",
      "[1, 10000] loss: 1.636\n",
      "[1, 12000] loss: 1.642\n",
      "[1, 14000] loss: 1.597\n",
      "[2,  2000] loss: 1.548\n",
      "[2,  4000] loss: 1.550\n",
      "[2,  6000] loss: 1.547\n",
      "[2,  8000] loss: 1.541\n",
      "[2, 10000] loss: 1.542\n",
      "[2, 12000] loss: 1.535\n",
      "[2, 14000] loss: 1.540\n",
      "[3,  2000] loss: 1.537\n",
      "[3,  4000] loss: 1.538\n",
      "[3,  6000] loss: 1.541\n",
      "[3,  8000] loss: 1.532\n",
      "[3, 10000] loss: 1.528\n",
      "[3, 12000] loss: 1.532\n",
      "[3, 14000] loss: 1.531\n",
      "Done\n"
     ]
    }
   ],
   "source": [
    "for epoch in range(3):\n",
    "    running_loss = 0.0\n",
    "    for i, data in enumerate(trainloader, 0):\n",
    "        inputs, labels = data[0].to(device), data[1].to(device)\n",
    "        \n",
    "        optimizer.zero_grad() # initialize gradient calculation - we will do a batch of 4\n",
    "        outputs = MLP(inputs)\n",
    "        loss = criterion(outputs, labels)\n",
    "        \n",
    "        loss.backward()\n",
    "        optimizer.step()\n",
    "        \n",
    "        running_loss += loss.item()\n",
    "        if i % 2000 == 1999:    # print every 2000 mini-batches\n",
    "            print('[{:d}, {:5d}] loss: {:.3f}'.format(epoch + 1, i + 1, running_loss / 2000))\n",
    "            running_loss = 0.0\n",
    "\n",
    "print('Done')"
   ]
  },
  {
   "cell_type": "code",
   "execution_count": 424,
   "metadata": {},
   "outputs": [
    {
     "name": "stdout",
     "output_type": "stream",
     "text": [
      "0.9395\n"
     ]
    }
   ],
   "source": [
    "correct = 0\n",
    "total = 0\n",
    "with torch.no_grad():\n",
    "    for data in testloader:\n",
    "        images, labels = data[0].to(device), data[1].to(device)\n",
    "        outputs = MLP(images)\n",
    "        _, pred = torch.max(outputs.data,1)\n",
    "        total+=labels.size(0)\n",
    "        correct += (pred==labels).sum().item()\n",
    "print(correct/total)"
   ]
  }
 ],
 "metadata": {
  "kernelspec": {
   "display_name": "Python 3",
   "language": "python",
   "name": "python3"
  },
  "language_info": {
   "codemirror_mode": {
    "name": "ipython",
    "version": 3
   },
   "file_extension": ".py",
   "mimetype": "text/x-python",
   "name": "python",
   "nbconvert_exporter": "python",
   "pygments_lexer": "ipython3",
   "version": "3.7.6"
  }
 },
 "nbformat": 4,
 "nbformat_minor": 4
}
