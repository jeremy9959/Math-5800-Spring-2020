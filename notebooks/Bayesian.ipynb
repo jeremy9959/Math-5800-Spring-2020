{
 "cells": [
  {
   "cell_type": "markdown",
   "metadata": {},
   "source": [
    "## Bayesian Methods\n",
    "\n",
    "### Bernoulli Variables (Coin tossing)\n",
    "\n",
    "Bayesian methods have a rich philosophical underpinning that I am not qualified to delve into.  As I understand it,\n",
    "Bayesian methods view all statements about probabilities as conditional, and probability itself as a kind of personal\n",
    "perspective on the likelihood of events that gets updated in the face of new evidence.\n",
    "\n",
    "The theory rests on Bayes's theorem about conditional probability, which says that if $X$ and $Y$ are random variables,\n",
    "then\n",
    "\n",
    "$$\n",
    "P(Y|X) = \\frac{P(X|Y)P(Y)}{P(X)}.\n",
    "$$\n",
    "\n",
    "When applied to experiments, this formula gets interpreted as follows.  Let's suppose that we are attempting to \n",
    "determine whether, for example, a particular coin that we've found is fair (equal probability to heads and tails).\n",
    "We decide to conduct an experiment to see.  The ingredients of our analysis are:\n",
    "\n",
    "- our prior sense of what the chance is that the coin yields heads.  For example, if we have no opinion whatsoever about the\n",
    "fairness of the coin, then our prior would be the uniform distribution on the interval $[0,1]$.  However, if we have reason\n",
    "to think the coin is fair, then our prior distribution might be \"bumped up\" at $1/2$, but still allow for some chance of\n",
    "unfairness.\n",
    "- Some data obtained from an experiment.  For example, we flip the coin 100 times and obtain 44 heads and 56 tails.\n",
    "\n",
    "What we'd like to know is:\n",
    "- Given our prior hypothesis and the data, how should we update our sense of the distribution of the probability of a head?\n",
    "\n",
    "The underlying parameter we are studying is $\\theta$, the probability of getting heads when we flip the coin.  Let's\n",
    "start by assuming that we have no opinion about $\\theta$, so our prior distribution is uniform on $[0,1]$ For our\n",
    "experiment, have $44$ heads and $56$ tails.  Let's let $X$ be our experiment, so that\n",
    "\n",
    "$$\n",
    "P(X|\\theta) = \\binom{100}{44}\\theta^{44}(1-\\theta)^{56}.\n",
    "$$\n",
    "\n",
    "Our prior $P(Y)$ is the uniform distribution on $\\theta$, so \n",
    "\n",
    "$$\n",
    "P(X=(44,56),\\theta) = P(X|\\theta)P(\\theta) = \\binom{100}{44}\\theta^{44}(1-\\theta)^{56}\n",
    "$$\n",
    "\n",
    "Finally, the probability that $X=(44,56)$ is \n",
    "\n",
    "$$\n",
    "P(X=(44,56)) = \\int_{\\theta}  \\binom{100}{44}\\theta^{44}(1-\\theta)^{56} d\\theta.\n",
    "$$\n",
    "\n",
    "From this, we get\n",
    "$$\n",
    "P(Y|X) = \\frac{\\theta^{44}(1-\\theta)^{56}}{\\int_{\\theta} \\theta^{44}(1-\\theta)^{56} d\\theta}\n",
    "$$\n",
    "\n",
    "**Remark:** The Beta function $B(r,s)$ is the special function\n",
    "$$\n",
    "B(r,s) = \\int_{0}^{1} x^{r-1}(1-x)^{s-1} dx\n",
    "$$\n",
    "so\n",
    "$$\n",
    "P(Y|X) = \\frac{1}{B(45,57)}\\theta^{44}(1-\\theta)^{56}\n",
    "$$"
   ]
  },
  {
   "cell_type": "markdown",
   "metadata": {},
   "source": [
    "The probability distribution $P(Y|X)$ is called the *posterior distribution* and it represents  our opinion about the\n",
    "probability of heads in light of the evidence. "
   ]
  },
  {
   "cell_type": "code",
   "execution_count": null,
   "metadata": {},
   "outputs": [],
   "source": [
    "%setup"
   ]
  },
  {
   "cell_type": "code",
   "execution_count": null,
   "metadata": {},
   "outputs": [],
   "source": [
    "from scipy.special import beta\n",
    "x=np.linspace(.001,.999,100)\n",
    "y = x**44*(1-x)**56/beta(45,57)\n",
    "\n",
    "f=figure(title='Posterior distribution')\n",
    "f.line(x=x,y=y)\n",
    "show(f)"
   ]
  },
  {
   "cell_type": "markdown",
   "metadata": {},
   "source": [
    "As this plot shows, the posterior distribution has a strong peak.  A little calculus shows that the maximum of the function\n",
    "$$\\theta^{44}(1-\\theta)^{56}$$ occurs at $\\theta_{0}=44/100$.  This is called the *maximum a posteri estimate* or MAP.  The\n",
    "other interesting quantity is the *mean of the posterior distribution*, which is $B(46,57)/B(45,57)=.4411$.\n",
    "\n"
   ]
  },
  {
   "cell_type": "markdown",
   "metadata": {},
   "source": [
    "One more quantity we can look at is to ask: based on what we now know, what do we expect is the probability of getting heads from our coin? This is the probability using the posterior distribution:\n",
    "$$\n",
    "P(H|\\theta) = \\int_{\\theta}\\theta P(\\theta|X) = .4411.\n",
    "$$\n",
    "which happens to be the posterior mean in this case.\n",
    "\n"
   ]
  },
  {
   "cell_type": "markdown",
   "metadata": {},
   "source": [
    "### Bayesian Linear Regression"
   ]
  },
  {
   "cell_type": "markdown",
   "metadata": {},
   "source": [
    "Now we imagine that we have a collection of data points $D=\\{(x_1,y_1),\\ldots (x_n,y_n)\\}$ and we \n",
    "propose that the the underlying relationship is linear:\n",
    "$$\n",
    "y = mx+b+\\epsilon\n",
    "$$\n",
    "where $\\epsilon$ is a normally distributed random variable with mean $0$ and variance $\\sigma^2$. For simplicity, let's assume\n",
    "that this $\\sigma^2$ is known and fixed in advance, and our problem is to estimate $m$ and $b$."
   ]
  },
  {
   "cell_type": "markdown",
   "metadata": {},
   "source": [
    "To apply Bayes's theorem, we need to compute the probability of the data given the parameters.  We assume that \n",
    "the $y_{i}$ are drawn independently so that the overall probability is the product of the individual ones.\n",
    "Essentially $y_{i}$ is drawn from a normal distribution with mean $mx_{i}+b$ and variance $\\sigma^{2}$\n",
    "$$\n",
    "P(y_{i}|m,b) = N(y_{i}|mx_{i}+b,\\sigma^2)\n",
    "$$\n",
    "and\n",
    "$$\n",
    "P(D|m,b) = \\prod_{i} N(y_{i}|mx_{i}+b,\\sigma^{2})\n",
    "$$\n",
    "\n",
    "**Note:** $N(y|x,\\sigma^{2})$ is the value of the normal distribution with mean $x$ and variance $\\sigma^{2}$ at the point $y$."
   ]
  },
  {
   "cell_type": "markdown",
   "metadata": {},
   "source": [
    "We need to propose prior distributions on $m$ and $b$.  Following [Bishop](https://www.microsoft.com/en-us/research/uploads/prod/2006/01/Bishop-Pattern-Recognition-and-Machine-Learning-2006.pdf) page 153, we put\n",
    "normal priors of mean zero and variance $\\alpha^{2}$ on both $m$ and $b$.\n",
    "\n",
    "Then\n",
    "\n",
    "$$\n",
    "P(m,b|D) = \\frac{P(D|m,b)N(m|0,\\alpha^2)N(b|0,\\alpha^2)}{P(D)}\n",
    "$$\n"
   ]
  },
  {
   "cell_type": "markdown",
   "metadata": {},
   "source": [
    "The denominator of this fraction is an integral over $m,b$ space with the data fixed, and is necessary to normalize\n",
    "the right side of this equation.  As it happens it is possible, with work, to compute this all explicitly and Bishop explains how.\n",
    "In general, however, the denominator on the right side of a Bayes expression like the one above is intractable and so another approach is needed.  This is where Monte Carlo methods come in."
   ]
  },
  {
   "cell_type": "markdown",
   "metadata": {},
   "source": [
    "### Monte Carlo\n",
    "\n",
    "The idea behind MC methods is that rather than explicitly computing the posterior distribution $P(m,b)$ as in the formula above,\n",
    "we will use random techniques to generate a large number of samples from the probability distribution $P(m,b)$.  A histogram of those samples\n",
    "will give us an approximation the the probability distribution and enable us to estimate the MAP and the posterior mean,\n",
    "as well as other parameters.\n",
    "\n",
    "One way to do this is via Markov Chain Monte Carlo. Suppose we have a probability distribution $P$ and we want to draw samples from it.  We construct a Markov Chain $x0,x1,\\ldots$ in such a way that the stationary distribution of the Markov Chain is $P$.  Then we run the Markov Chain for a long time until we think the dynamics are close to the stationary distribution, and we consider the steps of the chain to be samples from the distribution.  Note that these are NOT really independent samples, but they are (hopefully) good enough.\n",
    "\n",
    "One big advantage of this approach is that it turns out that all we need to construct this markov chain is the numerator of the fraction on the right hand side of the expression for $P(m,b|D)$.  That's because the denominator is just a normalizing constant.\n",
    "\n",
    "A great deal of work has been done on this problem but the classic algorithm for monte carlo sampling is called Metropolis Hastings.  It was originally developed as part of the work on the atomic bomb."
   ]
  },
  {
   "cell_type": "markdown",
   "metadata": {},
   "source": [
    "#### Metropolis Hastings\n",
    "\n",
    "Suppose we have a function $f(x)$ that is proportional to the probability distribution we are interested in.  For example,\n",
    "in our coin-flipping example, $f(x)=x^{44}(1-x)^{56}$.  Carry out the following sequence:\n",
    "\n",
    "0.  Pick an arbitrary starting point x[0] and set i=0.\n",
    "1.  Choose a random number y from the standard gaussian distribution centered at x[i].  (Other choices are possible, this is an example).\n",
    "2.  Compute $\\alpha=f(y)/f(x[i])$.  This is called the *acceptance ratio.* \n",
    "3.  Pick a random number uniformly between 0 and 1.  If $u\\le \\alpha$, set $x[i+1]=y$.  Otherwise set $x[i+1]=x[i]$.\n",
    "4.  increment i and go back to step 1.\n",
    "\n",
    "Claim:  This markov chain has stationary distribution equal to the normalized version of $f(x)$."
   ]
  },
  {
   "cell_type": "code",
   "execution_count": null,
   "metadata": {},
   "outputs": [],
   "source": [
    "from scipy.stats import beta,norm\n",
    "import holoviews as hv\n",
    "hv.extension('bokeh')"
   ]
  },
  {
   "cell_type": "code",
   "execution_count": null,
   "metadata": {},
   "outputs": [],
   "source": [
    "# Metropolis Hastings Test for Beta Distribution\n",
    "x = np.linspace(0,1,100)\n",
    "rv = beta(3,4)\n",
    "ys = rv.pdf(x)\n",
    "d=50\n",
    "N=100000\n",
    "\n",
    "def f(x,a=2,b=3):\n",
    "    if x<0 or x>1:\n",
    "        return 0\n",
    "    else:\n",
    "        return x**a*(1-x)**b\n",
    "    \n",
    "def walker(N,f):\n",
    "    walk = np.zeros(N)\n",
    "    walk[0] = .1\n",
    "    for i in range(N-1):\n",
    "        y = np.random.normal(walk[i],.1)\n",
    "        alpha = f(y)/f(walk[i])\n",
    "        u = np.random.uniform(0,1)\n",
    "        if u < alpha:\n",
    "            walk[i+1]=y\n",
    "        else:\n",
    "            walk[i+1]=walk[i]\n",
    "    return walk[N//2:]\n",
    "\n",
    "walk = walker(100000,f)\n",
    "frequencies, edges = np.histogram(walk,d)\n",
    "a=hv.Histogram((edges, d*frequencies/frequencies.sum()))\n",
    "b=hv.Curve((x,ys)).opts(color='red',title='Sampled vs True Beta(3,4)',width=400,height=400)\n",
    "\n",
    "a*b"
   ]
  },
  {
   "cell_type": "markdown",
   "metadata": {},
   "source": [
    "In our regression example, our \"likelihood\" is:\n",
    "$$\n",
    "P(m,b|D) = \\frac{P(D|m,b)N(m|0,\\alpha^2)N(b|0,\\alpha^2)}{P(D)}\n",
    "$$\n",
    "Rather than multiplying a large number of numbers less than one and getting underflow, we will take the logarithm.\n",
    "Here $L$ denotes the numerator (the unnormalized likelihood) from this expression:\n",
    "\n",
    "$$\n",
    "\\log L(m,b|D) = \\sum_{i=1}^{N} \\log N(y_{i}|mx_{i}+b,\\sigma^2) + \\log N(b|0,\\alpha^2) +\\log N(m|0,\\alpha^{2})\n",
    "$$"
   ]
  },
  {
   "cell_type": "code",
   "execution_count": null,
   "metadata": {},
   "outputs": [],
   "source": [
    "X = np.random.uniform(0,1,200)\n",
    "Y = 2*X+1+np.random.normal(0,.3,size=200)\n",
    "hv.Scatter((X,Y)).options(title='Some sample data for regression',width=400,height=400,xlim=(0,1),ylim=(0,3))"
   ]
  },
  {
   "cell_type": "code",
   "execution_count": null,
   "metadata": {},
   "outputs": [],
   "source": [
    "# The log likelihood function\n",
    "# normal, 0 centered priors for m and b; variance fixed at 1 for simplicity\n",
    "def L(theta):\n",
    "    m=theta[0]\n",
    "    b=theta[1]\n",
    "    return norm.logpdf(Y,m*X+b,1).sum() + norm.logpdf(b,0,1)+norm.logpdf(m,0,1)"
   ]
  },
  {
   "cell_type": "code",
   "execution_count": null,
   "metadata": {},
   "outputs": [],
   "source": [
    "# Metropolis Hastings Sampler\n",
    "def walker(N,f):\n",
    "    walk = np.zeros((2,N))\n",
    "    walk[0,0]=.1\n",
    "    walk[1,0]=.1\n",
    "    for i in range(N-1):\n",
    "        y = np.random.normal(walk[:,i],.3)\n",
    "        alpha = np.exp(L(y)-L(walk[:,i]))\n",
    "        u = np.random.uniform(0,1)\n",
    "        if u < alpha:\n",
    "            walk[:,i+1]=y\n",
    "        else:\n",
    "            walk[:,i+1]=walk[:,i]\n",
    "    return walk[:,N//2:]"
   ]
  },
  {
   "cell_type": "code",
   "execution_count": null,
   "metadata": {},
   "outputs": [],
   "source": [
    "walk=walker(10000,L)"
   ]
  },
  {
   "cell_type": "code",
   "execution_count": null,
   "metadata": {},
   "outputs": [],
   "source": [
    "hv.Scatter((walk[0,:],walk[1,:])).options(xlabel = 'm',ylabel='b',show_grid=True,xlim=(0,3),ylim=(0,3),width=400,height=400,alpha=.1,title='Scatterplot of (m,b) distribution')"
   ]
  },
  {
   "cell_type": "code",
   "execution_count": null,
   "metadata": {},
   "outputs": [],
   "source": [
    "freq,edge = np.histogram(walk[1,:],20)\n",
    "freq1, edge1 = np.histogram(walk[0,:],20)\n",
    "hv.Histogram((edge,freq)).options(show_grid=True,xlabel='b',title='Mean ={:.2f}'.format(walk[1,:].mean()))+hv.Histogram((edge1,freq1)).options(show_grid=True,xlabel='m',title='Mean={:.2f}'.format(walk[0,:].mean()))"
   ]
  },
  {
   "cell_type": "markdown",
   "metadata": {},
   "source": [
    "### Another look at Metropolis Hastings\n",
    "\n",
    "Let's look at the Metropolis Hastings algorithm in a discrete situation to see why it works.  Suppose we have a finite set $E=\\{1,2,3,\\ldots,n\\}$ and a probability $p(i)$ for $1\\le i\\le n$.  How does M-H look in this case?\n",
    "\n",
    "For the \"proposal distribution\", choose the uniform distribution (instead of the gaussian we used above).  So the algorithm looks like this:\n",
    "\n",
    "1.  Start with x0=1 and i=0.\n",
    "2.  Pick a number $y$ from $1$ to $n$ uniformly at random.\n",
    "3.  Let $\\alpha=p(n)/p(x[i])$.\n",
    "4.  Choose a number $u$ between 0 and 1 uniformly.  If $u<\\alpha$, then $x[i+1]=y$.  Otherwise $x[i+1]=x[i]$. Increment i.\n",
    "5.  Go to step 2.\n",
    "\n",
    "Claim:  This Markov Chain has $p(i)$ as a stationary distribution.\n",
    "\n",
    "Proof:  Let $M$ be the $n\\times n$ transition probability matrix, so that $M_{ij}$ is the probability of moving from point $i$ to point $j$.\n",
    "We show that $p(i)$ satisfies the *detailed balance equations*:\n",
    "\n",
    "$$\n",
    "p(i)M_{ij} =p(j) M_{ji}.\n",
    "$$\n",
    "\n",
    "If this holds, we have\n",
    "$$\n",
    "\\sum_{i=1}^{n} p(i)M_{ij} = \\sum_{i=1}^{n} p(j)M_{ji} = p(j)\\sum_{i=1}^{n} M_{ji} = p(j)\n",
    "$$\n",
    "since $\\sum_{i=1}^{n}M_{ji}$ is the probability of moving from $j$ to somewhere, which is $1$.  So the transition matrix $M_{ij}$ has $p$\n",
    "as an (left) eigenvector with eigenvalue 1, so $p$ is a stationary distribution.\n",
    "\n",
    "Now we compute that \n",
    "\n",
    "$$\n",
    "p(i)M_{ij} =  p(i)\\frac{1}{n} \\min\\{1,p(j)/p(i)\\} = \n",
    "\\left\\{ \\begin{matrix}\\frac{1}{n} p(j) & p(j)\\le p(i) \\cr \\frac{1}{n} p(i) & p(i)\\le p(j)\\end{matrix}\\right.\n",
    "$$\n",
    "\n",
    "and\n",
    "\n",
    "$$\n",
    "p(j)M_{ji} = p(j)\\frac{1}{n}\\min\\{1,p(i)/p(j)\\} =\n",
    "\\left\\{ \\begin{matrix}\\frac{1}{n} p(i) & p(i)\\le p(j) \\cr \\frac{1}{n} p(j) & p(j)\\le p(i)\\end{matrix}\\right.\n",
    "$$\n",
    "\n",
    "and these are equal.\n",
    "\n",
    "**Remark:** Instead of the uniform distribution, all we need is a \"proposal\" distribution  that has the property that the chance of moving from i to j\n",
    "is the same as that of moving from j to i.  Then the calculation of the detailed balance equations still works.\n"
   ]
  },
  {
   "cell_type": "markdown",
   "metadata": {},
   "source": [
    "### More on MCMC\n",
    "\n",
    "Metropolis-Hastings is an old fashioned monte carlo method and there has been a lot of work on improving it.  Also, there are packages which automate\n",
    "the MCMC solution of this type of problem.  The two I have tried are [stan](https://mc-stan.org/) and [pymc3](https://docs.pymc.io/)."
   ]
  },
  {
   "cell_type": "code",
   "execution_count": null,
   "metadata": {},
   "outputs": [],
   "source": []
  }
 ],
 "metadata": {
  "kernelspec": {
   "display_name": "Python 3",
   "language": "python",
   "name": "python3"
  },
  "language_info": {
   "codemirror_mode": {
    "name": "ipython",
    "version": 3
   },
   "file_extension": ".py",
   "mimetype": "text/x-python",
   "name": "python",
   "nbconvert_exporter": "python",
   "pygments_lexer": "ipython3",
   "version": "3.7.7"
  }
 },
 "nbformat": 4,
 "nbformat_minor": 4
}
