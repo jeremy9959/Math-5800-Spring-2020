{
 "cells": [
  {
   "cell_type": "markdown",
   "metadata": {},
   "source": [
    "## Convolution"
   ]
  },
  {
   "cell_type": "markdown",
   "metadata": {},
   "source": [
    "Convolution is a fundamental operation that appears in many different contexts in both pure and applied settings in mathematics.  Let's look at a simple case first.  Consider the space of real valued polynomial functions $\\mathcal{P}$.  If $f\\in \\mathcal{P}$, we have\n",
    "\n",
    "$$\n",
    "f(z) = \\sum_{i=0}^{\\infty} a_i z^i\n",
    "$$\n",
    "\n",
    "where $a_i=0$ for $i$ sufficiently large.  There is an obvious linear map \n",
    "\n",
    "$$\n",
    "a:\\mathcal{P}\\to c_{00}(\\mathbf{R})\n",
    "$$\n",
    "\n",
    "where $c_{00}(\\mathbf{R})$ is the space of sequences that are eventually zero.  For each integer\n",
    "$i$, we have a projection map $a_{i}:c_{00}(\\mathbf{R})\\to\\mathbf{R}$ so that $a_{i}(f)$ is the coefficient of $z^{i}$ for\n",
    "$f\\in\\mathcal{P}$.  Since $\\mathcal{P}$ is a\n",
    "ring under addition and multiplication of functions, these operations must be reflected on the other side of the map $a$.  Clearly\n",
    "we can add sequences in $c_{00}(\\mathbf{R})$ componentwise, and since addition of polynomials is also componentwise we have:\n",
    "$$\n",
    "a(f+g)=a(f)+a(g)\n",
    "$$\n",
    "\n",
    "What about multiplication?  We know that\n",
    "\n",
    "$$\n",
    "a_{n}(fg) = \\sum_{r+s=n}a_{r}(f)a_{s}(g) = \\sum_{r=0}^{n} a_{r}(f)a_{n-r}(g) = \\sum_{r=0}^{\\infty}a_{r}(f)a_{n-r}(g)\n",
    "$$\n",
    "where we adopt the convention that $a_i(f)=0$ if $i<0$.  \n",
    "\n",
    "Given $(a_0,a_1,\\ldots)$ and $(b_0,b_1,\\ldots)$ in $c_{00}(\\mathbf{R})$, define\n",
    "$$\n",
    "a*b = (c_0,c_1,\\ldots)\n",
    "$$\n",
    "where\n",
    "$$\n",
    "c_n = \\sum_{j=0}^{\\infty} a_j b_{n-j}\n",
    "$$\n",
    "with the same convention that $a_i=b_i=0$ if $i<0$. \n",
    "\n",
    "This operation is called *convolution*; together with addition it makes the vector space $c_{00}(\\mathbf{R})$ into a commutative ring\n",
    "with identity element $(1,0,0,\\ldots)$.  Furthermore by construction we have\n",
    "\n",
    "$$\n",
    "a(fg) = a(f)*a(g).\n",
    "$$\n",
    "\n",
    "\n"
   ]
  },
  {
   "cell_type": "markdown",
   "metadata": {},
   "source": [
    "There are many generalizations of this.  For example, suppose that we consider convergent infinite series instead of just polynomials. \n",
    "Since the product of convergent series is convergent and the coefficients are computed as if the series were (infinite) polynomials,\n",
    "we can extend convolution to this vector space. "
   ]
  },
  {
   "cell_type": "markdown",
   "metadata": {},
   "source": [
    "If we consider Fourier Series as $\\ell^2$ summable sequences $\\sum_{n=0}^{\\infty} a_{n}e^{2\\pi i nz}$ then we have a linear\n",
    "map\n",
    "$$\n",
    "F: L^{2}(S^{1})\\to \\ell^{2}(\\mathbf{Z})\n",
    "$$\n",
    "and $F(fg)=F(f)*F(g)$ so the coefficients of the Fourier series of the product of periodic functions is the convolution of the original functions' Fourier coefficients."
   ]
  },
  {
   "cell_type": "markdown",
   "metadata": {},
   "source": [
    " The convolution of two functions $f$ and $g$ on the real line\n",
    "is given by the integral"
   ]
  },
  {
   "cell_type": "markdown",
   "metadata": {},
   "source": [
    "$$\n",
    "(f*g)(\\theta) = \\int f(\\phi)g(\\theta-\\phi) d\\phi.\n",
    "$$"
   ]
  },
  {
   "cell_type": "markdown",
   "metadata": {},
   "source": [
    "This is a continuous version of the fourier series situation, and you can show that, with the right convergence conditions,\n",
    "that the fourier transform of the product of functions is the convolution of their fourier transforms."
   ]
  },
  {
   "cell_type": "markdown",
   "metadata": {},
   "source": [
    "## An example"
   ]
  },
  {
   "cell_type": "markdown",
   "metadata": {},
   "source": [
    "Suppose that $f(x)$ is a function on the real line, and $g(x)$ is a square bump\n",
    "$$\n",
    "g(x) = \\begin{cases} 1 & 0\\le x\\le 1 \\cr 0 & \\hbox{otherwise}\\end{cases}\n",
    "$$\n",
    "Then\n",
    "$$\n",
    "(f*g)(y) = \\int f(x)g(y-x)dx = \\int_{x=y-1}^{y} f(x) dx.\n",
    "$$\n",
    "In other words the value of $f*g$ at $y$ is the average value of $f$ over the preceeding unit interval -- $f*g$ is a \"moving average\" of $f$.  "
   ]
  },
  {
   "cell_type": "code",
   "execution_count": null,
   "metadata": {},
   "outputs": [],
   "source": [
    "from bokeh.plotting import figure\n",
    "from bokeh.io import output_notebook, show,curdoc\n",
    "from bokeh.themes import Theme\n",
    "import numpy as np\n",
    "output_notebook()\n",
    "theme=Theme(json={})\n",
    "curdoc().theme=theme"
   ]
  },
  {
   "cell_type": "code",
   "execution_count": null,
   "metadata": {},
   "outputs": [],
   "source": [
    "f = np.vectorize(lambda x: 1 if x>=-.5 and x<=.5 else 0)\n",
    "\n",
    "x = np.linspace(-20,20,1000)\n",
    "y = np.sin(x)+np.random.normal(0,.1,size=x.shape[0])\n",
    "g = f(x)\n"
   ]
  },
  {
   "cell_type": "code",
   "execution_count": null,
   "metadata": {},
   "outputs": [],
   "source": [
    "F = figure()\n",
    "F.line(x,y,legend_label='noisy')\n",
    "#F.line(x,g, color='red')\n",
    "F.line(x,np.convolve(y,g,'same')/sum(g),color='green',legend_label='smoothed',line_width=3)\n",
    "F.legend.background_fill_alpha=0\n",
    "F.legend.click_policy='hide'\n",
    "F.title.text=\"A noisy signal and convolution with a symmetric square wave\"\n",
    "show(F)\n"
   ]
  },
  {
   "cell_type": "markdown",
   "metadata": {},
   "source": []
  },
  {
   "cell_type": "markdown",
   "metadata": {},
   "source": [
    "## Convolution in two dimensions"
   ]
  },
  {
   "cell_type": "markdown",
   "metadata": {},
   "source": [
    "Just like in one dimension, convolution is a type of filtering operation in two dimensions.  The most direct generalization of the example at the beginning of this note would be to consider a function $f(x,y)$ of two variables (our \"image\"), \n",
    "and take $g(x,y)$ to be the function taking the value $1$ on a square centered at the origin and zero elsewhere.  Then the convolution $f*g$ would make a new image whose value at a point is the average of the values at the nearby points in a square region. \n",
    "\n",
    "Let's grab a few MNIST images and do some experiments."
   ]
  },
  {
   "cell_type": "code",
   "execution_count": null,
   "metadata": {},
   "outputs": [],
   "source": [
    "import pandas as pd\n",
    "from scipy.signal import convolve2d\n",
    "from bokeh.layouts import row, column\n",
    "theme = Theme(json={'attrs':{'Figure':{'toolbar_location':None},'Grid':{'visible': False}, 'Axis':{'visible':False}}})\n",
    "curdoc().theme=theme"
   ]
  },
  {
   "cell_type": "code",
   "execution_count": null,
   "metadata": {},
   "outputs": [],
   "source": [
    "images = pd.read_csv('data/MNIST/train.csv',nrows=50)\n",
    "K = np.array([[1,1,1],[1,1,1],[1,1,1]])\n",
    "KV = np.array([[0,1,0],[0,1,0],[0,1,0]])\n",
    "KH = np.array([[0,0,0],[1,1,1],[0,0,0]])"
   ]
  },
  {
   "cell_type": "code",
   "execution_count": null,
   "metadata": {},
   "outputs": [],
   "source": [
    "F = figure(width=300,height=300)\n",
    "pic = images.iloc[1,1:].values.reshape(28,28)\n",
    "F.image(image=[pic],x=0,y=0,dw=1,dh=1,palette='Spectral11')\n",
    "F.title.text='An MNIST 0 (unfiltered)'\n",
    "F1 = figure(width=300,height=300)\n",
    "F1.image(image=[convolve2d(pic,K)/9],x=0,y=0,dw=1,dh=1,palette='Spectral11')\n",
    "F1.title.text=\"Averaging Filter\"\n",
    "F2 = figure(width=300,height=300)\n",
    "F2.image(image=[convolve2d(pic,KV)/3],x=0,y=0,dw=1,dh=1,palette='Spectral11')\n",
    "F2.title.text=\"Vertical line filter\"\n",
    "F3 = figure(width=300,height=300)\n",
    "F3.image(image=[convolve2d(pic,KH)/3],x=0,y=0,dw=1,dh=1,palette='Spectral11')\n",
    "F3.title.text=\"Horizontal line filter\"\n",
    "show(column(row(F,F1),row(F2,F3)))"
   ]
  },
  {
   "cell_type": "markdown",
   "metadata": {},
   "source": [
    "# Color Images\n",
    "\n",
    "We'll take a pokemon image which is an RGBA image --  meaning it has 4 channels,\n",
    "one each for Red, Green, Blue, and Alpha (or transparency).  Since the image is 120x120,\n",
    "it gives an array of dimensions 120x120x4."
   ]
  },
  {
   "cell_type": "code",
   "execution_count": null,
   "metadata": {},
   "outputs": [],
   "source": [
    "import imageio\n",
    "image = imageio.imread('data/pokemon/delcatty.png')\n",
    "\n",
    "from scipy.ndimage.filters import convolve\n",
    "from scipy.ndimage.filters import gaussian_filter\n",
    "K = np.array([[1,1,1],[1,1,1],[1,1,1]])\n",
    "H = np.stack([K,K,K,K])\n",
    "H=H.transpose(1,2,0)/H.sum()\n",
    "filtered=convolve(image,H)\n",
    "\n",
    "\n",
    "F = figure(width=300,height=300)\n",
    "F.image_rgba(image=[image[::-1,::-1,:]],x=0,y=0,dw=1,dh=1)\n",
    "F.title.text = \"original pokemon\"\n",
    "F2 = figure(width=300,height=300)\n",
    "F2.image_rgba(image=[filtered[::-1,::-1,:]],x=0,y=0,dw=1,dh=1,)\n",
    "F2.title.text=\"pokemon with an averaging filter\"\n",
    "F.xgrid.visible=False\n",
    "F.ygrid.visible=False\n",
    "F2.xgrid.visible=False\n",
    "F2.ygrid.visible=False\n",
    "show(row(F,F2))"
   ]
  },
  {
   "cell_type": "markdown",
   "metadata": {},
   "source": [
    "A gaussian filter means that instead of convolving our image with a \"step function\" we convolve with a Gaussian.\n",
    "This gives a weighted average for the pixel value at each point.  The variance of the Gaussian affects the range over which the averaging is conducted.  In the example below, we image our image sits in an infinite plane of zeros for purposes of computing the convolution."
   ]
  },
  {
   "cell_type": "code",
   "execution_count": null,
   "metadata": {},
   "outputs": [],
   "source": [
    "\n",
    "def filter_image():\n",
    "    ims = []\n",
    "    for sigma in np.arange(0,5,1):\n",
    "        F = figure(width=200,height=200)\n",
    "        F.image_rgba(image=[gaussian_filter(image[::-1,::-1,:],sigma=sigma,mode='constant',cval=0.0)],x=0,y=0,dw=1,dh=1)\n",
    "        F.title.text=\"Gaussian Filter sigma={:.2f}\".format(sigma)\n",
    "        ims.append(F)\n",
    "        \n",
    "    return ims\n",
    "ims=filter_image()\n",
    "show(row(ims))"
   ]
  },
  {
   "cell_type": "markdown",
   "metadata": {},
   "source": [
    "## Padding and stride\n",
    "\n",
    "**Padding:** One question with filtering (or convolution) is how to handle boundary cases.  Let's suppose for the moment that we are dealing with a discrete convolution kernel, like our 3x3 examples earlier,  rather than a continuous one like a Gaussian. \n",
    "What happens when our 3x3 kernel hits an edge of our matrix?\n",
    "\n",
    "1. Only consider situations where the kernel fits entirely within the field of the image.  If the image is NxM, and the kernel\n",
    "is HxW, then you can fit M-W+1 copies of the kernel in each row and N-H+1 copies of the kernel in each column.  So the result of the convolution would have size (N-H+1)x(M-W+1).\n",
    "\n",
    "2.  Pad the image (on each side, or top and bottom or both) by zeros -- in other words, allow the kernel to overlap the edge of the image, but assume the image is zeros outside of the original bounds.  If we add p columns of zeros to each side\n",
    "of the image, then our padded image has M+2p columns and so we can fit M-W+2p+1 copies of the kernel horizontally;\n",
    "and similarly N-H+2p-1 vertically.  **Note**: Commonly we can choose W=H, both odd, and then p=(W-1)/2, and we end up\n",
    "with our convolution producing output of the same size as the original image.\n",
    "\n",
    "**Stride:** What if we move our filter by more than one step each time?  The step size is called the *stride* s.  In this case\n",
    "the output size is going to be (M-W+2p)/s+1.\n",
    "\n"
   ]
  },
  {
   "cell_type": "markdown",
   "metadata": {},
   "source": [
    "### A little math\n",
    "\n",
    "Let's look more closely at the case of Fourier series.  Let\n",
    "$L^{2}(S^{1})$ \n",
    "be the space of complex valued functions on the circle $S^{1}$ (or the periodic complex valued functions on the real line) and\n",
    "suppose that $f$ is chosen from this space.\n",
    "\n",
    "From Fourier theory, we know that $f(\\theta)$ has a Fourier expansion\n",
    "$$\n",
    "f(\\theta) = \\sum_{n=-\\infty}^{\\infty} \\hat{f}(n)e^{in\\theta}\n",
    "$$\n",
    "where each coefficient $\\hat{f}(n)$ is a complex number and $\\sum_{n} \\|\\hat{f}(n)\\|^2<\\infty$.  The coefficients\n",
    "$\\hat{f}(n)$ are given by\n",
    "$$\n",
    "\\hat{f}(n) =\\int f(\\theta)e^{-in\\theta}d\\theta.\n",
    "$$\n",
    "\n",
    "Suppose that $g_n(\\theta) = e^{in\\theta}$.  Then\n",
    "$$\n",
    "(f*g_n)(\\theta) = \\int f(\\phi)e^{in\\theta-in\\phi}d\\phi = e^{in\\theta}\\int f(\\phi)e^{-in\\phi}d\\phi = \\hat{f}(n)e^{in\\theta}\n",
    "$$\n",
    "\n",
    "So convolution with a pure exponential projects a function onto one of its fourier components.  Taking advantage of linearity\n",
    "and not worrying too much about convergence, we get the fundamental relationship between convolution and Fourier transform.\n",
    "\n",
    "\n",
    "**Proposition:** The Fourier transform of a convolution is the product of the Fourier Transforms:\n",
    "$$\\widehat{(f*g)}(n)=\\hat{f}(n)\\hat{g}(n)$$\n",
    "\n",
    "\n",
    "This principle holds true in many settings, accounting for the complications arising from convergence when the underlying space is not compact."
   ]
  },
  {
   "cell_type": "markdown",
   "metadata": {},
   "source": [
    "If we consider instead the Fourier Transform on $\\mathbf{R}$, then the same principle holds -- Fourier transform changes\n",
    "convolution into product.  At the same time, the Fourier transform of a Gaussian is again a Gaussian.  So Convolution with a Gaussian, looked at in the Fourier domain, damps out the high frequencies of the image."
   ]
  },
  {
   "cell_type": "markdown",
   "metadata": {},
   "source": [
    "### Discrete Fourier Transform\n",
    "\n",
    "Let $G=\\mathbf{Z}/\\mathbf{NZ}$.  The *characters* of $G$ are the homomorphisms $G\\to \\mathbf{C}^{*}$ where $\\mathbf{C}^{*}$\n",
    "is the multiplicative group of nonzero complex numbers.  In other words, a character of $G$ is a function\n",
    "$f:G\\to \\mathbf{C}^{*}$ with $f(x+y)=f(x)f(y)$.  For $j=0,\\ldots, N-1$, the function\n",
    "$$\n",
    "f_j(x)=e^{2\\pi i jx/N}\n",
    "$$\n",
    "is a character -- it is well defined because of you replace $x$ by $x+N$ the value $f_j(x)$ doesn't change.  If $h$ is any\n",
    "function from $G\\to \\mathbf{C}$, then there is a unique expansion\n",
    "$$\n",
    "h(x) = \\sum_{i=0}^{N} \\hat{h}(j)f_{j}(x).\n",
    "$$\n",
    "The $\\hat{h}(j)$ are called the Fourier coefficients of $h$.  To prove this, introduce the Hermitian inner product:\n",
    "$$\n",
    "<h,k> = \\sum_{i=0}^{N-1} h(x)\\overline{k}(x)\n",
    "$$\n",
    "On the one hand the vector space of functions on $G$ is $N$ dimensional; on the other hand you can show that the\n",
    "$N$ functions $f_j$ form an orthogonal basis of the space.  The Fourier coefficients are the projection of the function\n",
    "$h$ onto the corresponding orthonormal basis:\n",
    "$$\n",
    "\\hat{h}(j) = \\frac{<h,f_{-j}>}{N}\n",
    "$$"
   ]
  },
  {
   "cell_type": "markdown",
   "metadata": {},
   "source": [
    "### Fast Multiplication\n",
    "\n",
    "Suppose you want to multiply two polynomials of degree $d-1$.  If $f(x)=\\sum_{i=0}^{d-1} a(i)x^i$ and\n",
    "$g(x)=\\sum_{i=0}^{d-1} b(i)x^i$ then the coefficients $c(k)$ of the product are given by\n",
    "$$\n",
    "c(k) = \\sum_{i+j=k}a(i)b(j) = \\sum_{i=0}^{2d}a(i)b(k-i)\n",
    "$$\n",
    "for $k=0,\\ldots, 2d$.  Notice that the sum on the right is the convolution of the two functions $a$ and $b$; so thinking\n",
    "of these as functions on the positive integers we see that the $k^{th}$ coefficient of $fg$ is $(a * b)(k)$.  Also notice\n",
    "this requires $O(d^2)$ multiplications.\n",
    "\n",
    "Let's think of $a$, $b$, and $c$ as functions  $\\mathbf{Z}/(2d\\mathbf{Z})\\to \\mathbf{C}$.\n",
    "\n",
    "We can:\n",
    "- compute the Fourier Transforms $\\hat{a}$ and $\\hat{b}$ of the functions $a$ and $b$.  \n",
    "- compute the pointwise product $\\hat{a}\\hat{b}=\\hat{c}$.\n",
    "- compute the inverse Fourier transform of $\\hat{c}$ to recover the function $c$.\n",
    "\n",
    "This is only a good idea if it is more efficient then the direct multiplication.  However, there is an algorithm\n",
    "known as the *Fast Fourier Transform* which computes $\\hat{a}$ and $\\hat{b}$, and then $\\hat{\\hat{c}}$,\n",
    "in time $O(d\\log d)$, which is better than the $O(d^2)$ of the original method.  For $d$ large this gives a much more efficient\n",
    "way to multiply polynomials.\n",
    "\n",
    "Applied to integers (which are sort of polynomials in powers of 10, or powers of 2) one gets a fast algorithm for multiplying large integers.\n"
   ]
  },
  {
   "cell_type": "code",
   "execution_count": null,
   "metadata": {},
   "outputs": [],
   "source": []
  }
 ],
 "metadata": {
  "kernelspec": {
   "display_name": "Python 3",
   "language": "python",
   "name": "python3"
  },
  "language_info": {
   "codemirror_mode": {
    "name": "ipython",
    "version": 3
   },
   "file_extension": ".py",
   "mimetype": "text/x-python",
   "name": "python",
   "nbconvert_exporter": "python",
   "pygments_lexer": "ipython3",
   "version": "3.6.10"
  }
 },
 "nbformat": 4,
 "nbformat_minor": 4
}
