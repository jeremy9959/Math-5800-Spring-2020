{
 "cells": [
  {
   "cell_type": "markdown",
   "metadata": {},
   "source": [
    "### Notes on Logistic Regression"
   ]
  },
  {
   "cell_type": "markdown",
   "metadata": {},
   "source": [
    "The data consists of:\n",
    "\n",
    "- A collection D of N d-dimensional column vectors x (so an \n",
    "    (d,N) data matrix) \n",
    "    \n",
    "- A label for each column vector between 0 and k-1 which we represent as an \n",
    "    (k,N)\n",
    "    matrix $L$ such that the jth column has a 1 in the ith row if D[:,j] is in class i,\n",
    "    and zeroes elsewhere in that column.\n",
    "\n",
    "The logistic regression model has for parameters a matrix W of size (k,d)\n",
    "and a bias vector b of\n",
    "size (k,1). To simplify the notation, let's add a dimension to our column\n",
    "vectors and set every last value to 1; then we can treat the biases\n",
    "as part of our matrices W.  From now on our dimension d includes this extra\n",
    "dimension.\n",
    "\n",
    "\n",
    "Let $\\sigma$ be the softmax function.  The model assigns the multinomial probabilities\n",
    "$\\sigma(Wx)$ to x and we wish to maximize the likelihood of the data given W.  Note that $\\sigma(Wx)$  is a (k,1) column vector. \n",
    "\n",
    "The relevant loss function is the log-likelihood of the model.  Suppose\n",
    "that the point $D[:,j]$ belongs to class $i$. Then \n",
    "\n",
    "$$\n",
    "\\sum_{j=1}^{N} log\\sigma(W[i,:]D[:,j])\n",
    "$$\n",
    "\n",
    "In other words, the log-likelihood has a contribution equal to the log of the\n",
    "probability that the model assigns to point j belonging to its actual class.\n",
    "We want to maximize this.\n",
    "\n",
    "To apply gradient descent we need the gradient of the $\\log\\sigma(Wx)$.\n",
    "Recall that\n",
    "$$\n",
    "(\\sigma(WD[:,j]))_i = \\frac{e^{W[i,:]D[:,j]}}{Z}\n",
    "$$\n",
    "where\n",
    "$$\n",
    "Z = \\sum_{i=1}^{k} e^{W[i,:]D[:,j]}.\n",
    "$$\n",
    "\n",
    "Taking the logarithmic derivative of $\\partial_i=\\partial/\\partial W[i,:]$\n",
    "gives\n",
    "$$\n",
    "\\partial_i (\\log\\sigma(WD[:,k]])_j = -\\log\\partial_i(Z)\n",
    "$$\n",
    "if $j\\not=i$ and\n",
    "$$\n",
    "\\partial_i\\log\\sigma(WD[:,k])_i = D[:,k]-\\log\\partial_i(Z)\n",
    "$$\n",
    "\n",
    "Using the definition of $Z$ we get\n",
    "$$\n",
    "\\partial_i\\log(Z) = D[:,k](\\sigma(WD[:,k])_i\n",
    "$$\n",
    "\n",
    "\n",
    "To make sense of these formulas, each term in the sum making up the log likelihood\n",
    " -- that is, each data point -- contributes to the gradient.  That contribution\n",
    " is $\\log\\sigma(WD[:,j])_i$ where $i$ is the class to which the point belongs\n",
    " The contribution of this term to the gradient in row i is the a multiple\n",
    " of the data point:\n",
    " $$\n",
    " \\partial_i = D[:,k](1-(\\sigma(WD[:,k])_i)\n",
    " $$\n",
    " while in other rows the multiple is:\n",
    " $$\n",
    " \\partial_j = -D[:,k](\\sigma(WD[:,k])_i)\n",
    " $$\n",
    " \n",
    " Since the probabilities $\\sigma(WD[:,k])_i$ are between $0$ and $1$,\n",
    " this means that if we follow the gradient the weights in the ith row will \n",
    " be increased a bit while the weights in all the other rows will be\n",
    " decreased a bit in the direction of the jth data point if that point belongs to class i.\n",
    " \n",
    " \n",
    " \n"
   ]
  },
  {
   "cell_type": "code",
   "execution_count": 29,
   "metadata": {},
   "outputs": [],
   "source": [
    "import numpy as np\n",
    "from numpy.random import normal\n",
    "from numpy.random import shuffle\n",
    "from tqdm import tqdm\n",
    "import matplotlib.pyplot as plt\n",
    "from sklearn.preprocessing import OneHotEncoder\n",
    "from sklearn.linear_model import LogisticRegression"
   ]
  },
  {
   "cell_type": "markdown",
   "metadata": {},
   "source": [
    "Make N points in dim dimensions chosen from two normals at diagonal means 1 and -1."
   ]
  },
  {
   "cell_type": "code",
   "execution_count": 3,
   "metadata": {},
   "outputs": [
    {
     "data": {
      "text/plain": [
       "matrix([[0., 0., 0., 0., 0., 0., 0., 0., 0., 0., 1., 1., 1., 1., 1., 1.,\n",
       "         1., 1., 1., 1.],\n",
       "        [1., 1., 1., 1., 1., 1., 1., 1., 1., 1., 0., 0., 0., 0., 0., 0.,\n",
       "         0., 0., 0., 0.]])"
      ]
     },
     "execution_count": 3,
     "metadata": {},
     "output_type": "execute_result"
    }
   ],
   "source": [
    "L = np.concatenate([[1 for i in range(10)],[0 for i in range(10)]])\n",
    "OneHotEncoder().fit_transform(L.reshape(len(L),1)).todense().T"
   ]
  },
  {
   "cell_type": "code",
   "execution_count": 4,
   "metadata": {},
   "outputs": [
    {
     "data": {
      "text/plain": [
       "matrix([[1., 1., 1., 1., 1., 1., 1., 1., 1., 1., 1., 1., 1., 1., 1., 1.,\n",
       "         1., 1., 1., 1., 1., 1., 1., 1., 1., 1., 1., 1., 1., 1., 1., 1.,\n",
       "         1., 1., 1., 1., 1., 1., 1., 1., 1., 1., 1., 1., 1., 1., 1., 1.,\n",
       "         1., 1., 1., 1., 1., 1., 1., 1., 1., 1., 1., 1., 1., 1., 1., 1.,\n",
       "         1., 1., 1., 1., 1., 1., 1., 1., 1., 1., 1., 1., 1., 1., 1., 1.,\n",
       "         1., 1., 1., 1., 1., 1., 1., 1., 1., 1., 1., 1., 1., 1., 1., 1.,\n",
       "         1., 1., 1., 1., 0., 0., 0., 0., 0., 0., 0., 0., 0., 0., 0., 0.,\n",
       "         0., 0., 0., 0., 0., 0., 0., 0., 0., 0., 0., 0., 0., 0., 0., 0.,\n",
       "         0., 0., 0., 0., 0., 0., 0., 0., 0., 0., 0., 0., 0., 0., 0., 0.,\n",
       "         0., 0., 0., 0., 0., 0., 0., 0., 0., 0., 0., 0., 0., 0., 0., 0.,\n",
       "         0., 0., 0., 0., 0., 0., 0., 0., 0., 0., 0., 0., 0., 0., 0., 0.,\n",
       "         0., 0., 0., 0., 0., 0., 0., 0., 0., 0., 0., 0., 0., 0., 0., 0.,\n",
       "         0., 0., 0., 0., 0., 0., 0., 0., 0., 0., 0., 0., 0., 0., 0., 0.,\n",
       "         0., 0., 0., 0., 0., 0., 0., 0., 0., 0., 0., 0., 0., 0., 0., 0.,\n",
       "         0., 0., 0., 0., 0., 0., 0., 0., 0., 0., 0., 0., 0., 0., 0., 0.,\n",
       "         0., 0., 0., 0., 0., 0., 0., 0., 0., 0., 0., 0., 0., 0., 0., 0.,\n",
       "         0., 0., 0., 0., 0., 0., 0., 0., 0., 0., 0., 0., 0., 0., 0., 0.,\n",
       "         0., 0., 0., 0., 0., 0., 0., 0., 0., 0., 0., 0., 0., 0., 0., 0.,\n",
       "         0., 0., 0., 0., 0., 0., 0., 0., 0., 0., 0., 0.],\n",
       "        [0., 0., 0., 0., 0., 0., 0., 0., 0., 0., 0., 0., 0., 0., 0., 0.,\n",
       "         0., 0., 0., 0., 0., 0., 0., 0., 0., 0., 0., 0., 0., 0., 0., 0.,\n",
       "         0., 0., 0., 0., 0., 0., 0., 0., 0., 0., 0., 0., 0., 0., 0., 0.,\n",
       "         0., 0., 0., 0., 0., 0., 0., 0., 0., 0., 0., 0., 0., 0., 0., 0.,\n",
       "         0., 0., 0., 0., 0., 0., 0., 0., 0., 0., 0., 0., 0., 0., 0., 0.,\n",
       "         0., 0., 0., 0., 0., 0., 0., 0., 0., 0., 0., 0., 0., 0., 0., 0.,\n",
       "         0., 0., 0., 0., 1., 1., 1., 1., 1., 1., 1., 1., 1., 1., 1., 1.,\n",
       "         1., 1., 1., 1., 1., 1., 1., 1., 1., 1., 1., 1., 1., 1., 1., 1.,\n",
       "         1., 1., 1., 1., 1., 1., 1., 1., 1., 1., 1., 1., 1., 1., 1., 1.,\n",
       "         1., 1., 1., 1., 1., 1., 1., 1., 1., 1., 1., 1., 1., 1., 1., 1.,\n",
       "         1., 1., 1., 1., 1., 1., 1., 1., 1., 1., 1., 1., 1., 1., 1., 1.,\n",
       "         1., 1., 1., 1., 1., 1., 1., 1., 1., 1., 1., 1., 1., 1., 1., 1.,\n",
       "         1., 1., 1., 1., 1., 1., 1., 1., 0., 0., 0., 0., 0., 0., 0., 0.,\n",
       "         0., 0., 0., 0., 0., 0., 0., 0., 0., 0., 0., 0., 0., 0., 0., 0.,\n",
       "         0., 0., 0., 0., 0., 0., 0., 0., 0., 0., 0., 0., 0., 0., 0., 0.,\n",
       "         0., 0., 0., 0., 0., 0., 0., 0., 0., 0., 0., 0., 0., 0., 0., 0.,\n",
       "         0., 0., 0., 0., 0., 0., 0., 0., 0., 0., 0., 0., 0., 0., 0., 0.,\n",
       "         0., 0., 0., 0., 0., 0., 0., 0., 0., 0., 0., 0., 0., 0., 0., 0.,\n",
       "         0., 0., 0., 0., 0., 0., 0., 0., 0., 0., 0., 0.],\n",
       "        [0., 0., 0., 0., 0., 0., 0., 0., 0., 0., 0., 0., 0., 0., 0., 0.,\n",
       "         0., 0., 0., 0., 0., 0., 0., 0., 0., 0., 0., 0., 0., 0., 0., 0.,\n",
       "         0., 0., 0., 0., 0., 0., 0., 0., 0., 0., 0., 0., 0., 0., 0., 0.,\n",
       "         0., 0., 0., 0., 0., 0., 0., 0., 0., 0., 0., 0., 0., 0., 0., 0.,\n",
       "         0., 0., 0., 0., 0., 0., 0., 0., 0., 0., 0., 0., 0., 0., 0., 0.,\n",
       "         0., 0., 0., 0., 0., 0., 0., 0., 0., 0., 0., 0., 0., 0., 0., 0.,\n",
       "         0., 0., 0., 0., 0., 0., 0., 0., 0., 0., 0., 0., 0., 0., 0., 0.,\n",
       "         0., 0., 0., 0., 0., 0., 0., 0., 0., 0., 0., 0., 0., 0., 0., 0.,\n",
       "         0., 0., 0., 0., 0., 0., 0., 0., 0., 0., 0., 0., 0., 0., 0., 0.,\n",
       "         0., 0., 0., 0., 0., 0., 0., 0., 0., 0., 0., 0., 0., 0., 0., 0.,\n",
       "         0., 0., 0., 0., 0., 0., 0., 0., 0., 0., 0., 0., 0., 0., 0., 0.,\n",
       "         0., 0., 0., 0., 0., 0., 0., 0., 0., 0., 0., 0., 0., 0., 0., 0.,\n",
       "         0., 0., 0., 0., 0., 0., 0., 0., 1., 1., 1., 1., 1., 1., 1., 1.,\n",
       "         1., 1., 1., 1., 1., 1., 1., 1., 1., 1., 1., 1., 1., 1., 1., 1.,\n",
       "         1., 1., 1., 1., 1., 1., 1., 1., 1., 1., 1., 1., 1., 1., 1., 1.,\n",
       "         1., 1., 1., 1., 1., 1., 1., 1., 1., 1., 1., 1., 1., 1., 1., 1.,\n",
       "         1., 1., 1., 1., 1., 1., 1., 1., 1., 1., 1., 1., 1., 1., 1., 1.,\n",
       "         1., 1., 1., 1., 1., 1., 1., 1., 1., 1., 1., 1., 1., 1., 1., 1.,\n",
       "         1., 1., 1., 1., 1., 1., 1., 1., 1., 1., 1., 1.]])"
      ]
     },
     "execution_count": 4,
     "metadata": {},
     "output_type": "execute_result"
    }
   ],
   "source": [
    "L = np.concatenate([[i for j in range(100)] for i in range(3)])\n",
    "OneHotEncoder().fit_transform(L.reshape(len(L),1)).todense().T"
   ]
  },
  {
   "cell_type": "code",
   "execution_count": 63,
   "metadata": {},
   "outputs": [],
   "source": [
    "def setup(npts=100,dim=2,nclasses=3):\n",
    "    means = np.random.choice([i for i in range(-10,10)],size=nclasses,replace=False)\n",
    "    print(means)\n",
    "    D = np.concatenate([np.random.normal(x,size=dim*npts).reshape(dim,npts) for x in means],axis=1)\n",
    "    print(D.shape)\n",
    "    D = np.concatenate([D,np.ones(nclasses*npts).reshape(1,nclasses*npts)])\n",
    "    Labels = np.concatenate([[i for j in range(npts)] for i in range(nclasses)])\n",
    "    L=np.array(OneHotEncoder().fit_transform(Labels.reshape(len(Labels),1)).todense().T)\n",
    "    W=np.random.normal(np.mean(means),size=nclasses*(dim+1)).reshape(nclasses,dim+1)\n",
    "    return D, L, W"
   ]
  },
  {
   "cell_type": "code",
   "execution_count": 54,
   "metadata": {},
   "outputs": [],
   "source": [
    "def sigma(W,D):\n",
    "    n = np.exp(np.dot(W,D))\n",
    "    Z = n.sum(axis=0)\n",
    "    return n/Z"
   ]
  },
  {
   "cell_type": "code",
   "execution_count": 55,
   "metadata": {},
   "outputs": [],
   "source": [
    "def loss(W,D,L):\n",
    "    return (np.log(sigma(W,D))*L).sum()"
   ]
  },
  {
   "cell_type": "code",
   "execution_count": 56,
   "metadata": {},
   "outputs": [],
   "source": [
    "def one_pt_gradient(n,W,D,L):\n",
    "    dim = D.shape[0]\n",
    "    npts = D.shape[1]\n",
    "    nlabels = W.shape[0] \n",
    "    M=np.concatenate([-sigma(W,D)[i,n]*D[:,n].reshape(1,dim) for i in range(nlabels)])\n",
    "    M = M+L[:,n].reshape(nlabels,1)*D[:,n].reshape(1,dim)\n",
    "    return M\n",
    "def gradient(W,D,L):\n",
    "    dim = D.shape[0]\n",
    "    npts = D.shape[1]\n",
    "    nlabels = W.shape[0] \n",
    "    E=0\n",
    "    for n in range(npts):\n",
    "        M=np.concatenate([-sigma(W,D)[i,n]*D[:,n].reshape(1,dim) for i in range(nlabels)])\n",
    "        M = M+L[:,n].reshape(nlabels,1)*D[:,n].reshape(1,dim)\n",
    "        E = E+M\n",
    "    return E/np.linalg.norm(E)"
   ]
  },
  {
   "cell_type": "code",
   "execution_count": 57,
   "metadata": {},
   "outputs": [],
   "source": [
    "def fit(D, L, W, max_iter=10000,threshold=.001):\n",
    "    npts = D.shape[1]\n",
    "    e = 0\n",
    "    eL = []\n",
    "    for i in tqdm(range(max_iter)):\n",
    "        W = W + .001*gradient(W,D,L)\n",
    "        enew = loss(W,D,L) \n",
    "        if np.abs(e-enew)<threshold:\n",
    "            print(\"stopping after {} iterations with loss {}\".format(i,enew))\n",
    "            return W, eL\n",
    "        e = enew\n",
    "        eL.append(e)\n",
    "    print(\"max iterations reached, probably no convergence\")\n",
    "    return W, eL"
   ]
  },
  {
   "cell_type": "code",
   "execution_count": 58,
   "metadata": {},
   "outputs": [],
   "source": [
    "def error_rate(D, L, W):\n",
    "    npts = D.shape[1]\n",
    "    mistakes = 0\n",
    "    for i in range(npts):\n",
    "        if (np.argmax(sigma(W,D)[:,i])==0) != (L[0,i]==1):\n",
    "            mistakes +=1\n",
    "    return mistakes/npts"
   ]
  },
  {
   "cell_type": "code",
   "execution_count": 64,
   "metadata": {},
   "outputs": [
    {
     "name": "stdout",
     "output_type": "stream",
     "text": [
      "[4 8]\n",
      "(2, 200)\n"
     ]
    },
    {
     "data": {
      "text/plain": [
       "<matplotlib.collections.PathCollection at 0x1a1a0c6518>"
      ]
     },
     "execution_count": 64,
     "metadata": {},
     "output_type": "execute_result"
    },
    {
     "data": {
      "image/png": "[encoded data removed]",
      "text/plain": [
       "<Figure size 432x288 with 1 Axes>"
      ]
     },
     "metadata": {},
     "output_type": "display_data"
    }
   ],
   "source": [
    "D, L, W = setup(npts=100,dim=2,nclasses=2)\n",
    "plt.scatter(x=D[0,:],y=D[1,:])\n"
   ]
  },
  {
   "cell_type": "code",
   "execution_count": 65,
   "metadata": {},
   "outputs": [
    {
     "name": "stderr",
     "output_type": "stream",
     "text": [
      "100%|██████████| 10000/10000 [01:19<00:00, 125.61it/s]\n"
     ]
    },
    {
     "name": "stdout",
     "output_type": "stream",
     "text": [
      "max iterations reached, probably no convergence\n",
      "error rate is 0.00 percent\n"
     ]
    }
   ],
   "source": [
    "W, eL = fit(D,L,W)\n",
    "print('error rate is {:.2f} percent'.format(100*error_rate(D,L,W)))"
   ]
  },
  {
   "cell_type": "code",
   "execution_count": 66,
   "metadata": {},
   "outputs": [
    {
     "data": {
      "text/plain": [
       "-9.030339741485523"
      ]
     },
     "execution_count": 66,
     "metadata": {},
     "output_type": "execute_result"
    }
   ],
   "source": [
    "loss(W,D,L)"
   ]
  },
  {
   "cell_type": "code",
   "execution_count": 67,
   "metadata": {},
   "outputs": [
    {
     "data": {
      "image/png": "[encoded data removed]",
      "text/plain": [
       "<Figure size 432x288 with 1 Axes>"
      ]
     },
     "metadata": {},
     "output_type": "display_data"
    }
   ],
   "source": [
    "_=plt.plot(range(len(eL)),eL)\n",
    "_=plt.suptitle('log loss behavior')"
   ]
  },
  {
   "cell_type": "code",
   "execution_count": null,
   "metadata": {},
   "outputs": [],
   "source": []
  },
  {
   "cell_type": "code",
   "execution_count": 68,
   "metadata": {},
   "outputs": [
    {
     "data": {
      "image/png": "[encoded data removed]",
      "text/plain": [
       "<Figure size 720x720 with 1 Axes>"
      ]
     },
     "metadata": {},
     "output_type": "display_data"
    }
   ],
   "source": [
    "_=plt.figure(figsize=(10,10))\n",
    "plt.style.use('ggplot')\n",
    "P = sigma(W,D)\n",
    "_=plt.scatter(x=D[0,:],y=D[1,:],c=L[0,:])\n",
    "B = (W[0,:]-W[1,:])\n",
    "B = B/B[1]\n",
    "x = np.linspace(-4,4,100)\n",
    "plt.ylim([-4,4])\n",
    "y = -B[0]*x-B[2]\n",
    "_=plt.plot(x,y)\n",
    "_=plt.title(\"Logistic Regression with slope {:.2f} and intercept {:.2f}\".format(-B[0],-B[2]))\n"
   ]
  },
  {
   "cell_type": "code",
   "execution_count": 69,
   "metadata": {},
   "outputs": [
    {
     "data": {
      "text/plain": [
       "array([[ 5.34813903,  5.21338503, 10.61598854],\n",
       "       [ 6.27147456,  6.15352871, -0.32375251]])"
      ]
     },
     "execution_count": 69,
     "metadata": {},
     "output_type": "execute_result"
    }
   ],
   "source": [
    "W"
   ]
  },
  {
   "cell_type": "code",
   "execution_count": 73,
   "metadata": {},
   "outputs": [],
   "source": [
    "SK=LogisticRegression().fit(D[:-1,:].T,np.concatenate([[i for j in range(100)] for i in range(2)]))"
   ]
  },
  {
   "cell_type": "code",
   "execution_count": 74,
   "metadata": {},
   "outputs": [
    {
     "data": {
      "text/plain": [
       "(array([[1.61578113, 1.68328474]]), array([-19.83880511]))"
      ]
     },
     "execution_count": 74,
     "metadata": {},
     "output_type": "execute_result"
    }
   ],
   "source": [
    "SK.coef_,SK.intercept_"
   ]
  },
  {
   "cell_type": "code",
   "execution_count": 75,
   "metadata": {},
   "outputs": [
    {
     "data": {
      "text/plain": [
       "(array([-0.95989769]), array([11.78576899]))"
      ]
     },
     "execution_count": 75,
     "metadata": {},
     "output_type": "execute_result"
    }
   ],
   "source": [
    "C = SK.coef_.T\n",
    "b = SK.intercept_\n",
    "-C[0]/C[1],-b/C[1]"
   ]
  },
  {
   "cell_type": "code",
   "execution_count": null,
   "metadata": {},
   "outputs": [],
   "source": []
  }
 ],
 "metadata": {
  "kernelspec": {
   "display_name": "Python 3",
   "language": "python",
   "name": "python3"
  },
  "language_info": {
   "codemirror_mode": {
    "name": "ipython",
    "version": 3
   },
   "file_extension": ".py",
   "mimetype": "text/x-python",
   "name": "python",
   "nbconvert_exporter": "python",
   "pygments_lexer": "ipython3",
   "version": "3.6.10"
  }
 },
 "nbformat": 4,
 "nbformat_minor": 4
}
