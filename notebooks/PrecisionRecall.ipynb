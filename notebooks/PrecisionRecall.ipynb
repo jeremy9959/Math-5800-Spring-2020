{
 "cells": [
  {
   "cell_type": "markdown",
   "metadata": {},
   "source": [
    "## Assessing the performance of a classifier"
   ]
  },
  {
   "cell_type": "markdown",
   "metadata": {},
   "source": [
    "Suppose that we have an algorithm whose purpose is to classify uknown data into  some number classes.  How do we assess the performance of this algorithm?  Let's look at some of the possibilities.  To make things concrete, we'll first do a logistic regression multinomial classifier on (part of) the MNIST dataset.  Let's start with the binary case, and look at 5's and 8's, which are confusing."
   ]
  },
  {
   "cell_type": "code",
   "execution_count": 72,
   "metadata": {},
   "outputs": [
    {
     "data": {
      "text/html": [
       "\n",
       "    <div class=\"bk-root\">\n",
       "        <a href=\"https://bokeh.pydata.org\" target=\"_blank\" class=\"bk-logo bk-logo-small bk-logo-notebook\"></a>\n",
       "        <span id=\"4897\">Loading BokehJS ...</span>\n",
       "    </div>"
      ]
     },
     "metadata": {},
     "output_type": "display_data"
    },
    {
     "data": {
      "application/javascript": [
       "\n",
       "(function(root) {\n",
       "  function now() {\n",
       "    return new Date();\n",
       "  }\n",
       "\n",
       "  var force = true;\n",
       "\n",
       "  if (typeof root._bokeh_onload_callbacks === \"undefined\" || force === true) {\n",
       "    root._bokeh_onload_callbacks = [];\n",
       "    root._bokeh_is_loading = undefined;\n",
       "  }\n",
       "\n",
       "  var JS_MIME_TYPE = 'application/javascript';\n",
       "  var HTML_MIME_TYPE = 'text/html';\n",
       "  var EXEC_MIME_TYPE = 'application/vnd.bokehjs_exec.v0+json';\n",
       "  var CLASS_NAME = 'output_bokeh rendered_html';\n",
       "\n",
       "  /**\n",
       "   * Render data to the DOM node\n",
       "   */\n",
       "  function render(props, node) {\n",
       "    var script = document.createElement(\"script\");\n",
       "    node.appendChild(script);\n",
       "  }\n",
       "\n",
       "  /**\n",
       "   * Handle when an output is cleared or removed\n",
       "   */\n",
       "  function handleClearOutput(event, handle) {\n",
       "    var cell = handle.cell;\n",
       "\n",
       "    var id = cell.output_area._bokeh_element_id;\n",
       "    var server_id = cell.output_area._bokeh_server_id;\n",
       "    // Clean up Bokeh references\n",
       "    if (id != null && id in Bokeh.index) {\n",
       "      Bokeh.index[id].model.document.clear();\n",
       "      delete Bokeh.index[id];\n",
       "    }\n",
       "\n",
       "    if (server_id !== undefined) {\n",
       "      // Clean up Bokeh references\n",
       "      var cmd = \"from bokeh.io.state import curstate; print(curstate().uuid_to_server['\" + server_id + \"'].get_sessions()[0].document.roots[0]._id)\";\n",
       "      cell.notebook.kernel.execute(cmd, {\n",
       "        iopub: {\n",
       "          output: function(msg) {\n",
       "            var id = msg.content.text.trim();\n",
       "            if (id in Bokeh.index) {\n",
       "              Bokeh.index[id].model.document.clear();\n",
       "              delete Bokeh.index[id];\n",
       "            }\n",
       "          }\n",
       "        }\n",
       "      });\n",
       "      // Destroy server and session\n",
       "      var cmd = \"import bokeh.io.notebook as ion; ion.destroy_server('\" + server_id + \"')\";\n",
       "      cell.notebook.kernel.execute(cmd);\n",
       "    }\n",
       "  }\n",
       "\n",
       "  /**\n",
       "   * Handle when a new output is added\n",
       "   */\n",
       "  function handleAddOutput(event, handle) {\n",
       "    var output_area = handle.output_area;\n",
       "    var output = handle.output;\n",
       "\n",
       "    // limit handleAddOutput to display_data with EXEC_MIME_TYPE content only\n",
       "    if ((output.output_type != \"display_data\") || (!output.data.hasOwnProperty(EXEC_MIME_TYPE))) {\n",
       "      return\n",
       "    }\n",
       "\n",
       "    var toinsert = output_area.element.find(\".\" + CLASS_NAME.split(' ')[0]);\n",
       "\n",
       "    if (output.metadata[EXEC_MIME_TYPE][\"id\"] !== undefined) {\n",
       "      toinsert[toinsert.length - 1].firstChild.textContent = output.data[JS_MIME_TYPE];\n",
       "      // store reference to embed id on output_area\n",
       "      output_area._bokeh_element_id = output.metadata[EXEC_MIME_TYPE][\"id\"];\n",
       "    }\n",
       "    if (output.metadata[EXEC_MIME_TYPE][\"server_id\"] !== undefined) {\n",
       "      var bk_div = document.createElement(\"div\");\n",
       "      bk_div.innerHTML = output.data[HTML_MIME_TYPE];\n",
       "      var script_attrs = bk_div.children[0].attributes;\n",
       "      for (var i = 0; i < script_attrs.length; i++) {\n",
       "        toinsert[toinsert.length - 1].firstChild.setAttribute(script_attrs[i].name, script_attrs[i].value);\n",
       "      }\n",
       "      // store reference to server id on output_area\n",
       "      output_area._bokeh_server_id = output.metadata[EXEC_MIME_TYPE][\"server_id\"];\n",
       "    }\n",
       "  }\n",
       "\n",
       "  function register_renderer(events, OutputArea) {\n",
       "\n",
       "    function append_mime(data, metadata, element) {\n",
       "      // create a DOM node to render to\n",
       "      var toinsert = this.create_output_subarea(\n",
       "        metadata,\n",
       "        CLASS_NAME,\n",
       "        EXEC_MIME_TYPE\n",
       "      );\n",
       "      this.keyboard_manager.register_events(toinsert);\n",
       "      // Render to node\n",
       "      var props = {data: data, metadata: metadata[EXEC_MIME_TYPE]};\n",
       "      render(props, toinsert[toinsert.length - 1]);\n",
       "      element.append(toinsert);\n",
       "      return toinsert\n",
       "    }\n",
       "\n",
       "    /* Handle when an output is cleared or removed */\n",
       "    events.on('clear_output.CodeCell', handleClearOutput);\n",
       "    events.on('delete.Cell', handleClearOutput);\n",
       "\n",
       "    /* Handle when a new output is added */\n",
       "    events.on('output_added.OutputArea', handleAddOutput);\n",
       "\n",
       "    /**\n",
       "     * Register the mime type and append_mime function with output_area\n",
       "     */\n",
       "    OutputArea.prototype.register_mime_type(EXEC_MIME_TYPE, append_mime, {\n",
       "      /* Is output safe? */\n",
       "      safe: true,\n",
       "      /* Index of renderer in `output_area.display_order` */\n",
       "      index: 0\n",
       "    });\n",
       "  }\n",
       "\n",
       "  // register the mime type if in Jupyter Notebook environment and previously unregistered\n",
       "  if (root.Jupyter !== undefined) {\n",
       "    var events = require('base/js/events');\n",
       "    var OutputArea = require('notebook/js/outputarea').OutputArea;\n",
       "\n",
       "    if (OutputArea.prototype.mime_types().indexOf(EXEC_MIME_TYPE) == -1) {\n",
       "      register_renderer(events, OutputArea);\n",
       "    }\n",
       "  }\n",
       "\n",
       "  \n",
       "  if (typeof (root._bokeh_timeout) === \"undefined\" || force === true) {\n",
       "    root._bokeh_timeout = Date.now() + 5000;\n",
       "    root._bokeh_failed_load = false;\n",
       "  }\n",
       "\n",
       "  var NB_LOAD_WARNING = {'data': {'text/html':\n",
       "     \"<div style='background-color: #fdd'>\\n\"+\n",
       "     \"<p>\\n\"+\n",
       "     \"BokehJS does not appear to have successfully loaded. If loading BokehJS from CDN, this \\n\"+\n",
       "     \"may be due to a slow or bad network connection. Possible fixes:\\n\"+\n",
       "     \"</p>\\n\"+\n",
       "     \"<ul>\\n\"+\n",
       "     \"<li>re-rerun `output_notebook()` to attempt to load from CDN again, or</li>\\n\"+\n",
       "     \"<li>use INLINE resources instead, as so:</li>\\n\"+\n",
       "     \"</ul>\\n\"+\n",
       "     \"<code>\\n\"+\n",
       "     \"from bokeh.resources import INLINE\\n\"+\n",
       "     \"output_notebook(resources=INLINE)\\n\"+\n",
       "     \"</code>\\n\"+\n",
       "     \"</div>\"}};\n",
       "\n",
       "  function display_loaded() {\n",
       "    var el = document.getElementById(\"4897\");\n",
       "    if (el != null) {\n",
       "      el.textContent = \"BokehJS is loading...\";\n",
       "    }\n",
       "    if (root.Bokeh !== undefined) {\n",
       "      if (el != null) {\n",
       "        el.textContent = \"BokehJS \" + root.Bokeh.version + \" successfully loaded.\";\n",
       "      }\n",
       "    } else if (Date.now() < root._bokeh_timeout) {\n",
       "      setTimeout(display_loaded, 100)\n",
       "    }\n",
       "  }\n",
       "\n",
       "\n",
       "  function run_callbacks() {\n",
       "    try {\n",
       "      root._bokeh_onload_callbacks.forEach(function(callback) {\n",
       "        if (callback != null)\n",
       "          callback();\n",
       "      });\n",
       "    } finally {\n",
       "      delete root._bokeh_onload_callbacks\n",
       "    }\n",
       "    console.debug(\"Bokeh: all callbacks have finished\");\n",
       "  }\n",
       "\n",
       "  function load_libs(css_urls, js_urls, callback) {\n",
       "    if (css_urls == null) css_urls = [];\n",
       "    if (js_urls == null) js_urls = [];\n",
       "\n",
       "    root._bokeh_onload_callbacks.push(callback);\n",
       "    if (root._bokeh_is_loading > 0) {\n",
       "      console.debug(\"Bokeh: BokehJS is being loaded, scheduling callback at\", now());\n",
       "      return null;\n",
       "    }\n",
       "    if (js_urls == null || js_urls.length === 0) {\n",
       "      run_callbacks();\n",
       "      return null;\n",
       "    }\n",
       "    console.debug(\"Bokeh: BokehJS not loaded, scheduling load and callback at\", now());\n",
       "    root._bokeh_is_loading = css_urls.length + js_urls.length;\n",
       "\n",
       "    function on_load() {\n",
       "      root._bokeh_is_loading--;\n",
       "      if (root._bokeh_is_loading === 0) {\n",
       "        console.debug(\"Bokeh: all BokehJS libraries/stylesheets loaded\");\n",
       "        run_callbacks()\n",
       "      }\n",
       "    }\n",
       "\n",
       "    function on_error() {\n",
       "      console.error(\"failed to load \" + url);\n",
       "    }\n",
       "\n",
       "    for (var i = 0; i < css_urls.length; i++) {\n",
       "      var url = css_urls[i];\n",
       "      const element = document.createElement(\"link\");\n",
       "      element.onload = on_load;\n",
       "      element.onerror = on_error;\n",
       "      element.rel = \"stylesheet\";\n",
       "      element.type = \"text/css\";\n",
       "      element.href = url;\n",
       "      console.debug(\"Bokeh: injecting link tag for BokehJS stylesheet: \", url);\n",
       "      document.body.appendChild(element);\n",
       "    }\n",
       "\n",
       "    for (var i = 0; i < js_urls.length; i++) {\n",
       "      var url = js_urls[i];\n",
       "      var element = document.createElement('script');\n",
       "      element.onload = on_load;\n",
       "      element.onerror = on_error;\n",
       "      element.async = false;\n",
       "      element.src = url;\n",
       "      console.debug(\"Bokeh: injecting script tag for BokehJS library: \", url);\n",
       "      document.head.appendChild(element);\n",
       "    }\n",
       "  };var element = document.getElementById(\"4897\");\n",
       "  if (element == null) {\n",
       "    console.error(\"Bokeh: ERROR: autoload.js configured with elementid '4897' but no matching script tag was found. \")\n",
       "    return false;\n",
       "  }\n",
       "\n",
       "  function inject_raw_css(css) {\n",
       "    const element = document.createElement(\"style\");\n",
       "    element.appendChild(document.createTextNode(css));\n",
       "    document.body.appendChild(element);\n",
       "  }\n",
       "\n",
       "  var js_urls = [\"https://cdn.pydata.org/bokeh/release/bokeh-1.3.4.min.js\", \"https://cdn.pydata.org/bokeh/release/bokeh-widgets-1.3.4.min.js\", \"https://cdn.pydata.org/bokeh/release/bokeh-tables-1.3.4.min.js\", \"https://cdn.pydata.org/bokeh/release/bokeh-gl-1.3.4.min.js\"];\n",
       "  var css_urls = [];\n",
       "\n",
       "  var inline_js = [\n",
       "    function(Bokeh) {\n",
       "      Bokeh.set_log_level(\"info\");\n",
       "    },\n",
       "    \n",
       "    function(Bokeh) {\n",
       "      \n",
       "    },\n",
       "    function(Bokeh) {} // ensure no trailing comma for IE\n",
       "  ];\n",
       "\n",
       "  function run_inline_js() {\n",
       "    \n",
       "    if ((root.Bokeh !== undefined) || (force === true)) {\n",
       "      for (var i = 0; i < inline_js.length; i++) {\n",
       "        inline_js[i].call(root, root.Bokeh);\n",
       "      }if (force === true) {\n",
       "        display_loaded();\n",
       "      }} else if (Date.now() < root._bokeh_timeout) {\n",
       "      setTimeout(run_inline_js, 100);\n",
       "    } else if (!root._bokeh_failed_load) {\n",
       "      console.log(\"Bokeh: BokehJS failed to load within specified timeout.\");\n",
       "      root._bokeh_failed_load = true;\n",
       "    } else if (force !== true) {\n",
       "      var cell = $(document.getElementById(\"4897\")).parents('.cell').data().cell;\n",
       "      cell.output_area.append_execute_result(NB_LOAD_WARNING)\n",
       "    }\n",
       "\n",
       "  }\n",
       "\n",
       "  if (root._bokeh_is_loading === 0) {\n",
       "    console.debug(\"Bokeh: BokehJS loaded, going straight to plotting\");\n",
       "    run_inline_js();\n",
       "  } else {\n",
       "    load_libs(css_urls, js_urls, function() {\n",
       "      console.debug(\"Bokeh: BokehJS plotting callback run at\", now());\n",
       "      run_inline_js();\n",
       "    });\n",
       "  }\n",
       "}(window));"
      ],
      "application/vnd.bokehjs_load.v0+json": "\n(function(root) {\n  function now() {\n    return new Date();\n  }\n\n  var force = true;\n\n  if (typeof root._bokeh_onload_callbacks === \"undefined\" || force === true) {\n    root._bokeh_onload_callbacks = [];\n    root._bokeh_is_loading = undefined;\n  }\n\n  \n\n  \n  if (typeof (root._bokeh_timeout) === \"undefined\" || force === true) {\n    root._bokeh_timeout = Date.now() + 5000;\n    root._bokeh_failed_load = false;\n  }\n\n  var NB_LOAD_WARNING = {'data': {'text/html':\n     \"<div style='background-color: #fdd'>\\n\"+\n     \"<p>\\n\"+\n     \"BokehJS does not appear to have successfully loaded. If loading BokehJS from CDN, this \\n\"+\n     \"may be due to a slow or bad network connection. Possible fixes:\\n\"+\n     \"</p>\\n\"+\n     \"<ul>\\n\"+\n     \"<li>re-rerun `output_notebook()` to attempt to load from CDN again, or</li>\\n\"+\n     \"<li>use INLINE resources instead, as so:</li>\\n\"+\n     \"</ul>\\n\"+\n     \"<code>\\n\"+\n     \"from bokeh.resources import INLINE\\n\"+\n     \"output_notebook(resources=INLINE)\\n\"+\n     \"</code>\\n\"+\n     \"</div>\"}};\n\n  function display_loaded() {\n    var el = document.getElementById(\"4897\");\n    if (el != null) {\n      el.textContent = \"BokehJS is loading...\";\n    }\n    if (root.Bokeh !== undefined) {\n      if (el != null) {\n        el.textContent = \"BokehJS \" + root.Bokeh.version + \" successfully loaded.\";\n      }\n    } else if (Date.now() < root._bokeh_timeout) {\n      setTimeout(display_loaded, 100)\n    }\n  }\n\n\n  function run_callbacks() {\n    try {\n      root._bokeh_onload_callbacks.forEach(function(callback) {\n        if (callback != null)\n          callback();\n      });\n    } finally {\n      delete root._bokeh_onload_callbacks\n    }\n    console.debug(\"Bokeh: all callbacks have finished\");\n  }\n\n  function load_libs(css_urls, js_urls, callback) {\n    if (css_urls == null) css_urls = [];\n    if (js_urls == null) js_urls = [];\n\n    root._bokeh_onload_callbacks.push(callback);\n    if (root._bokeh_is_loading > 0) {\n      console.debug(\"Bokeh: BokehJS is being loaded, scheduling callback at\", now());\n      return null;\n    }\n    if (js_urls == null || js_urls.length === 0) {\n      run_callbacks();\n      return null;\n    }\n    console.debug(\"Bokeh: BokehJS not loaded, scheduling load and callback at\", now());\n    root._bokeh_is_loading = css_urls.length + js_urls.length;\n\n    function on_load() {\n      root._bokeh_is_loading--;\n      if (root._bokeh_is_loading === 0) {\n        console.debug(\"Bokeh: all BokehJS libraries/stylesheets loaded\");\n        run_callbacks()\n      }\n    }\n\n    function on_error() {\n      console.error(\"failed to load \" + url);\n    }\n\n    for (var i = 0; i < css_urls.length; i++) {\n      var url = css_urls[i];\n      const element = document.createElement(\"link\");\n      element.onload = on_load;\n      element.onerror = on_error;\n      element.rel = \"stylesheet\";\n      element.type = \"text/css\";\n      element.href = url;\n      console.debug(\"Bokeh: injecting link tag for BokehJS stylesheet: \", url);\n      document.body.appendChild(element);\n    }\n\n    for (var i = 0; i < js_urls.length; i++) {\n      var url = js_urls[i];\n      var element = document.createElement('script');\n      element.onload = on_load;\n      element.onerror = on_error;\n      element.async = false;\n      element.src = url;\n      console.debug(\"Bokeh: injecting script tag for BokehJS library: \", url);\n      document.head.appendChild(element);\n    }\n  };var element = document.getElementById(\"4897\");\n  if (element == null) {\n    console.error(\"Bokeh: ERROR: autoload.js configured with elementid '4897' but no matching script tag was found. \")\n    return false;\n  }\n\n  function inject_raw_css(css) {\n    const element = document.createElement(\"style\");\n    element.appendChild(document.createTextNode(css));\n    document.body.appendChild(element);\n  }\n\n  var js_urls = [\"https://cdn.pydata.org/bokeh/release/bokeh-1.3.4.min.js\", \"https://cdn.pydata.org/bokeh/release/bokeh-widgets-1.3.4.min.js\", \"https://cdn.pydata.org/bokeh/release/bokeh-tables-1.3.4.min.js\", \"https://cdn.pydata.org/bokeh/release/bokeh-gl-1.3.4.min.js\"];\n  var css_urls = [];\n\n  var inline_js = [\n    function(Bokeh) {\n      Bokeh.set_log_level(\"info\");\n    },\n    \n    function(Bokeh) {\n      \n    },\n    function(Bokeh) {} // ensure no trailing comma for IE\n  ];\n\n  function run_inline_js() {\n    \n    if ((root.Bokeh !== undefined) || (force === true)) {\n      for (var i = 0; i < inline_js.length; i++) {\n        inline_js[i].call(root, root.Bokeh);\n      }if (force === true) {\n        display_loaded();\n      }} else if (Date.now() < root._bokeh_timeout) {\n      setTimeout(run_inline_js, 100);\n    } else if (!root._bokeh_failed_load) {\n      console.log(\"Bokeh: BokehJS failed to load within specified timeout.\");\n      root._bokeh_failed_load = true;\n    } else if (force !== true) {\n      var cell = $(document.getElementById(\"4897\")).parents('.cell').data().cell;\n      cell.output_area.append_execute_result(NB_LOAD_WARNING)\n    }\n\n  }\n\n  if (root._bokeh_is_loading === 0) {\n    console.debug(\"Bokeh: BokehJS loaded, going straight to plotting\");\n    run_inline_js();\n  } else {\n    load_libs(css_urls, js_urls, function() {\n      console.debug(\"Bokeh: BokehJS plotting callback run at\", now());\n      run_inline_js();\n    });\n  }\n}(window));"
     },
     "metadata": {},
     "output_type": "display_data"
    }
   ],
   "source": [
    "from bokeh.plotting import figure\n",
    "from bokeh.io import output_notebook, show\n",
    "from bokeh.palettes import Spectral8\n",
    "from bokeh.transform import linear_cmap\n",
    "from bokeh.models import ColumnDataSource, ColorBar\n",
    "output_notebook()"
   ]
  },
  {
   "cell_type": "code",
   "execution_count": 77,
   "metadata": {},
   "outputs": [],
   "source": [
    "import pandas as pd\n",
    "import matplotlib.pyplot as plt\n",
    "from sklearn.linear_model import LogisticRegression\n",
    "from sklearn.model_selection import train_test_split\n",
    "from sklearn.metrics import confusion_matrix, accuracy_score, roc_curve, roc_auc_score\n",
    "mnist = pd.read_csv('../data/MNIST/train.csv')\n",
    "zeros_ones = mnist[(mnist['label']==5) | (mnist['label']==8)]\n",
    "labels = zeros_ones['label'].values\n",
    "images = zeros_ones.iloc[:,1:].values\n",
    "images = images/255\n",
    "im_train, im_test, lab_train, lab_test = train_test_split(images,labels, test_size=.8,random_state=11)"
   ]
  },
  {
   "cell_type": "code",
   "execution_count": 19,
   "metadata": {},
   "outputs": [],
   "source": [
    "model = LogisticRegression(solver='lbfgs',multi_class='multinomial',max_iter=1000).fit(im_train, lab_train)"
   ]
  },
  {
   "cell_type": "markdown",
   "metadata": {},
   "source": [
    "The Logistic Model allows us to predict the class of a new image.  The most basic tool to assess the classification is the **confusion matrix**.  "
   ]
  },
  {
   "cell_type": "code",
   "execution_count": 20,
   "metadata": {},
   "outputs": [],
   "source": [
    "predicted = model.predict(im_test[:1000])\n",
    "true = lab_test[:1000]"
   ]
  },
  {
   "cell_type": "markdown",
   "metadata": {},
   "source": [
    "The accuracy of this test is the number of correct results out of the total number of results.  In this case that is 94.4%."
   ]
  },
  {
   "cell_type": "code",
   "execution_count": 24,
   "metadata": {},
   "outputs": [
    {
     "data": {
      "text/plain": [
       "0.944"
      ]
     },
     "execution_count": 24,
     "metadata": {},
     "output_type": "execute_result"
    }
   ],
   "source": [
    "accuracy_score(true,predicted)"
   ]
  },
  {
   "cell_type": "code",
   "execution_count": 22,
   "metadata": {},
   "outputs": [
    {
     "data": {
      "text/plain": [
       "array([[486,  24],\n",
       "       [ 32, 458]])"
      ]
     },
     "execution_count": 22,
     "metadata": {},
     "output_type": "execute_result"
    }
   ],
   "source": [
    "confusion_matrix(true, predicted)"
   ]
  },
  {
   "cell_type": "markdown",
   "metadata": {},
   "source": [
    "The entries of this matrix are:\n",
    "\n",
    "|    |Predicted=5 | Predicted=8|\n",
    "|---|---:|---:|\n",
    "| True=5 | 486 | 24|\n",
    "| True = 8| 32 | 458|"
   ]
  },
  {
   "cell_type": "markdown",
   "metadata": {},
   "source": [
    "## Precision, Recall, and all that\n",
    "\n",
    "Let's suppose for the moment that we consider an \"8\" a positive result and \"5\" a negative result.  Therefore:\n",
    "\n",
    "- if our image is an 8 and our classifier says it's an 8, we have a **true positive** -- there are 458 true positives in this case.\n",
    "- if our image is an 8 and our classifier says it's a 5, we have a **false negative** -- there are 32 false negatives.\n",
    "- if our image is a 5 and our classifier says it's an 8, we have a **false positive** -- there are 24 false positives\n",
    "- if our image is a 5 and our classifier says it's a 5, we have a **true negative** -- there are 486 true negatives.\n",
    "\n",
    "The rates of false positives and false negatives are a refined perspective on the types of errors we get from our test/classifier.  For example, suppose that instead of classifying digits we were giving someone a test for cancer.  In that case, the implications of \n",
    "- a false positive (telling someone that they *do* have cancer when they don't) \n",
    "\n",
    "vs \n",
    "\n",
    "- a false negative (telling them they *don't* have cancer when they do) \n",
    "\n",
    "are very different."
   ]
  },
  {
   "cell_type": "markdown",
   "metadata": {},
   "source": [
    "The **True Positive Rate** is the proportion of true positives among all positives.  In the example above,\n",
    "it's the number of things that are actually an 8 among all the things predicted to be an 8, or\n",
    "458/(458+32) = 93.4%.  This is also called **sensitivity** (esp. in medical terminology) or **recall**. \n",
    "\n",
    "A medical test for a condition has high sensitivity if, assuming you have the condition, the test is likely to detect it.  "
   ]
  },
  {
   "cell_type": "markdown",
   "metadata": {},
   "source": [
    "The **True Negative Rate** is the propoportion of true negatives among all negatives; in our case it's the number of things that are 5 divided by the number predicted to be 5 or (486)/(486+24) = 95.2%.  This is also called **specificity** especially in medical terminology.  \n",
    "\n",
    "A medical test with high specificity means that if you don't have the condition, the test is likely to give a negative result."
   ]
  },
  {
   "cell_type": "markdown",
   "metadata": {},
   "source": [
    "The **Precision** is the ratio of the true positives to the sum of the True and False Positives. In our case that is 458/(458+24) = 95%.  \n",
    "\n",
    "A medical test with high precision means that if the test is positive, you are highly likely to have the condition."
   ]
  },
  {
   "cell_type": "markdown",
   "metadata": {},
   "source": [
    "**Thought Experiment.** Imagine you have a medical test for colon cancer which is accurate 95% of the time.  In other words, among the population as a whole, it correctly says yes, you have cancer when you do, or no, you don't have cancer, when you don't.  And assume that in the population at large only 1% of the people actually have colon cancer.\n",
    "\n",
    "The outcome of the test and the reality of whether you have cancer are independent.  So in a population of one million people:\n",
    "- 10000 people have colon cancer\n",
    "- 9500 people with colon cancer get a positive test result\n",
    "- 500 people with colon cancer get a negative test result\n",
    "- 990000 do not have colon cancer\n",
    "- 940500 people without colon cancer get a negative test result\n",
    "- 49500 people without colon cancer get a positive test result\n",
    "\n",
    "Here is the confusion matrix:\n",
    "\n",
    "|  | Has Colon Cancer | Does not Have |\n",
    "|---|---:|---:|\n",
    "|positive test|9500 | 49500 |\n",
    "| negative test|500 | 940500|"
   ]
  },
  {
   "cell_type": "code",
   "execution_count": 31,
   "metadata": {},
   "outputs": [],
   "source": [
    "sensitivity = 9500/(10000)\n",
    "specificity = 940500/(940500+500)\n",
    "precision = 9500/(9500+49500)"
   ]
  },
  {
   "cell_type": "code",
   "execution_count": 38,
   "metadata": {},
   "outputs": [
    {
     "name": "stdout",
     "output_type": "stream",
     "text": [
      "sensitivity (recall) = 0, specificity = 0.98999998999999, precision = 0\n"
     ]
    }
   ],
   "source": [
    "print('sensitivity (recall) = {}, specificity = {}, precision = {}'.format(sensitivity,specificity,precision))"
   ]
  },
  {
   "cell_type": "markdown",
   "metadata": {},
   "source": [
    "In other words, if you get a positive test for colon cancer, you only have about a 16% chance of actually having the disease."
   ]
  },
  {
   "cell_type": "markdown",
   "metadata": {},
   "source": [
    "Here is another test for colon cancer.  When a patient comes in, we pick a random number between 1 and 1 million.  If we get a one, we say \"you have colon cancer\".  Otherwise, we say you don't.\n",
    "\n",
    "What is the accuracy of this test?  Well, among the 990000 people who don't have cancer, we would expect to get maybe one person with a positive test.   And among the 10000 who do,\n",
    "we expect no positive results.    So this test is basically 99% accurate.  Here is the confusion matrix:\n",
    "\n",
    "|  | Has Colon Cancer | Does not Have |\n",
    "|---|---:|---:|\n",
    "|positive test|0| 1|\n",
    "| negative test|10000| 989999|"
   ]
  },
  {
   "cell_type": "code",
   "execution_count": 36,
   "metadata": {},
   "outputs": [],
   "source": [
    "sensitivity = 0\n",
    "specificity = 989999/(999999)\n",
    "precision = 0"
   ]
  },
  {
   "cell_type": "code",
   "execution_count": 37,
   "metadata": {},
   "outputs": [
    {
     "name": "stdout",
     "output_type": "stream",
     "text": [
      "sensitivity (recall) = 0, specificity = 0.98999998999999, precision = 0\n"
     ]
    }
   ],
   "source": [
    "print('sensitivity (recall) = {}, specificity = {}, precision = {}'.format(sensitivity,specificity,precision))"
   ]
  },
  {
   "cell_type": "markdown",
   "metadata": {},
   "source": [
    "The main lesson of this thought experiment is that classification of rare events requires care!"
   ]
  },
  {
   "cell_type": "markdown",
   "metadata": {},
   "source": [
    "Why **precision** and **recall**?\n",
    "\n",
    "Imagine a document retrieval system where you do a search on some query terms and get back a bunch of documents.  There are two ways to measure how effective this is:\n",
    "\n",
    "- are you actually interested in the documents it finds, or are there are a lot of irrelevant documents in the mix?\n",
    "- did you actually find everything you are interested in, or did you miss a lot of interesting things?\n",
    "\n",
    "Obviously these two are in conflict, because if you retrieve more stuff to make sure you find everything interesting, you will get more irrelevant stuff along with it.\n",
    "\n",
    "**precision** measures whether the stuff you retrieve (the \"positive\" scores) are actually things you are interested in.  It's the ratio of the the \"interesting\" or \"true positive\" scores among all of the retrieved documents (all of the \"positive scores\", true and false).  High precision means most of what you retrieve is interesting.\n",
    "\n",
    "**recall** measures whether you really retrieved everything interesting; it's the ratio of the fraction of things you retrieved that you are interested in among everything you are interested in. High recall means you retrieved most of the interesting things."
   ]
  },
  {
   "cell_type": "markdown",
   "metadata": {},
   "source": [
    "## Thresholds and ROC curves"
   ]
  },
  {
   "cell_type": "markdown",
   "metadata": {},
   "source": [
    "Many classifiers actually compute some kind of score or probability, and the actual classification is done by setting a threshold and saying everything to one side of the threshold is a \"positive result\" and everything on the other side is a \"negative result.\"  \n",
    "\n",
    "In the case of the logistic regression above, we actually computed probabilities and then said that if the probability was greater than or equal to .5 it was a positive result (an 8) and if it was less, it was a negative result (a 5).\n",
    "\n",
    "We can study the effect of this threshold.  One tool for doing this is called the *Receiver Operating Characteristic Curve (ROC curve)*.  The terminology goes back to the early days of radar and I would like to learn more about it if anyone can find anything out.\n",
    "\n",
    "The ROC curve plots the True Positive rate against the False Positive rate as the threshold varies."
   ]
  },
  {
   "cell_type": "code",
   "execution_count": 81,
   "metadata": {},
   "outputs": [],
   "source": [
    "scores = model.predict_proba(im_test[:1000])"
   ]
  },
  {
   "cell_type": "code",
   "execution_count": 82,
   "metadata": {},
   "outputs": [],
   "source": [
    "tpr, fpr, thresholds = roc_curve(true, scores[:,0],pos_label=8)"
   ]
  },
  {
   "cell_type": "code",
   "execution_count": 83,
   "metadata": {},
   "outputs": [
    {
     "data": {
      "text/html": [
       "\n",
       "\n",
       "\n",
       "\n",
       "\n",
       "\n",
       "  <div class=\"bk-root\" id=\"d1150782-b86b-487d-9c2d-10541de1ec9a\" data-root-id=\"6245\"></div>\n"
      ]
     },
     "metadata": {},
     "output_type": "display_data"
    },
    {
     "data": {
      "application/javascript": [
       "(function(root) {\n",
       "  function embed_document(root) {\n",
       "    \n",
       "  var docs_json = {\"3e0bbfef-9571-4164-abeb-d0a7ed1fcf4d\":{\"roots\":{\"references\":[{\"attributes\":{\"below\":[{\"id\":\"6256\",\"type\":\"LinearAxis\"}],\"center\":[{\"id\":\"6260\",\"type\":\"Grid\"},{\"id\":\"6265\",\"type\":\"Grid\"}],\"left\":[{\"id\":\"6261\",\"type\":\"LinearAxis\"}],\"renderers\":[{\"id\":\"6286\",\"type\":\"GlyphRenderer\"},{\"id\":\"6292\",\"type\":\"GlyphRenderer\"}],\"right\":[{\"id\":\"6294\",\"type\":\"ColorBar\"}],\"title\":{\"id\":\"6246\",\"type\":\"Title\"},\"toolbar\":{\"id\":\"6273\",\"type\":\"Toolbar\"},\"x_range\":{\"id\":\"6248\",\"type\":\"DataRange1d\"},\"x_scale\":{\"id\":\"6252\",\"type\":\"LinearScale\"},\"y_range\":{\"id\":\"6250\",\"type\":\"DataRange1d\"},\"y_scale\":{\"id\":\"6254\",\"type\":\"LinearScale\"}},\"id\":\"6245\",\"subtype\":\"Figure\",\"type\":\"Plot\"},{\"attributes\":{},\"id\":\"6257\",\"type\":\"BasicTicker\"},{\"attributes\":{\"dimension\":1,\"ticker\":{\"id\":\"6262\",\"type\":\"BasicTicker\"}},\"id\":\"6265\",\"type\":\"Grid\"},{\"attributes\":{\"axis_label\":\"FPR\",\"formatter\":{\"id\":\"6535\",\"type\":\"BasicTickFormatter\"},\"ticker\":{\"id\":\"6257\",\"type\":\"BasicTicker\"}},\"id\":\"6256\",\"type\":\"LinearAxis\"},{\"attributes\":{},\"id\":\"6533\",\"type\":\"BasicTickFormatter\"},{\"attributes\":{},\"id\":\"6539\",\"type\":\"Selection\"},{\"attributes\":{},\"id\":\"6254\",\"type\":\"LinearScale\"},{\"attributes\":{},\"id\":\"6540\",\"type\":\"UnionRenderers\"},{\"attributes\":{},\"id\":\"6269\",\"type\":\"SaveTool\"},{\"attributes\":{},\"id\":\"6535\",\"type\":\"BasicTickFormatter\"},{\"attributes\":{\"high\":1,\"low\":0,\"palette\":[\"#3288bd\",\"#66c2a5\",\"#abdda4\",\"#e6f598\",\"#fee08b\",\"#fdae61\",\"#f46d43\",\"#d53e4f\"]},\"id\":\"6281\",\"type\":\"LinearColorMapper\"},{\"attributes\":{\"callback\":null},\"id\":\"6250\",\"type\":\"DataRange1d\"},{\"attributes\":{\"axis_label\":\"TPR\",\"formatter\":{\"id\":\"6531\",\"type\":\"BasicTickFormatter\"},\"ticker\":{\"id\":\"6262\",\"type\":\"BasicTicker\"}},\"id\":\"6261\",\"type\":\"LinearAxis\"},{\"attributes\":{},\"id\":\"6538\",\"type\":\"UnionRenderers\"},{\"attributes\":{},\"id\":\"6531\",\"type\":\"BasicTickFormatter\"},{\"attributes\":{\"fill_color\":{\"field\":\"thresholds\",\"transform\":{\"id\":\"6281\",\"type\":\"LinearColorMapper\"}},\"line_color\":{\"field\":\"thresholds\",\"transform\":{\"id\":\"6281\",\"type\":\"LinearColorMapper\"}},\"x\":{\"field\":\"fpr\"},\"y\":{\"field\":\"tpr\"}},\"id\":\"6290\",\"type\":\"Circle\"},{\"attributes\":{},\"id\":\"6270\",\"type\":\"ResetTool\"},{\"attributes\":{\"callback\":null},\"id\":\"6248\",\"type\":\"DataRange1d\"},{\"attributes\":{\"callback\":null,\"data\":{\"fpr\":{\"__ndarray__\":\"AAAAAAAAAAAAAAAAAAAAAAAAAAAAAAAAyJ0l7Oa3YD/InSXs5rdgP8idJezmt3A/yJ0l7Oa3cD+rbDhi2hN5P6tsOGLaE3k/yJ0l7Oa3gD/InSXs5reAP6tsOGLaE4k/q2w4YtoTiT8d1EEd1EGNPx3UQR3UQY0/yJ0l7Oa3kD/InSXs5reQPzkFL6fg5ZQ/OQUvp+DllD/yuLOE3fyWP/K4s4Td/JY/ZCC9P9cqmz9kIL0/1yqbPx3UQR3UQZ0/HdRBHdRBnT/Wh8b60FifP9aHxvrQWJ8/yJ0l7Oa3oD/InSXs5regP4FRqsnjzqI/gVGqyePOoj9dq2w4YtqjP12rbDhi2qM/OQUvp+DlpD85BS+n4OWkP/K4s4Td/KY/8rizhN38pj/PEnbzWwioP88SdvNbCKg/q2w4YtoTqT+rbDhi2hOpP2QgvT/XKqs/ZCC9P9cqqz9Ben+uVTasP0F6f65VNqw/+i0EjFJNrj/6LQSMUk2uP8idJezmt7A/yJ0l7Oa3sD+k9+daZcOxP6T351plw7E/b34LAaNUsz9vfgsBo1SzPxZf8RVf8bU/Fl/xFV/xtT+9P9cqG464P70/1yobjrg/ZCC9P9cquz9kIL0/1yq7Px3UQR3UQb0/HdRBHdRBvT8/NNaHxvrAPz801ofG+sA/tsqGI6Y9wT+2yoYjpj3BP29+CwGjVMM/b34LAaNUwz+xm99CwCjFP7Gb30LAKMU/jfWhsT40xj+N9aGxPjTGP7gQMEo1ecw/uBAwSjV5zD91UAd1UAfVP3VQB3VQB9U/oGuVDUdM2z+ga5UNR0zbPwm7+S0EjOI/Cbv5LQSM4j8AAAAAAADwPw==\",\"dtype\":\"float64\",\"shape\":[80]},\"index\":[0,1,2,3,4,5,6,7,8,9,10,11,12,13,14,15,16,17,18,19,20,21,22,23,24,25,26,27,28,29,30,31,32,33,34,35,36,37,38,39,40,41,42,43,44,45,46,47,48,49,50,51,52,53,54,55,56,57,58,59,60,61,62,63,64,65,66,67,68,69,70,71,72,73,74,75,76,77,78,79],\"thresholds\":{\"__ndarray__\":\"9RK3/////z/qJW7////vPzLg7Env/O8/x0qndNT87z+ixo1NzfnvP1vpFF6u+e8/nLhOEIbx7z+edmPxavHvP7REc/YT7u8/TGW9igbu7z8WXHFXpeHvP5F6VDtC4e8/8vbSoF237z84MW7jNbDvPyPY4z63OO8/4YkZ1WAy7z/q4FveZA/vP8Q/43bO/e4/D3T+j6+u7j//cf26uazuP00zjZsAj+4/OQGX4Pt/7j9VEs/evG/uP362zLgTbe4/ozAEk4Ff7j+jrwR5gELuPy4eB//FzO0/pF6opvXK7T/vJwDWQGjtP0rbkwKFu+w/IAlGh/2q7D8lby962KDsP4nNPPZJQes/v52H8rU36z/oufn5eirpP2xV11Ft8Og//r6sB/3I5z+hmHlZ9LvnP5366+Og7+Y/3tqnjHXs5j9e9MwNa47mP1gQ4Ip+2uU/1GPyptMI5T+QrPh1uunkPwYufwZpReM/wzRVcPIu4z+pGvQXPAriP62OEuajEOE/EP5BXYcZ4D85EPCPncrcP9b0CGEa5dU/a2pGbqbT0j9NEoI4T8jRP9bD0eRtRM4/HziNNdrizD8DSU+UMgnFP+ntk2CZccQ/GfEQV2jiwj+E+QgOyWDBPwgMqiacu7w/NzCwStHxuj+rVmSDzmSyP7jkkx1FN7I/Y5epz36psD+Il4d+XCywP1CRS/BNJaU/MyFyRwdNoz+20S/zl0CVP8omUvajq5Q/nN1ULqiOkD8CPyPuabGPP52sbe2B5nc/ciEphGfxdj/sCwtrt1xWPyibx0VXSlY/nn9dSIpvOj9G5+qf32g5P581+62z6Qg/pS6TU9jfCD8wE6DYBrRMPQ==\",\"dtype\":\"float64\",\"shape\":[80]},\"tpr\":{\"__ndarray__\":\"AAAAAAAAAAAQEBAQEBBgPxcXFxcXF9c/FxcXFxcX1z9cXFxcXFzcP1xcXFxcXNw/ISEhISEh4T8hISEhISHhP/Lx8fHx8eE/8vHx8fHx4T8UFBQUFBTkPxQUFBQUFOQ/x8bGxsbG5j/HxsbGxsbmP2lpaWlpaek/aWlpaWlp6T/q6enp6enpP+rp6enp6ek/enp6enp66j96enp6enrqP5uampqamuo/m5qampqa6j+rqqqqqqrqP6uqqqqqquo/u7q6urq66j+7urq6urrqPxsbGxsbG+s/GxsbGxsb6z+cm5ubm5vrP5ybm5ubm+s/vLu7u7u76z+8u7u7u7vrP1xcXFxcXOw/XFxcXFxc7D/9/Pz8/PzsP/38/Pz8/Ow/XV1dXV1d7T9dXV1dXV3tP46NjY2Nje0/jo2NjY2N7T+ura2tra3tP66tra2tre0/3t3d3d3d7T/e3d3d3d3tPw4ODg4ODu4/Dg4ODg4O7j8+Pj4+Pj7uPz4+Pj4+Pu4/fn5+fn5+7j9+fn5+fn7uP8/Ozs7Ozu4/z87Ozs7O7j/f3t7e3t7uP9/e3t7e3u4///7+/v7+7j///v7+/v7uPw8PDw8PD+8/Dw8PDw8P7z8/Pz8/Pz/vPz8/Pz8/P+8/X19fX19f7z9fX19fX1/vP29vb29vb+8/b29vb29v7z9/f39/f3/vP39/f39/f+8/oJ+fn5+f7z+gn5+fn5/vP7Cvr6+vr+8/sK+vr6+v7z/Av7+/v7/vP8C/v7+/v+8/0M/Pz8/P7z/Qz8/Pz8/vP+Df39/f3+8/4N/f39/f7z/w7+/v7+/vP/Dv7+/v7+8/AAAAAAAA8D8AAAAAAADwPw==\",\"dtype\":\"float64\",\"shape\":[80]}},\"selected\":{\"id\":\"6539\",\"type\":\"Selection\"},\"selection_policy\":{\"id\":\"6540\",\"type\":\"UnionRenderers\"}},\"id\":\"6288\",\"type\":\"ColumnDataSource\"},{\"attributes\":{},\"id\":\"6537\",\"type\":\"Selection\"},{\"attributes\":{\"text\":\"ROC Curve\"},\"id\":\"6246\",\"type\":\"Title\"},{\"attributes\":{},\"id\":\"6252\",\"type\":\"LinearScale\"},{\"attributes\":{\"data_source\":{\"id\":\"6282\",\"type\":\"ColumnDataSource\"},\"glyph\":{\"id\":\"6284\",\"type\":\"Line\"},\"hover_glyph\":null,\"muted_glyph\":null,\"nonselection_glyph\":{\"id\":\"6285\",\"type\":\"Line\"},\"selection_glyph\":null,\"view\":{\"id\":\"6287\",\"type\":\"CDSView\"}},\"id\":\"6286\",\"type\":\"GlyphRenderer\"},{\"attributes\":{},\"id\":\"6271\",\"type\":\"HelpTool\"},{\"attributes\":{\"data_source\":{\"id\":\"6288\",\"type\":\"ColumnDataSource\"},\"glyph\":{\"id\":\"6290\",\"type\":\"Circle\"},\"hover_glyph\":null,\"muted_glyph\":null,\"nonselection_glyph\":{\"id\":\"6291\",\"type\":\"Circle\"},\"selection_glyph\":null,\"view\":{\"id\":\"6293\",\"type\":\"CDSView\"}},\"id\":\"6292\",\"type\":\"GlyphRenderer\"},{\"attributes\":{\"overlay\":{\"id\":\"6541\",\"type\":\"BoxAnnotation\"}},\"id\":\"6268\",\"type\":\"BoxZoomTool\"},{\"attributes\":{\"bottom_units\":\"screen\",\"fill_alpha\":{\"value\":0.5},\"fill_color\":{\"value\":\"lightgrey\"},\"left_units\":\"screen\",\"level\":\"overlay\",\"line_alpha\":{\"value\":1.0},\"line_color\":{\"value\":\"black\"},\"line_dash\":[4,4],\"line_width\":{\"value\":2},\"render_mode\":\"css\",\"right_units\":\"screen\",\"top_units\":\"screen\"},\"id\":\"6541\",\"type\":\"BoxAnnotation\"},{\"attributes\":{\"fill_alpha\":{\"value\":0.1},\"fill_color\":{\"value\":\"#1f77b4\"},\"line_alpha\":{\"value\":0.1},\"line_color\":{\"value\":\"#1f77b4\"},\"x\":{\"field\":\"fpr\"},\"y\":{\"field\":\"tpr\"}},\"id\":\"6291\",\"type\":\"Circle\"},{\"attributes\":{\"color_mapper\":{\"id\":\"6281\",\"type\":\"LinearColorMapper\"},\"formatter\":{\"id\":\"6533\",\"type\":\"BasicTickFormatter\"},\"location\":[0,0],\"ticker\":{\"id\":\"6534\",\"type\":\"BasicTicker\"}},\"id\":\"6294\",\"type\":\"ColorBar\"},{\"attributes\":{},\"id\":\"6267\",\"type\":\"WheelZoomTool\"},{\"attributes\":{\"source\":{\"id\":\"6282\",\"type\":\"ColumnDataSource\"}},\"id\":\"6287\",\"type\":\"CDSView\"},{\"attributes\":{\"x\":{\"field\":\"fpr\"},\"y\":{\"field\":\"tpr\"}},\"id\":\"6284\",\"type\":\"Line\"},{\"attributes\":{},\"id\":\"6266\",\"type\":\"PanTool\"},{\"attributes\":{\"callback\":null,\"data\":{\"fpr\":{\"__ndarray__\":\"AAAAAAAAAAAAAAAAAAAAAAAAAAAAAAAAyJ0l7Oa3YD/InSXs5rdgP8idJezmt3A/yJ0l7Oa3cD+rbDhi2hN5P6tsOGLaE3k/yJ0l7Oa3gD/InSXs5reAP6tsOGLaE4k/q2w4YtoTiT8d1EEd1EGNPx3UQR3UQY0/yJ0l7Oa3kD/InSXs5reQPzkFL6fg5ZQ/OQUvp+DllD/yuLOE3fyWP/K4s4Td/JY/ZCC9P9cqmz9kIL0/1yqbPx3UQR3UQZ0/HdRBHdRBnT/Wh8b60FifP9aHxvrQWJ8/yJ0l7Oa3oD/InSXs5regP4FRqsnjzqI/gVGqyePOoj9dq2w4YtqjP12rbDhi2qM/OQUvp+DlpD85BS+n4OWkP/K4s4Td/KY/8rizhN38pj/PEnbzWwioP88SdvNbCKg/q2w4YtoTqT+rbDhi2hOpP2QgvT/XKqs/ZCC9P9cqqz9Ben+uVTasP0F6f65VNqw/+i0EjFJNrj/6LQSMUk2uP8idJezmt7A/yJ0l7Oa3sD+k9+daZcOxP6T351plw7E/b34LAaNUsz9vfgsBo1SzPxZf8RVf8bU/Fl/xFV/xtT+9P9cqG464P70/1yobjrg/ZCC9P9cquz9kIL0/1yq7Px3UQR3UQb0/HdRBHdRBvT8/NNaHxvrAPz801ofG+sA/tsqGI6Y9wT+2yoYjpj3BP29+CwGjVMM/b34LAaNUwz+xm99CwCjFP7Gb30LAKMU/jfWhsT40xj+N9aGxPjTGP7gQMEo1ecw/uBAwSjV5zD91UAd1UAfVP3VQB3VQB9U/oGuVDUdM2z+ga5UNR0zbPwm7+S0EjOI/Cbv5LQSM4j8AAAAAAADwPw==\",\"dtype\":\"float64\",\"shape\":[80]},\"index\":[0,1,2,3,4,5,6,7,8,9,10,11,12,13,14,15,16,17,18,19,20,21,22,23,24,25,26,27,28,29,30,31,32,33,34,35,36,37,38,39,40,41,42,43,44,45,46,47,48,49,50,51,52,53,54,55,56,57,58,59,60,61,62,63,64,65,66,67,68,69,70,71,72,73,74,75,76,77,78,79],\"thresholds\":{\"__ndarray__\":\"9RK3/////z/qJW7////vPzLg7Env/O8/x0qndNT87z+ixo1NzfnvP1vpFF6u+e8/nLhOEIbx7z+edmPxavHvP7REc/YT7u8/TGW9igbu7z8WXHFXpeHvP5F6VDtC4e8/8vbSoF237z84MW7jNbDvPyPY4z63OO8/4YkZ1WAy7z/q4FveZA/vP8Q/43bO/e4/D3T+j6+u7j//cf26uazuP00zjZsAj+4/OQGX4Pt/7j9VEs/evG/uP362zLgTbe4/ozAEk4Ff7j+jrwR5gELuPy4eB//FzO0/pF6opvXK7T/vJwDWQGjtP0rbkwKFu+w/IAlGh/2q7D8lby962KDsP4nNPPZJQes/v52H8rU36z/oufn5eirpP2xV11Ft8Og//r6sB/3I5z+hmHlZ9LvnP5366+Og7+Y/3tqnjHXs5j9e9MwNa47mP1gQ4Ip+2uU/1GPyptMI5T+QrPh1uunkPwYufwZpReM/wzRVcPIu4z+pGvQXPAriP62OEuajEOE/EP5BXYcZ4D85EPCPncrcP9b0CGEa5dU/a2pGbqbT0j9NEoI4T8jRP9bD0eRtRM4/HziNNdrizD8DSU+UMgnFP+ntk2CZccQ/GfEQV2jiwj+E+QgOyWDBPwgMqiacu7w/NzCwStHxuj+rVmSDzmSyP7jkkx1FN7I/Y5epz36psD+Il4d+XCywP1CRS/BNJaU/MyFyRwdNoz+20S/zl0CVP8omUvajq5Q/nN1ULqiOkD8CPyPuabGPP52sbe2B5nc/ciEphGfxdj/sCwtrt1xWPyibx0VXSlY/nn9dSIpvOj9G5+qf32g5P581+62z6Qg/pS6TU9jfCD8wE6DYBrRMPQ==\",\"dtype\":\"float64\",\"shape\":[80]},\"tpr\":{\"__ndarray__\":\"AAAAAAAAAAAQEBAQEBBgPxcXFxcXF9c/FxcXFxcX1z9cXFxcXFzcP1xcXFxcXNw/ISEhISEh4T8hISEhISHhP/Lx8fHx8eE/8vHx8fHx4T8UFBQUFBTkPxQUFBQUFOQ/x8bGxsbG5j/HxsbGxsbmP2lpaWlpaek/aWlpaWlp6T/q6enp6enpP+rp6enp6ek/enp6enp66j96enp6enrqP5uampqamuo/m5qampqa6j+rqqqqqqrqP6uqqqqqquo/u7q6urq66j+7urq6urrqPxsbGxsbG+s/GxsbGxsb6z+cm5ubm5vrP5ybm5ubm+s/vLu7u7u76z+8u7u7u7vrP1xcXFxcXOw/XFxcXFxc7D/9/Pz8/PzsP/38/Pz8/Ow/XV1dXV1d7T9dXV1dXV3tP46NjY2Nje0/jo2NjY2N7T+ura2tra3tP66tra2tre0/3t3d3d3d7T/e3d3d3d3tPw4ODg4ODu4/Dg4ODg4O7j8+Pj4+Pj7uPz4+Pj4+Pu4/fn5+fn5+7j9+fn5+fn7uP8/Ozs7Ozu4/z87Ozs7O7j/f3t7e3t7uP9/e3t7e3u4///7+/v7+7j///v7+/v7uPw8PDw8PD+8/Dw8PDw8P7z8/Pz8/Pz/vPz8/Pz8/P+8/X19fX19f7z9fX19fX1/vP29vb29vb+8/b29vb29v7z9/f39/f3/vP39/f39/f+8/oJ+fn5+f7z+gn5+fn5/vP7Cvr6+vr+8/sK+vr6+v7z/Av7+/v7/vP8C/v7+/v+8/0M/Pz8/P7z/Qz8/Pz8/vP+Df39/f3+8/4N/f39/f7z/w7+/v7+/vP/Dv7+/v7+8/AAAAAAAA8D8AAAAAAADwPw==\",\"dtype\":\"float64\",\"shape\":[80]}},\"selected\":{\"id\":\"6537\",\"type\":\"Selection\"},\"selection_policy\":{\"id\":\"6538\",\"type\":\"UnionRenderers\"}},\"id\":\"6282\",\"type\":\"ColumnDataSource\"},{\"attributes\":{\"line_alpha\":0.1,\"line_color\":\"#1f77b4\",\"x\":{\"field\":\"fpr\"},\"y\":{\"field\":\"tpr\"}},\"id\":\"6285\",\"type\":\"Line\"},{\"attributes\":{},\"id\":\"6534\",\"type\":\"BasicTicker\"},{\"attributes\":{\"active_drag\":\"auto\",\"active_inspect\":\"auto\",\"active_multi\":null,\"active_scroll\":\"auto\",\"active_tap\":\"auto\",\"tools\":[{\"id\":\"6266\",\"type\":\"PanTool\"},{\"id\":\"6267\",\"type\":\"WheelZoomTool\"},{\"id\":\"6268\",\"type\":\"BoxZoomTool\"},{\"id\":\"6269\",\"type\":\"SaveTool\"},{\"id\":\"6270\",\"type\":\"ResetTool\"},{\"id\":\"6271\",\"type\":\"HelpTool\"},{\"id\":\"6272\",\"type\":\"HoverTool\"}]},\"id\":\"6273\",\"type\":\"Toolbar\"},{\"attributes\":{\"callback\":null,\"tooltips\":[[\"threshold\",\"@thresholds\"]]},\"id\":\"6272\",\"type\":\"HoverTool\"},{\"attributes\":{\"source\":{\"id\":\"6288\",\"type\":\"ColumnDataSource\"}},\"id\":\"6293\",\"type\":\"CDSView\"},{\"attributes\":{},\"id\":\"6262\",\"type\":\"BasicTicker\"},{\"attributes\":{\"ticker\":{\"id\":\"6257\",\"type\":\"BasicTicker\"}},\"id\":\"6260\",\"type\":\"Grid\"}],\"root_ids\":[\"6245\"]},\"title\":\"Bokeh Application\",\"version\":\"1.3.4\"}};\n",
       "  var render_items = [{\"docid\":\"3e0bbfef-9571-4164-abeb-d0a7ed1fcf4d\",\"roots\":{\"6245\":\"d1150782-b86b-487d-9c2d-10541de1ec9a\"}}];\n",
       "  root.Bokeh.embed.embed_items_notebook(docs_json, render_items);\n",
       "\n",
       "  }\n",
       "  if (root.Bokeh !== undefined) {\n",
       "    embed_document(root);\n",
       "  } else {\n",
       "    var attempts = 0;\n",
       "    var timer = setInterval(function(root) {\n",
       "      if (root.Bokeh !== undefined) {\n",
       "        embed_document(root);\n",
       "        clearInterval(timer);\n",
       "      }\n",
       "      attempts++;\n",
       "      if (attempts > 100) {\n",
       "        console.log(\"Bokeh: ERROR: Unable to run BokehJS code because BokehJS library is missing\");\n",
       "        clearInterval(timer);\n",
       "      }\n",
       "    }, 10, root)\n",
       "  }\n",
       "})(window);"
      ],
      "application/vnd.bokehjs_exec.v0+json": ""
     },
     "metadata": {
      "application/vnd.bokehjs_exec.v0+json": {
       "id": "6245"
      }
     },
     "output_type": "display_data"
    }
   ],
   "source": [
    "source = pd.DataFrame({'tpr':tpr,'fpr':fpr,'thresholds':thresholds})\n",
    "roc = figure(title=\"ROC Curve\",tooltips=[(\"threshold\",\"@thresholds\")],x_axis_label='FPR',y_axis_label='TPR')\n",
    "mapper = linear_cmap(field_name='thresholds',palette=Spectral8,low=0,high=1)\n",
    "roc.line(x='fpr',y='tpr',source=source,line_width=1,color='black')\n",
    "roc.circle(x='fpr',y='tpr',source=source,color=mapper)\n",
    "color_bar = ColorBar(color_mapper=mapper['transform'],location=(0,0))\n",
    "roc.add_layout(color_bar,'right')\n",
    "show(roc)"
   ]
  },
  {
   "cell_type": "markdown",
   "metadata": {},
   "source": [
    "## Area under the ROC curve"
   ]
  },
  {
   "cell_type": "markdown",
   "metadata": {},
   "source": [
    "One final measure of the accuracy of a (threshold-based) classifier is the **area under the ROC curve**. The larger this is, the better the performance of the classifier regardless of the threshold."
   ]
  },
  {
   "cell_type": "code",
   "execution_count": 80,
   "metadata": {},
   "outputs": [
    {
     "data": {
      "text/plain": [
       "0.9834053621448579"
      ]
     },
     "execution_count": 80,
     "metadata": {},
     "output_type": "execute_result"
    }
   ],
   "source": [
    "roc_auc_score(true,scores[:,1])"
   ]
  }
 ],
 "metadata": {
  "kernelspec": {
   "display_name": "Python 3",
   "language": "python",
   "name": "python3"
  },
  "language_info": {
   "codemirror_mode": {
    "name": "ipython",
    "version": 3
   },
   "file_extension": ".py",
   "mimetype": "text/x-python",
   "name": "python",
   "nbconvert_exporter": "python",
   "pygments_lexer": "ipython3",
   "version": "3.7.4"
  }
 },
 "nbformat": 4,
 "nbformat_minor": 4
}
